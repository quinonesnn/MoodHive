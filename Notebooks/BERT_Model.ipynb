{
  "cells": [
    {
      "cell_type": "markdown",
      "metadata": {
        "id": "YntdfBea-24e"
      },
      "source": [
        "# Introduction"
      ]
    },
    {
      "cell_type": "markdown",
      "metadata": {
        "id": "bmJO_oLA2ejV"
      },
      "source": [
        "# 1 - Importing libraries and loading data"
      ]
    },
    {
      "cell_type": "markdown",
      "metadata": {
        "id": "maR0coq3F5rp"
      },
      "source": [
        "## 1.1 - Installing and importing libraries"
      ]
    },
    {
      "cell_type": "markdown",
      "metadata": {
        "id": "z-WkRpzNBKRZ"
      },
      "source": [
        "First, let's install the `transformers` library which contains thousands of pre-trained models, including BERT."
      ]
    },
    {
      "cell_type": "code",
      "execution_count": null,
      "metadata": {
        "colab": {
          "base_uri": "https://localhost:8080/"
        },
        "id": "3E2AKlZ1kzNa",
        "outputId": "3caeb2ab-d4b6-49a3-e9cc-1287ec9f96c5"
      },
      "outputs": [
        {
          "output_type": "stream",
          "name": "stdout",
          "text": [
            "Looking in indexes: https://pypi.org/simple, https://us-python.pkg.dev/colab-wheels/public/simple/\n",
            "Collecting transformers\n",
            "  Downloading transformers-4.27.4-py3-none-any.whl (6.8 MB)\n",
            "\u001b[2K     \u001b[90m━━━━━━━━━━━━━━━━━━━━━━━━━━━━━━━━━━━━━━━━\u001b[0m \u001b[32m6.8/6.8 MB\u001b[0m \u001b[31m43.4 MB/s\u001b[0m eta \u001b[36m0:00:00\u001b[0m\n",
            "\u001b[?25hRequirement already satisfied: filelock in /usr/local/lib/python3.9/dist-packages (from transformers) (3.10.7)\n",
            "Requirement already satisfied: packaging>=20.0 in /usr/local/lib/python3.9/dist-packages (from transformers) (23.0)\n",
            "Requirement already satisfied: regex!=2019.12.17 in /usr/local/lib/python3.9/dist-packages (from transformers) (2022.10.31)\n",
            "Requirement already satisfied: tqdm>=4.27 in /usr/local/lib/python3.9/dist-packages (from transformers) (4.65.0)\n",
            "Requirement already satisfied: numpy>=1.17 in /usr/local/lib/python3.9/dist-packages (from transformers) (1.24.2)\n",
            "Requirement already satisfied: pyyaml>=5.1 in /usr/local/lib/python3.9/dist-packages (from transformers) (6.0)\n",
            "Collecting tokenizers!=0.11.3,<0.14,>=0.11.1\n",
            "  Downloading tokenizers-0.13.3-cp39-cp39-manylinux_2_17_x86_64.manylinux2014_x86_64.whl (7.8 MB)\n",
            "\u001b[2K     \u001b[90m━━━━━━━━━━━━━━━━━━━━━━━━━━━━━━━━━━━━━━━━\u001b[0m \u001b[32m7.8/7.8 MB\u001b[0m \u001b[31m56.7 MB/s\u001b[0m eta \u001b[36m0:00:00\u001b[0m\n",
            "\u001b[?25hRequirement already satisfied: requests in /usr/local/lib/python3.9/dist-packages (from transformers) (2.27.1)\n",
            "Collecting huggingface-hub<1.0,>=0.11.0\n",
            "  Downloading huggingface_hub-0.13.3-py3-none-any.whl (199 kB)\n",
            "\u001b[2K     \u001b[90m━━━━━━━━━━━━━━━━━━━━━━━━━━━━━━━━━━━━━━\u001b[0m \u001b[32m199.8/199.8 KB\u001b[0m \u001b[31m20.5 MB/s\u001b[0m eta \u001b[36m0:00:00\u001b[0m\n",
            "\u001b[?25hRequirement already satisfied: typing-extensions>=3.7.4.3 in /usr/local/lib/python3.9/dist-packages (from huggingface-hub<1.0,>=0.11.0->transformers) (4.5.0)\n",
            "Requirement already satisfied: charset-normalizer~=2.0.0 in /usr/local/lib/python3.9/dist-packages (from requests->transformers) (2.0.12)\n",
            "Requirement already satisfied: urllib3<1.27,>=1.21.1 in /usr/local/lib/python3.9/dist-packages (from requests->transformers) (1.26.15)\n",
            "Requirement already satisfied: idna<4,>=2.5 in /usr/local/lib/python3.9/dist-packages (from requests->transformers) (3.4)\n",
            "Requirement already satisfied: certifi>=2017.4.17 in /usr/local/lib/python3.9/dist-packages (from requests->transformers) (2022.12.7)\n",
            "Installing collected packages: tokenizers, huggingface-hub, transformers\n",
            "Successfully installed huggingface-hub-0.13.3 tokenizers-0.13.3 transformers-4.27.4\n",
            "Looking in indexes: https://pypi.org/simple, https://us-python.pkg.dev/colab-wheels/public/simple/\n",
            "Collecting emoji\n",
            "  Downloading emoji-2.2.0.tar.gz (240 kB)\n",
            "\u001b[2K     \u001b[90m━━━━━━━━━━━━━━━━━━━━━━━━━━━━━━━━━━━━━━━\u001b[0m \u001b[32m240.9/240.9 KB\u001b[0m \u001b[31m6.0 MB/s\u001b[0m eta \u001b[36m0:00:00\u001b[0m\n",
            "\u001b[?25h  Preparing metadata (setup.py) ... \u001b[?25l\u001b[?25hdone\n",
            "Building wheels for collected packages: emoji\n",
            "  Building wheel for emoji (setup.py) ... \u001b[?25l\u001b[?25hdone\n",
            "  Created wheel for emoji: filename=emoji-2.2.0-py3-none-any.whl size=234926 sha256=1374e7df65a74ac671fef2b7bc98c2ca8fdc9a91529c14f71cb97ff7f1958cdc\n",
            "  Stored in directory: /root/.cache/pip/wheels/9a/b8/0f/f580817231cbf59f6ade9fd132ff60ada1de9f7dc85521f857\n",
            "Successfully built emoji\n",
            "Installing collected packages: emoji\n",
            "Successfully installed emoji-2.2.0\n",
            "Looking in indexes: https://pypi.org/simple, https://us-python.pkg.dev/colab-wheels/public/simple/\n",
            "Collecting contractions\n",
            "  Downloading contractions-0.1.73-py2.py3-none-any.whl (8.7 kB)\n",
            "Collecting textsearch>=0.0.21\n",
            "  Downloading textsearch-0.0.24-py2.py3-none-any.whl (7.6 kB)\n",
            "Collecting pyahocorasick\n",
            "  Downloading pyahocorasick-2.0.0-cp39-cp39-manylinux_2_5_x86_64.manylinux1_x86_64.whl (103 kB)\n",
            "\u001b[2K     \u001b[90m━━━━━━━━━━━━━━━━━━━━━━━━━━━━━━━━━━━━━━━\u001b[0m \u001b[32m103.2/103.2 KB\u001b[0m \u001b[31m4.1 MB/s\u001b[0m eta \u001b[36m0:00:00\u001b[0m\n",
            "\u001b[?25hCollecting anyascii\n",
            "  Downloading anyascii-0.3.2-py3-none-any.whl (289 kB)\n",
            "\u001b[2K     \u001b[90m━━━━━━━━━━━━━━━━━━━━━━━━━━━━━━━━━━━━━━\u001b[0m \u001b[32m289.9/289.9 KB\u001b[0m \u001b[31m14.7 MB/s\u001b[0m eta \u001b[36m0:00:00\u001b[0m\n",
            "\u001b[?25hInstalling collected packages: pyahocorasick, anyascii, textsearch, contractions\n",
            "Successfully installed anyascii-0.3.2 contractions-0.1.73 pyahocorasick-2.0.0 textsearch-0.0.24\n"
          ]
        }
      ],
      "source": [
        "!pip install transformers\n",
        "!pip install emoji\n",
        "!pip install contractions"
      ]
    },
    {
      "cell_type": "code",
      "execution_count": null,
      "metadata": {
        "id": "_wBm5n-nd3mz"
      },
      "outputs": [],
      "source": [
        "# Data manipulation libraries\n",
        "import sys, os\n",
        "import pandas as pd\n",
        "import numpy as np\n",
        "import json\n",
        "\n",
        "import emoji\n",
        "import contractions\n",
        "import re\n",
        "\n",
        "# Scikit-learn packages\n",
        "from sklearn.metrics import accuracy_score\n",
        "from sklearn.metrics import precision_recall_fscore_support\n",
        "from sklearn.utils.class_weight import compute_class_weight\n",
        "\n",
        "# Packages to define a BERT model\n",
        "from transformers import TFBertModel, BertTokenizerFast, BertConfig\n",
        "\n",
        "# Keras and TensorFlow packages\n",
        "import tensorflow as tf\n",
        "from tensorflow import keras\n",
        "from tensorflow.keras import layers\n",
        "from keras import backend as K\n",
        "from tensorflow.keras.layers import Input, Dropout, Dense\n",
        "from tensorflow.keras.models import Model\n",
        "from tensorflow.keras.optimizers import Adam\n",
        "from tensorflow.keras.initializers import TruncatedNormal"
      ]
    },
    {
      "cell_type": "markdown",
      "metadata": {
        "id": "v6SjRuZCGQq7"
      },
      "source": [
        "## 1.2 - Loading datasets and lists of emotions"
      ]
    },
    {
      "cell_type": "markdown",
      "metadata": {
        "id": "C4GNLM5oEOKu"
      },
      "source": [
        "First, let's load our clean data."
      ]
    },
    {
      "cell_type": "code",
      "execution_count": null,
      "metadata": {
        "colab": {
          "base_uri": "https://localhost:8080/"
        },
        "id": "ZbkMswVovlBt",
        "outputId": "6ef2256e-b46f-42d0-89c9-29b25a450e0a"
      },
      "outputs": [
        {
          "output_type": "stream",
          "name": "stdout",
          "text": [
            "Mounted at /content/drive\n"
          ]
        }
      ],
      "source": [
        "from google.colab import drive\n",
        "drive.mount('/content/drive')"
      ]
    },
    {
      "cell_type": "code",
      "execution_count": null,
      "metadata": {
        "colab": {
          "base_uri": "https://localhost:8080/"
        },
        "id": "kXcnOj1nlnrb",
        "outputId": "5d167920-3c72-4d39-b1d7-66668bb9e7c4"
      },
      "outputs": [
        {
          "output_type": "stream",
          "name": "stdout",
          "text": [
            "(43410, 29)\n",
            "(5426, 29)\n",
            "(5427, 29)\n"
          ]
        }
      ],
      "source": [
        "# Importing train, validation and test datasets with preprocessed texts and labels\n",
        "train_GE = pd.read_csv(\"/content/drive/MyDrive/MoodHive/Data/train_clean.csv\")\n",
        "val_GE = pd.read_csv(\"/content/drive/MyDrive/MoodHive/Data/val_clean.csv\")\n",
        "test_GE = pd.read_csv(\"/content/drive/MyDrive/MoodHive/Data/test_clean.csv\")\n",
        "\n",
        "# Shape validation\n",
        "print(train_GE.shape)\n",
        "print(val_GE.shape)\n",
        "print(test_GE.shape)"
      ]
    },
    {
      "cell_type": "markdown",
      "metadata": {
        "id": "LpawvOCVEgCd"
      },
      "source": [
        "Let's also load the lists of emotions from GoEmotions and Ekman taxonomies **excluding the the 'Neutral' emotion** this time."
      ]
    },
    {
      "cell_type": "code",
      "execution_count": null,
      "metadata": {
        "colab": {
          "base_uri": "https://localhost:8080/"
        },
        "id": "HKI8gFsUEayQ",
        "outputId": "296fbf86-38d3-4a55-bc04-86294b275543"
      },
      "outputs": [
        {
          "output_type": "stream",
          "name": "stdout",
          "text": [
            "Emotions on GoEmotions taxonomy are : \n",
            "['admiration', 'amusement', 'anger', 'annoyance', 'approval', 'caring', 'confusion', 'curiosity', 'desire', 'disappointment', 'disapproval', 'disgust', 'embarrassment', 'excitement', 'fear', 'gratitude', 'grief', 'joy', 'love', 'nervousness', 'optimism', 'pride', 'realization', 'relief', 'remorse', 'sadness', 'surprise']\n",
            "\n",
            "Emotions on Ekman taxonomy are : \n",
            "['anger', 'disgust', 'fear', 'joy', 'sadness', 'surprise', '']\n"
          ]
        }
      ],
      "source": [
        "# Loading emotion labels for GoEmotions taxonomy\n",
        "with open(\"/content/drive/MyDrive/MoodHive/Data/emotions.txt\", \"r\") as file:\n",
        "    GE_taxonomy = file.read().split(\"\\n\")\n",
        "GE_taxonomy.remove('neutral')\n",
        "print(\"Emotions on GoEmotions taxonomy are : \\n{}\".format(GE_taxonomy))\n",
        "\n",
        "print()\n",
        "\n",
        "# Loading emotion labels for Ekman taxonomy\n",
        "with open(\"/content/drive/MyDrive/MoodHive/Data/ekman_labels.txt\", \"r\") as file:\n",
        "    Ekman_taxonomy = file.read().split(\"\\n\")\n",
        "Ekman_taxonomy.remove('neutral')\n",
        "print(\"Emotions on Ekman taxonomy are : \\n{}\".format(Ekman_taxonomy))"
      ]
    },
    {
      "cell_type": "markdown",
      "metadata": {
        "id": "ySfCRmWXQB3D"
      },
      "source": [
        "## 1.3 - Filtering out the 'Neutral' only samples"
      ]
    },
    {
      "cell_type": "markdown",
      "metadata": {
        "id": "7e2ZikRMQLhg"
      },
      "source": [
        "First, we need to drop the 'Neutral' emotion from all datasets."
      ]
    },
    {
      "cell_type": "code",
      "execution_count": null,
      "metadata": {
        "id": "-ueyGMWoQAdN"
      },
      "outputs": [],
      "source": [
        "train_GE = train_GE.drop(columns=['neutral'])\n",
        "val_GE = val_GE.drop(columns=['neutral'])\n",
        "test_GE = test_GE.drop(columns=['neutral'])"
      ]
    },
    {
      "cell_type": "markdown",
      "metadata": {
        "id": "nD-C7i2EQXqL"
      },
      "source": [
        "Then, we need remove all the samples that have been left without a label."
      ]
    },
    {
      "cell_type": "code",
      "execution_count": null,
      "metadata": {
        "colab": {
          "base_uri": "https://localhost:8080/"
        },
        "id": "LX2MtKYhRWbu",
        "outputId": "0095ec7f-6f2d-4e26-b382-1ddd2fd44553"
      },
      "outputs": [
        {
          "output_type": "stream",
          "name": "stdout",
          "text": [
            "(30587, 28)\n",
            "(3834, 28)\n",
            "(3821, 28)\n"
          ]
        }
      ],
      "source": [
        "# Removing samples with only 0 in their labels\n",
        "train_GE = train_GE.loc[ train_GE.apply(lambda x: sum(x[1:]), axis=1)>0 ]\n",
        "val_GE = val_GE.loc[ val_GE.apply(lambda x: sum(x[1:]), axis=1)>0 ]\n",
        "test_GE = test_GE.loc[ test_GE.apply(lambda x: sum(x[1:]), axis=1)>0 ]\n",
        "\n",
        "# Shape validation\n",
        "print(train_GE.shape)\n",
        "print(val_GE.shape)\n",
        "print(test_GE.shape)"
      ]
    },
    {
      "cell_type": "code",
      "execution_count": null,
      "metadata": {
        "colab": {
          "base_uri": "https://localhost:8080/",
          "height": 217
        },
        "id": "jQTYvnE5RzM0",
        "outputId": "d25e19b6-d4b6-4513-eeeb-3bed5c72961e"
      },
      "outputs": [
        {
          "output_type": "display_data",
          "data": {
            "text/plain": [
              "                       Clean_text  admiration  amusement  anger  annoyance  \\\n",
              "2  why the fuck is bayless isoing           0          0      1          0   \n",
              "3     to make her feel threatened           0          0      0          0   \n",
              "4          dirty southern wankers           0          0      0          1   \n",
              "\n",
              "   approval  caring  confusion  curiosity  desire  ...  joy  love  \\\n",
              "2         0       0          0          0       0  ...    0     0   \n",
              "3         0       0          0          0       0  ...    0     0   \n",
              "4         0       0          0          0       0  ...    0     0   \n",
              "\n",
              "   nervousness  optimism  pride  realization  relief  remorse  sadness  \\\n",
              "2            0         0      0            0       0        0        0   \n",
              "3            0         0      0            0       0        0        0   \n",
              "4            0         0      0            0       0        0        0   \n",
              "\n",
              "   surprise  \n",
              "2         0  \n",
              "3         0  \n",
              "4         0  \n",
              "\n",
              "[3 rows x 28 columns]"
            ],
            "text/html": [
              "\n",
              "  <div id=\"df-fcdebfae-42ee-403f-8fb5-21bdb2ee70ab\">\n",
              "    <div class=\"colab-df-container\">\n",
              "      <div>\n",
              "<style scoped>\n",
              "    .dataframe tbody tr th:only-of-type {\n",
              "        vertical-align: middle;\n",
              "    }\n",
              "\n",
              "    .dataframe tbody tr th {\n",
              "        vertical-align: top;\n",
              "    }\n",
              "\n",
              "    .dataframe thead th {\n",
              "        text-align: right;\n",
              "    }\n",
              "</style>\n",
              "<table border=\"1\" class=\"dataframe\">\n",
              "  <thead>\n",
              "    <tr style=\"text-align: right;\">\n",
              "      <th></th>\n",
              "      <th>Clean_text</th>\n",
              "      <th>admiration</th>\n",
              "      <th>amusement</th>\n",
              "      <th>anger</th>\n",
              "      <th>annoyance</th>\n",
              "      <th>approval</th>\n",
              "      <th>caring</th>\n",
              "      <th>confusion</th>\n",
              "      <th>curiosity</th>\n",
              "      <th>desire</th>\n",
              "      <th>...</th>\n",
              "      <th>joy</th>\n",
              "      <th>love</th>\n",
              "      <th>nervousness</th>\n",
              "      <th>optimism</th>\n",
              "      <th>pride</th>\n",
              "      <th>realization</th>\n",
              "      <th>relief</th>\n",
              "      <th>remorse</th>\n",
              "      <th>sadness</th>\n",
              "      <th>surprise</th>\n",
              "    </tr>\n",
              "  </thead>\n",
              "  <tbody>\n",
              "    <tr>\n",
              "      <th>2</th>\n",
              "      <td>why the fuck is bayless isoing</td>\n",
              "      <td>0</td>\n",
              "      <td>0</td>\n",
              "      <td>1</td>\n",
              "      <td>0</td>\n",
              "      <td>0</td>\n",
              "      <td>0</td>\n",
              "      <td>0</td>\n",
              "      <td>0</td>\n",
              "      <td>0</td>\n",
              "      <td>...</td>\n",
              "      <td>0</td>\n",
              "      <td>0</td>\n",
              "      <td>0</td>\n",
              "      <td>0</td>\n",
              "      <td>0</td>\n",
              "      <td>0</td>\n",
              "      <td>0</td>\n",
              "      <td>0</td>\n",
              "      <td>0</td>\n",
              "      <td>0</td>\n",
              "    </tr>\n",
              "    <tr>\n",
              "      <th>3</th>\n",
              "      <td>to make her feel threatened</td>\n",
              "      <td>0</td>\n",
              "      <td>0</td>\n",
              "      <td>0</td>\n",
              "      <td>0</td>\n",
              "      <td>0</td>\n",
              "      <td>0</td>\n",
              "      <td>0</td>\n",
              "      <td>0</td>\n",
              "      <td>0</td>\n",
              "      <td>...</td>\n",
              "      <td>0</td>\n",
              "      <td>0</td>\n",
              "      <td>0</td>\n",
              "      <td>0</td>\n",
              "      <td>0</td>\n",
              "      <td>0</td>\n",
              "      <td>0</td>\n",
              "      <td>0</td>\n",
              "      <td>0</td>\n",
              "      <td>0</td>\n",
              "    </tr>\n",
              "    <tr>\n",
              "      <th>4</th>\n",
              "      <td>dirty southern wankers</td>\n",
              "      <td>0</td>\n",
              "      <td>0</td>\n",
              "      <td>0</td>\n",
              "      <td>1</td>\n",
              "      <td>0</td>\n",
              "      <td>0</td>\n",
              "      <td>0</td>\n",
              "      <td>0</td>\n",
              "      <td>0</td>\n",
              "      <td>...</td>\n",
              "      <td>0</td>\n",
              "      <td>0</td>\n",
              "      <td>0</td>\n",
              "      <td>0</td>\n",
              "      <td>0</td>\n",
              "      <td>0</td>\n",
              "      <td>0</td>\n",
              "      <td>0</td>\n",
              "      <td>0</td>\n",
              "      <td>0</td>\n",
              "    </tr>\n",
              "  </tbody>\n",
              "</table>\n",
              "<p>3 rows × 28 columns</p>\n",
              "</div>\n",
              "      <button class=\"colab-df-convert\" onclick=\"convertToInteractive('df-fcdebfae-42ee-403f-8fb5-21bdb2ee70ab')\"\n",
              "              title=\"Convert this dataframe to an interactive table.\"\n",
              "              style=\"display:none;\">\n",
              "        \n",
              "  <svg xmlns=\"http://www.w3.org/2000/svg\" height=\"24px\"viewBox=\"0 0 24 24\"\n",
              "       width=\"24px\">\n",
              "    <path d=\"M0 0h24v24H0V0z\" fill=\"none\"/>\n",
              "    <path d=\"M18.56 5.44l.94 2.06.94-2.06 2.06-.94-2.06-.94-.94-2.06-.94 2.06-2.06.94zm-11 1L8.5 8.5l.94-2.06 2.06-.94-2.06-.94L8.5 2.5l-.94 2.06-2.06.94zm10 10l.94 2.06.94-2.06 2.06-.94-2.06-.94-.94-2.06-.94 2.06-2.06.94z\"/><path d=\"M17.41 7.96l-1.37-1.37c-.4-.4-.92-.59-1.43-.59-.52 0-1.04.2-1.43.59L10.3 9.45l-7.72 7.72c-.78.78-.78 2.05 0 2.83L4 21.41c.39.39.9.59 1.41.59.51 0 1.02-.2 1.41-.59l7.78-7.78 2.81-2.81c.8-.78.8-2.07 0-2.86zM5.41 20L4 18.59l7.72-7.72 1.47 1.35L5.41 20z\"/>\n",
              "  </svg>\n",
              "      </button>\n",
              "      \n",
              "  <style>\n",
              "    .colab-df-container {\n",
              "      display:flex;\n",
              "      flex-wrap:wrap;\n",
              "      gap: 12px;\n",
              "    }\n",
              "\n",
              "    .colab-df-convert {\n",
              "      background-color: #E8F0FE;\n",
              "      border: none;\n",
              "      border-radius: 50%;\n",
              "      cursor: pointer;\n",
              "      display: none;\n",
              "      fill: #1967D2;\n",
              "      height: 32px;\n",
              "      padding: 0 0 0 0;\n",
              "      width: 32px;\n",
              "    }\n",
              "\n",
              "    .colab-df-convert:hover {\n",
              "      background-color: #E2EBFA;\n",
              "      box-shadow: 0px 1px 2px rgba(60, 64, 67, 0.3), 0px 1px 3px 1px rgba(60, 64, 67, 0.15);\n",
              "      fill: #174EA6;\n",
              "    }\n",
              "\n",
              "    [theme=dark] .colab-df-convert {\n",
              "      background-color: #3B4455;\n",
              "      fill: #D2E3FC;\n",
              "    }\n",
              "\n",
              "    [theme=dark] .colab-df-convert:hover {\n",
              "      background-color: #434B5C;\n",
              "      box-shadow: 0px 1px 3px 1px rgba(0, 0, 0, 0.15);\n",
              "      filter: drop-shadow(0px 1px 2px rgba(0, 0, 0, 0.3));\n",
              "      fill: #FFFFFF;\n",
              "    }\n",
              "  </style>\n",
              "\n",
              "      <script>\n",
              "        const buttonEl =\n",
              "          document.querySelector('#df-fcdebfae-42ee-403f-8fb5-21bdb2ee70ab button.colab-df-convert');\n",
              "        buttonEl.style.display =\n",
              "          google.colab.kernel.accessAllowed ? 'block' : 'none';\n",
              "\n",
              "        async function convertToInteractive(key) {\n",
              "          const element = document.querySelector('#df-fcdebfae-42ee-403f-8fb5-21bdb2ee70ab');\n",
              "          const dataTable =\n",
              "            await google.colab.kernel.invokeFunction('convertToInteractive',\n",
              "                                                     [key], {});\n",
              "          if (!dataTable) return;\n",
              "\n",
              "          const docLinkHtml = 'Like what you see? Visit the ' +\n",
              "            '<a target=\"_blank\" href=https://colab.research.google.com/notebooks/data_table.ipynb>data table notebook</a>'\n",
              "            + ' to learn more about interactive tables.';\n",
              "          element.innerHTML = '';\n",
              "          dataTable['output_type'] = 'display_data';\n",
              "          await google.colab.output.renderOutput(dataTable, element);\n",
              "          const docLink = document.createElement('div');\n",
              "          docLink.innerHTML = docLinkHtml;\n",
              "          element.appendChild(docLink);\n",
              "        }\n",
              "      </script>\n",
              "    </div>\n",
              "  </div>\n",
              "  "
            ]
          },
          "metadata": {}
        }
      ],
      "source": [
        "# Preview of data\n",
        "display(train_GE.head(3))"
      ]
    },
    {
      "cell_type": "markdown",
      "metadata": {
        "id": "hl17G9t6UBzc"
      },
      "source": [
        "Doing so, we have **decreased the number of samples by nearly 30%** of the original data."
      ]
    },
    {
      "cell_type": "markdown",
      "metadata": {
        "id": "yHTh1kSTHOQ7"
      },
      "source": [
        "#2 - Modeling : BERT (Bidirectional Encoder Representations from Transformers)"
      ]
    },
    {
      "cell_type": "markdown",
      "metadata": {
        "id": "JwNGgNJ8Gx_X"
      },
      "source": [
        "Now we can go ahead and start defining our BERT-based model."
      ]
    },
    {
      "cell_type": "markdown",
      "metadata": {
        "id": "hjvKpAysH1a3"
      },
      "source": [
        "##2.1 - Configuration of the base model"
      ]
    },
    {
      "cell_type": "markdown",
      "metadata": {
        "id": "W-8Fdf8PHC8d"
      },
      "source": [
        "First of all, let's define a `max_length` variable. This variable sets a fixed length of sequences to be fed to our model. Therefore, sequences will be either truncated if larger than this value, or completed using padding if smaller. To avoid truncating, we fix this value according to the largest sample of our data."
      ]
    },
    {
      "cell_type": "code",
      "execution_count": null,
      "metadata": {
        "colab": {
          "base_uri": "https://localhost:8080/"
        },
        "id": "BBY58cNul4aH",
        "outputId": "f4251819-2dad-4bad-a331-248514d66974"
      },
      "outputs": [
        {
          "output_type": "execute_result",
          "data": {
            "text/plain": [
              "48"
            ]
          },
          "metadata": {},
          "execution_count": 10
        }
      ],
      "source": [
        "# Computing max length of samples\n",
        "full_text = pd.concat([train_GE['Clean_text'], val_GE['Clean_text'], test_GE['Clean_text']])\n",
        "max_length = full_text.apply(lambda x: len(x.split())).max()\n",
        "max_length"
      ]
    },
    {
      "cell_type": "markdown",
      "metadata": {
        "id": "sdTKxbwTH8SF"
      },
      "source": [
        "We are going to use BERT's base model which contains almost 110 M trainable parameters. \n",
        "\n",
        "Also, in order to match the tokenization and vocabulary used during the training, we are going to use a BERT tokenizer."
      ]
    },
    {
      "cell_type": "code",
      "execution_count": null,
      "metadata": {
        "colab": {
          "base_uri": "https://localhost:8080/",
          "height": 289,
          "referenced_widgets": [
            "b15c0897c3e84a2ca780a96f8c126644",
            "e2704b9023024a6e8e13c404115f7c79",
            "ded98ac8769645bab73b0cc758f9cb86",
            "515b9273dc8443be8eb0ff291c340e68",
            "dbcd56bee4d84e4c9434f1e966ff62c4",
            "adb285c1b8e446f08c033f8333bff7c1",
            "ba2e9714f6a345ec9667d84d6b61fdaf",
            "ddcb37e6261448a083cac8a261997c4b",
            "19393682cdc549cb97a89a1a1e541b02",
            "e0998bbd5e5a4fed856ab007ecc7f7b2",
            "901c2ff0d14c4f9ea092425f2ec51bc6",
            "51094397dd8d4f19a0a89a43b09452b0",
            "c366e4606fd14b539c528a8cd45111f8",
            "d015e39ca97846788c48340bd0ba313e",
            "ca4171c00566435fa26b7180237f9ae7",
            "19fd240487e648c39721c5acd38af0dd",
            "5b771be346ab447d9382fab83961bed6",
            "bd193d957e2c429a84c1cd0835132be2",
            "f4c2b5773fc844168d63752fd15ec34d",
            "9c8eba7cf7ec4736b0889976725e4be8",
            "1092975d6a6f41a9a29a1aa3ff18bdf6",
            "922002ce1fca4823ac0fe36aa46aa040",
            "7986506f6de64513a6f561a3b413f2ac",
            "0a01e4e5f04f4fa28ebd21968209496b",
            "2f45069e2bdf408e89c9b8241b4ed601",
            "79997ae248f84da0812e7a7363ca96ec",
            "087fec0059254ba5aca5c1618df1501f",
            "fd68cc312982488baaff2812aa23093d",
            "b3465ab19b8d458696d89b3e64bbd9f1",
            "da3343d4e54c4d578dfc90042c367d13",
            "e032658bb5d04e57815d54f21834eeef",
            "072274be8f304a2684c41538d2690616",
            "bbe1b23f1d15408e9950df3de300748b",
            "42d964808636424f8be454210a81fbff",
            "ba78ed4f640d4daeb21fa0114d48f185",
            "110a33551cc74711a8f283172eea589c",
            "60864c5a2f3a4e279fa68ab4d9dbf6fa",
            "fb3d2b80b8aa4c1badfdabcdfaa4355d",
            "98e50616180d4de69b0c8dcb355957bb",
            "2f6c74ae1d8442ffba034f59711d1d32",
            "ddd6de6d3f3f46e8afee4537c3de7f87",
            "9fa2d7fe3c244aa69b7ce848d6a9816b",
            "fa65ce5c8d944192bee49072f0387ead",
            "7c5f0e90aa754b9798824360ee36045a",
            "4560d360aec347bb976a0acb5cc9da17",
            "71f3a5be24814dab88b1a465eddeede9",
            "80b4bef07fae42cfac84e17746cbf825",
            "aeea928323494f7b9e9f0c1ddc134032",
            "da25b45e3b7444fdac87894adf521745",
            "7782f4b951c6437d912c75f22434afff",
            "626a0882a0ec4ad89198d02fa30ede3d",
            "a707f71344904397ae899597af56236e",
            "24ccb12119a948b3b42a41025a2e90ed",
            "2ddf3c05c9864e3bb47f2973e6709694",
            "d5ba01540a81443eb49e761ee88b0df3"
          ]
        },
        "id": "867vqvnTmI_F",
        "outputId": "b8a05000-4624-44d1-b99b-8a166f197f2c"
      },
      "outputs": [
        {
          "output_type": "display_data",
          "data": {
            "text/plain": [
              "Downloading (…)lve/main/config.json:   0%|          | 0.00/570 [00:00<?, ?B/s]"
            ],
            "application/vnd.jupyter.widget-view+json": {
              "version_major": 2,
              "version_minor": 0,
              "model_id": "b15c0897c3e84a2ca780a96f8c126644"
            }
          },
          "metadata": {}
        },
        {
          "output_type": "display_data",
          "data": {
            "text/plain": [
              "Downloading (…)okenizer_config.json:   0%|          | 0.00/28.0 [00:00<?, ?B/s]"
            ],
            "application/vnd.jupyter.widget-view+json": {
              "version_major": 2,
              "version_minor": 0,
              "model_id": "51094397dd8d4f19a0a89a43b09452b0"
            }
          },
          "metadata": {}
        },
        {
          "output_type": "display_data",
          "data": {
            "text/plain": [
              "Downloading (…)solve/main/vocab.txt: 0.00B [00:00, ?B/s]"
            ],
            "application/vnd.jupyter.widget-view+json": {
              "version_major": 2,
              "version_minor": 0,
              "model_id": "7986506f6de64513a6f561a3b413f2ac"
            }
          },
          "metadata": {}
        },
        {
          "output_type": "display_data",
          "data": {
            "text/plain": [
              "Downloading (…)/main/tokenizer.json: 0.00B [00:00, ?B/s]"
            ],
            "application/vnd.jupyter.widget-view+json": {
              "version_major": 2,
              "version_minor": 0,
              "model_id": "42d964808636424f8be454210a81fbff"
            }
          },
          "metadata": {}
        },
        {
          "output_type": "display_data",
          "data": {
            "text/plain": [
              "Downloading tf_model.h5:   0%|          | 0.00/536M [00:00<?, ?B/s]"
            ],
            "application/vnd.jupyter.widget-view+json": {
              "version_major": 2,
              "version_minor": 0,
              "model_id": "4560d360aec347bb976a0acb5cc9da17"
            }
          },
          "metadata": {}
        },
        {
          "output_type": "stream",
          "name": "stderr",
          "text": [
            "Some layers from the model checkpoint at bert-base-uncased were not used when initializing TFBertModel: ['nsp___cls', 'mlm___cls']\n",
            "- This IS expected if you are initializing TFBertModel from the checkpoint of a model trained on another task or with another architecture (e.g. initializing a BertForSequenceClassification model from a BertForPreTraining model).\n",
            "- This IS NOT expected if you are initializing TFBertModel from the checkpoint of a model that you expect to be exactly identical (initializing a BertForSequenceClassification model from a BertForSequenceClassification model).\n",
            "All the layers of TFBertModel were initialized from the model checkpoint at bert-base-uncased.\n",
            "If your task is similar to the task the model of the checkpoint was trained on, you can already use TFBertModel for predictions without further training.\n"
          ]
        }
      ],
      "source": [
        "# Importing BERT pre-trained model and tokenizer\n",
        "model_name = 'bert-base-uncased'\n",
        "config = BertConfig.from_pretrained(model_name, output_hidden_states=False)\n",
        "tokenizer = BertTokenizerFast.from_pretrained(pretrained_model_name_or_path = model_name, config = config)\n",
        "transformer_model = TFBertModel.from_pretrained(model_name, config = config)"
      ]
    },
    {
      "cell_type": "markdown",
      "metadata": {
        "id": "5OHqPiqVIhB9"
      },
      "source": [
        "## 2.2 - Definition of the model architecture"
      ]
    },
    {
      "cell_type": "markdown",
      "metadata": {
        "id": "bsNfi4DxJdtC"
      },
      "source": [
        "Now that everything is in place, we can create a model based on BERT's main layer, and replace the top layers to reach our main objective (multi-label classification accross **27 possible emotions**)."
      ]
    },
    {
      "cell_type": "markdown",
      "metadata": {
        "id": "w1eM3XtfKFvm"
      },
      "source": [
        "Our model takes three inputs that result from tokenization:\n",
        "\n",
        "*   `input_ids`: indices of input sequence tokens in the vocabulary\n",
        "*   `token_ids`: Segment token indices to indicate first and second portions of the inputs.   0 for sentence A and 1 for sentence B\n",
        "*   `attention mask`: Mask to avoid performing attention on padding token indices.  0 for masked and 1 for not masked\n",
        "\n"
      ]
    },
    {
      "cell_type": "code",
      "execution_count": null,
      "metadata": {
        "id": "Gqxw9LYjm58O"
      },
      "outputs": [],
      "source": [
        "# function for creating BERT based model\n",
        "def create_model(nb_labels):\n",
        "  # Load the MainLayer\n",
        "  bert = transformer_model.layers[0]\n",
        "\n",
        "  # Build the model inputs\n",
        "  input_ids = Input(shape=(max_length,), name='input_ids', dtype='int32')\n",
        "  attention_mask = Input(shape=(max_length,), name='attention_mask', dtype='int32')\n",
        "  token_ids = Input(shape=(max_length,), name='token_ids', dtype='int32')\n",
        "  inputs = {'input_ids': input_ids, 'attention_mask': attention_mask}\n",
        "\n",
        "  # Load the Transformers BERT model as a layer in a Keras model\n",
        "  bert_model = bert(inputs)[1]\n",
        "  dropout = Dropout(config.hidden_dropout_prob, name='pooled_output')\n",
        "  pooled_output = dropout(bert_model, training=False)\n",
        "\n",
        "  # Then build the model output\n",
        "  emotion = Dense(units=nb_labels, activation=\"sigmoid\", kernel_initializer=TruncatedNormal(stddev=config.initializer_range), name='emotion')(pooled_output)\n",
        "  outputs = emotion\n",
        "\n",
        "  # And combine it all in a model object\n",
        "  model = Model(inputs=inputs, outputs=outputs, name='BERT_MultiLabel')\n",
        "\n",
        "  return model"
      ]
    },
    {
      "cell_type": "markdown",
      "metadata": {
        "id": "cSJJ5d6VNNvh"
      },
      "source": [
        "We use here a `sigmoid` activation function in the last dense layer that is better suited than a `softmax` activation function. In fact, `softmax` shrinks output probabilities for each label so that the sum of probabilities is 1. In our case, each label (emotion) can independently have a probability between 0 and 1, and `sigmoid` allows that."
      ]
    },
    {
      "cell_type": "markdown",
      "metadata": {
        "id": "IAA-SpCMOFpf"
      },
      "source": [
        "We can now create our model using 27 labels and visualize a summary."
      ]
    },
    {
      "cell_type": "code",
      "execution_count": null,
      "metadata": {
        "colab": {
          "base_uri": "https://localhost:8080/"
        },
        "id": "rGW1AxI0nIxK",
        "outputId": "9a278eaf-25d1-4728-bbef-01e3691b3aac"
      },
      "outputs": [
        {
          "output_type": "stream",
          "name": "stdout",
          "text": [
            "Model: \"BERT_MultiLabel\"\n",
            "__________________________________________________________________________________________________\n",
            " Layer (type)                   Output Shape         Param #     Connected to                     \n",
            "==================================================================================================\n",
            " attention_mask (InputLayer)    [(None, 48)]         0           []                               \n",
            "                                                                                                  \n",
            " input_ids (InputLayer)         [(None, 48)]         0           []                               \n",
            "                                                                                                  \n",
            " bert (TFBertMainLayer)         TFBaseModelOutputWi  109482240   ['attention_mask[0][0]',         \n",
            "                                thPoolingAndCrossAt               'input_ids[0][0]']              \n",
            "                                tentions(last_hidde                                               \n",
            "                                n_state=(None, 48,                                                \n",
            "                                768),                                                             \n",
            "                                 pooler_output=(Non                                               \n",
            "                                e, 768),                                                          \n",
            "                                 past_key_values=No                                               \n",
            "                                ne, hidden_states=N                                               \n",
            "                                one, attentions=Non                                               \n",
            "                                e, cross_attentions                                               \n",
            "                                =None)                                                            \n",
            "                                                                                                  \n",
            " pooled_output (Dropout)        (None, 768)          0           ['bert[0][1]']                   \n",
            "                                                                                                  \n",
            " emotion (Dense)                (None, 27)           20763       ['pooled_output[0][0]']          \n",
            "                                                                                                  \n",
            "==================================================================================================\n",
            "Total params: 109,503,003\n",
            "Trainable params: 109,503,003\n",
            "Non-trainable params: 0\n",
            "__________________________________________________________________________________________________\n"
          ]
        }
      ],
      "source": [
        "# Creating a model instance\n",
        "model = create_model(27)\n",
        "\n",
        "# Take a look at the model\n",
        "model.summary()"
      ]
    },
    {
      "cell_type": "markdown",
      "metadata": {
        "id": "PNVRanuLI_8j"
      },
      "source": [
        "##2.3 - Data preprocessing and model training"
      ]
    },
    {
      "cell_type": "markdown",
      "metadata": {
        "id": "PAIwoQYvJKQb"
      },
      "source": [
        "###2.3.1 - Tokenizing data"
      ]
    },
    {
      "cell_type": "markdown",
      "metadata": {
        "id": "KbfABovvO8f6"
      },
      "source": [
        "Let's go ahead and process our data. We will first separate texts from labels in the train, validation and test datasets, and then tokenize the texts using the BERT tokenizer."
      ]
    },
    {
      "cell_type": "code",
      "execution_count": null,
      "metadata": {
        "id": "XAopOFF1nzUS"
      },
      "outputs": [],
      "source": [
        "# Creating train, validation and test variables\n",
        "X_train = train_GE['Clean_text']\n",
        "y_train = train_GE.loc[:, GE_taxonomy].values.astype(float)\n",
        "\n",
        "X_val = val_GE['Clean_text']\n",
        "y_val = val_GE.loc[:, GE_taxonomy].values.astype(float)\n",
        "\n",
        "X_test = test_GE['Clean_text']\n",
        "y_test = test_GE.loc[:, GE_taxonomy].values.astype(float)\n",
        "\n",
        "# Tokenizing train data\n",
        "train_token = tokenizer(\n",
        "    text = X_train.to_list(),\n",
        "    add_special_tokens = True,\n",
        "    max_length = max_length,\n",
        "    truncation = True,\n",
        "    padding = 'max_length', \n",
        "    return_tensors = 'tf',\n",
        "    return_token_type_ids = True,\n",
        "    return_attention_mask = True,\n",
        "    verbose = True)\n",
        "\n",
        "# Tokenizing valisation data\n",
        "val_token = tokenizer(\n",
        "    text = X_val.to_list(),\n",
        "    add_special_tokens = True,\n",
        "    max_length = max_length,\n",
        "    truncation = True,\n",
        "    padding = 'max_length', \n",
        "    return_tensors = 'tf',\n",
        "    return_token_type_ids = True,\n",
        "    return_attention_mask = True,\n",
        "    verbose = True)\n",
        "\n",
        "# Tokenizing test data\n",
        "test_token = tokenizer(\n",
        "    text = X_test.to_list(),\n",
        "    add_special_tokens = True,\n",
        "    max_length = max_length,\n",
        "    truncation = True,\n",
        "    padding = 'max_length', \n",
        "    return_tensors = 'tf',\n",
        "    return_token_type_ids = True,\n",
        "    return_attention_mask = True,\n",
        "    verbose = True)"
      ]
    },
    {
      "cell_type": "code",
      "execution_count": null,
      "metadata": {
        "id": "HMhCqsYipbys"
      },
      "outputs": [],
      "source": [
        "# Creating BERT compatible inputs with Input Ids, attention masks and token Ids \n",
        "train = {'input_ids': train_token['input_ids'], 'attention_mask': train_token['attention_mask'],'token_ids': train_token['token_type_ids']}\n",
        "val = {'input_ids': val_token['input_ids'], 'attention_mask': val_token['attention_mask'],'token_ids': val_token['token_type_ids']}\n",
        "test = {'input_ids': test_token['input_ids'], 'attention_mask': test_token['attention_mask'],'token_ids': test_token['token_type_ids']}"
      ]
    },
    {
      "cell_type": "markdown",
      "metadata": {
        "id": "Ex7HpdObPjHk"
      },
      "source": [
        "During the training phase, we our going to use batches of 16 samples. After each epoch, data will be shuffled. Let's create TensorFlow tensors accordingly."
      ]
    },
    {
      "cell_type": "code",
      "execution_count": null,
      "metadata": {
        "id": "31_D_Novp1gd"
      },
      "outputs": [],
      "source": [
        "# Creating TF tensors\n",
        "train_tensor = tf.data.Dataset.from_tensor_slices((train, y_train)).shuffle(len(train)).batch(16)\n",
        "val_tensor = tf.data.Dataset.from_tensor_slices((val, y_val)).shuffle(len(val)).batch(16)\n",
        "test_tensor = tf.data.Dataset.from_tensor_slices((test, y_test)).shuffle(len(test)).batch(16)"
      ]
    },
    {
      "cell_type": "markdown",
      "metadata": {
        "id": "_onjkMzaJfEZ"
      },
      "source": [
        "### 2.3.2 - Class weights for multi-label and custom loss function"
      ]
    },
    {
      "cell_type": "markdown",
      "metadata": {
        "id": "M5RVU6ArQyTa"
      },
      "source": [
        "Training requires to monitor the loss function and eventually some other metrics to see how the model behaves throughout the epochs.\n",
        "\n",
        "Therefore, we need to define a weighted loss function that takes into account  class weights in our multi-label case.\n",
        "\n",
        "First, we need to compute class weights."
      ]
    },
    {
      "cell_type": "code",
      "execution_count": 48,
      "metadata": {
        "id": "MswUN2pOxOor"
      },
      "outputs": [],
      "source": [
        "# Function for calculating multilabel class weights\n",
        "def calculating_class_weights(y_true):\n",
        "    number_dim = np.shape(y_true)[1]\n",
        "    weights = np.empty([number_dim, 2])\n",
        "    for i in range(number_dim):\n",
        "        weights[i] = compute_class_weight(class_weight='balanced', classes=[0.,1], y=y_true[:, i])\n",
        "    return weights\n",
        "    \n",
        "class_weights = calculating_class_weights(y_train)\n",
        "np.save('/content/drive/MyDrive/MoodHive/Data/class_wieghts.npy', class_weights)"
      ]
    },
    {
      "cell_type": "markdown",
      "metadata": {
        "id": "1dXWrQ2rSyTz"
      },
      "source": [
        "Then, we can define a custom crossentropy function in which we multiply the weights."
      ]
    },
    {
      "cell_type": "code",
      "execution_count": null,
      "metadata": {
        "id": "XOkmlU6f1K0z"
      },
      "outputs": [],
      "source": [
        "# Custom loss function for multilabel\n",
        "def get_weighted_loss(weights):\n",
        "    def weighted_loss(y_true, y_pred):\n",
        "        return K.mean((weights[:,0]**(1-y_true))*(weights[:,1]**(y_true))*K.binary_crossentropy(y_true, y_pred), axis=-1)\n",
        "    return weighted_loss"
      ]
    },
    {
      "cell_type": "markdown",
      "metadata": {
        "id": "uLp0d2ITJ3Eq"
      },
      "source": [
        "# 2.3.3 - Model training"
      ]
    },
    {
      "cell_type": "code",
      "execution_count": 19,
      "metadata": {
        "colab": {
          "base_uri": "https://localhost:8080/"
        },
        "id": "citzyDt1qOVq",
        "outputId": "1be8c554-d72c-460d-abef-33bbec75791d"
      },
      "outputs": [
        {
          "metadata": {
            "tags": null
          },
          "name": "stderr",
          "output_type": "stream",
          "text": [
            "/usr/local/lib/python3.9/dist-packages/keras/engine/functional.py:639: UserWarning: Input dict contained keys ['token_ids'] which did not match any model input. They will be ignored by the model.\n",
            "  inputs = self._flatten_to_reference_inputs(inputs)\n"
          ]
        },
        {
          "output_type": "stream",
          "name": "stdout",
          "text": [
            "1912/1912 [==============================] - 22321s 12s/step - loss: 0.4412 - val_loss: 0.3328\n"
          ]
        }
      ],
      "source": [
        "# Set an optimizer\n",
        "optimizer = Adam(\n",
        "    learning_rate=3.e-05,\n",
        "    )\n",
        "\n",
        "# Set loss\n",
        "loss = get_weighted_loss(class_weights)\n",
        "\n",
        "# Compile the model\n",
        "model.compile(\n",
        "    optimizer = optimizer,\n",
        "    loss = loss)\n",
        "\n",
        "# train the model\n",
        "history = model.fit(train_tensor, \n",
        "                    epochs=1, \n",
        "                    validation_data=val_tensor,\n",
        "                    )"
      ]
    },
    {
      "cell_type": "markdown",
      "metadata": {
        "id": "4znNuCgxRUuv"
      },
      "source": [
        "## 2.4 - Model evaluation"
      ]
    },
    {
      "cell_type": "markdown",
      "metadata": {
        "id": "rw2Ovil8cw1M"
      },
      "source": [
        "### 2.4.1 - Evaluation on GoEmotions taxonomy"
      ]
    },
    {
      "cell_type": "code",
      "execution_count": 21,
      "metadata": {
        "id": "OF-AkXcmjsNT"
      },
      "outputs": [],
      "source": [
        "\n",
        "# Save model\n",
        "model.save('/content/drive/MyDrive/MoodHive/Models/bert-model.h5')\n",
        "\n",
        "# Save model weights\n",
        "model.save_weights('/content/drive/MyDrive/MoodHive/Data/bert-weights.hdf5')\n",
        "\n",
        "model_json = model.to_json()\n",
        "with open(\"/content/drive/MyDrive/MoodHive/Models/bert_model_architecture.json\", \"w\") as json_file:\n",
        "  model_json = json_file.write(model_json)\n",
        "\n"
      ]
    },
    {
      "cell_type": "markdown",
      "metadata": {
        "id": "txhLFoByV53b"
      },
      "source": [
        "Let's generate predictions on test data."
      ]
    },
    {
      "cell_type": "code",
      "execution_count": 24,
      "metadata": {
        "colab": {
          "base_uri": "https://localhost:8080/"
        },
        "id": "jrVVKNF9VjAN",
        "outputId": "612d4406-e7f9-4c33-95d8-27f7d0e1ce04"
      },
      "outputs": [
        {
          "output_type": "stream",
          "name": "stdout",
          "text": [
            "120/120 [==============================] - 720s 6s/step\n"
          ]
        }
      ],
      "source": [
        "# Making probability predictions on test data\n",
        "y_pred_proba = model.predict(test)"
      ]
    },
    {
      "cell_type": "markdown",
      "metadata": {
        "id": "lEXHXyhPWCCr"
      },
      "source": [
        "When making predictions, we only generate probabilities associated with each label. To predict actual labels, we need to add an additional step that transforms these probabilities into labels given a certain threshold.\n",
        "\n",
        "We define a function to do so with a default threshold set to 0.8."
      ]
    },
    {
      "cell_type": "code",
      "execution_count": 25,
      "metadata": {
        "id": "QdlRK7nt2Jr8"
      },
      "outputs": [],
      "source": [
        "# from probabilities to labels using a given threshold\n",
        "def proba_to_labels(y_pred_proba, threshold=0.8):\n",
        "    \n",
        "    y_pred_labels = np.zeros_like(y_pred_proba)\n",
        "    \n",
        "    for i in range(y_pred_proba.shape[0]):\n",
        "        for j in range(y_pred_proba.shape[1]):\n",
        "            if y_pred_proba[i][j] > threshold:\n",
        "                y_pred_labels[i][j] = 1\n",
        "            else:\n",
        "                y_pred_labels[i][j] = 0\n",
        "                \n",
        "    return y_pred_labels"
      ]
    },
    {
      "cell_type": "code",
      "execution_count": 26,
      "metadata": {
        "id": "wRzQNJ8bXWP9"
      },
      "outputs": [],
      "source": [
        "# Generate labels\n",
        "y_pred_labels = proba_to_labels(y_pred_proba)"
      ]
    },
    {
      "cell_type": "markdown",
      "metadata": {
        "id": "07pAgsrBWr2g"
      },
      "source": [
        "Let's evaluate these predictions using the evaluation function we defined in the previous notebooks."
      ]
    },
    {
      "cell_type": "code",
      "execution_count": 27,
      "metadata": {
        "id": "KwgSu5mdW_S9"
      },
      "outputs": [],
      "source": [
        "# Model evaluation function \n",
        "def model_eval(y_true, y_pred_labels, emotions):\n",
        "    \n",
        "    # Defining variables\n",
        "    precision = []\n",
        "    recall = []\n",
        "    f1 = []\n",
        "    \n",
        "    # Per emotion evaluation      \n",
        "    idx2emotion = {i: e for i, e in enumerate(emotions)}\n",
        "    \n",
        "    for i in range(len(emotions)):\n",
        "   \n",
        "        # Computing precision, recall and f1-score\n",
        "        p, r, f1_score, _ = precision_recall_fscore_support(y_true[:, i], y_pred_labels[:, i], average=\"binary\")\n",
        "        \n",
        "        # Append results in lists\n",
        "        precision.append(round(p, 2))\n",
        "        recall.append(round(r, 2))\n",
        "        f1.append(round(f1_score, 2))\n",
        "    \n",
        "    # Macro evaluation\n",
        "    macro_p, macro_r, macro_f1_score, _ = precision_recall_fscore_support(y_true, y_pred_labels, average=\"macro\")\n",
        "    \n",
        "    # Append results in lists\n",
        "    precision.append(round(macro_p, 2))\n",
        "    recall.append(round(macro_r, 2))\n",
        "    f1.append(round(macro_f1_score, 2))\n",
        "    \n",
        "    # Converting results to a dataframe\n",
        "    df_results = pd.DataFrame({\"Precision\":precision, \"Recall\":recall, 'F1':f1})\n",
        "    df_results.index = emotions+['MACRO-AVERAGE']\n",
        "    \n",
        "    return df_results"
      ]
    },
    {
      "cell_type": "code",
      "execution_count": 28,
      "metadata": {
        "colab": {
          "base_uri": "https://localhost:8080/",
          "height": 927
        },
        "id": "rW_rNrE_cN56",
        "outputId": "44eb35fd-0c1c-48e9-a021-dcd7cea8542f"
      },
      "outputs": [
        {
          "output_type": "execute_result",
          "data": {
            "text/plain": [
              "                Precision  Recall    F1\n",
              "admiration           0.78    0.58  0.67\n",
              "amusement            0.79    0.86  0.82\n",
              "anger                0.38    0.70  0.49\n",
              "annoyance            0.33    0.54  0.41\n",
              "approval             0.62    0.31  0.41\n",
              "caring               0.36    0.59  0.45\n",
              "confusion            0.30    0.69  0.42\n",
              "curiosity            0.55    0.81  0.65\n",
              "desire               0.43    0.66  0.52\n",
              "disappointment       0.29    0.33  0.31\n",
              "disapproval          0.45    0.52  0.48\n",
              "disgust              0.21    0.84  0.34\n",
              "embarrassment        0.20    0.59  0.30\n",
              "excitement           0.23    0.61  0.34\n",
              "fear                 0.34    0.88  0.49\n",
              "gratitude            0.93    0.89  0.91\n",
              "grief                0.04    0.83  0.08\n",
              "joy                  0.42    0.71  0.52\n",
              "love                 0.71    0.84  0.77\n",
              "nervousness          0.12    0.74  0.20\n",
              "optimism             0.51    0.51  0.51\n",
              "pride                0.23    0.56  0.33\n",
              "realization          0.33    0.31  0.32\n",
              "relief               0.10    0.82  0.18\n",
              "remorse              0.58    0.93  0.71\n",
              "sadness              0.43    0.62  0.51\n",
              "surprise             0.32    0.77  0.45\n",
              "MACRO-AVERAGE        0.41    0.67  0.47"
            ],
            "text/html": [
              "\n",
              "  <div id=\"df-b56f5f77-24fe-4185-aed3-f75bfa42a527\">\n",
              "    <div class=\"colab-df-container\">\n",
              "      <div>\n",
              "<style scoped>\n",
              "    .dataframe tbody tr th:only-of-type {\n",
              "        vertical-align: middle;\n",
              "    }\n",
              "\n",
              "    .dataframe tbody tr th {\n",
              "        vertical-align: top;\n",
              "    }\n",
              "\n",
              "    .dataframe thead th {\n",
              "        text-align: right;\n",
              "    }\n",
              "</style>\n",
              "<table border=\"1\" class=\"dataframe\">\n",
              "  <thead>\n",
              "    <tr style=\"text-align: right;\">\n",
              "      <th></th>\n",
              "      <th>Precision</th>\n",
              "      <th>Recall</th>\n",
              "      <th>F1</th>\n",
              "    </tr>\n",
              "  </thead>\n",
              "  <tbody>\n",
              "    <tr>\n",
              "      <th>admiration</th>\n",
              "      <td>0.78</td>\n",
              "      <td>0.58</td>\n",
              "      <td>0.67</td>\n",
              "    </tr>\n",
              "    <tr>\n",
              "      <th>amusement</th>\n",
              "      <td>0.79</td>\n",
              "      <td>0.86</td>\n",
              "      <td>0.82</td>\n",
              "    </tr>\n",
              "    <tr>\n",
              "      <th>anger</th>\n",
              "      <td>0.38</td>\n",
              "      <td>0.70</td>\n",
              "      <td>0.49</td>\n",
              "    </tr>\n",
              "    <tr>\n",
              "      <th>annoyance</th>\n",
              "      <td>0.33</td>\n",
              "      <td>0.54</td>\n",
              "      <td>0.41</td>\n",
              "    </tr>\n",
              "    <tr>\n",
              "      <th>approval</th>\n",
              "      <td>0.62</td>\n",
              "      <td>0.31</td>\n",
              "      <td>0.41</td>\n",
              "    </tr>\n",
              "    <tr>\n",
              "      <th>caring</th>\n",
              "      <td>0.36</td>\n",
              "      <td>0.59</td>\n",
              "      <td>0.45</td>\n",
              "    </tr>\n",
              "    <tr>\n",
              "      <th>confusion</th>\n",
              "      <td>0.30</td>\n",
              "      <td>0.69</td>\n",
              "      <td>0.42</td>\n",
              "    </tr>\n",
              "    <tr>\n",
              "      <th>curiosity</th>\n",
              "      <td>0.55</td>\n",
              "      <td>0.81</td>\n",
              "      <td>0.65</td>\n",
              "    </tr>\n",
              "    <tr>\n",
              "      <th>desire</th>\n",
              "      <td>0.43</td>\n",
              "      <td>0.66</td>\n",
              "      <td>0.52</td>\n",
              "    </tr>\n",
              "    <tr>\n",
              "      <th>disappointment</th>\n",
              "      <td>0.29</td>\n",
              "      <td>0.33</td>\n",
              "      <td>0.31</td>\n",
              "    </tr>\n",
              "    <tr>\n",
              "      <th>disapproval</th>\n",
              "      <td>0.45</td>\n",
              "      <td>0.52</td>\n",
              "      <td>0.48</td>\n",
              "    </tr>\n",
              "    <tr>\n",
              "      <th>disgust</th>\n",
              "      <td>0.21</td>\n",
              "      <td>0.84</td>\n",
              "      <td>0.34</td>\n",
              "    </tr>\n",
              "    <tr>\n",
              "      <th>embarrassment</th>\n",
              "      <td>0.20</td>\n",
              "      <td>0.59</td>\n",
              "      <td>0.30</td>\n",
              "    </tr>\n",
              "    <tr>\n",
              "      <th>excitement</th>\n",
              "      <td>0.23</td>\n",
              "      <td>0.61</td>\n",
              "      <td>0.34</td>\n",
              "    </tr>\n",
              "    <tr>\n",
              "      <th>fear</th>\n",
              "      <td>0.34</td>\n",
              "      <td>0.88</td>\n",
              "      <td>0.49</td>\n",
              "    </tr>\n",
              "    <tr>\n",
              "      <th>gratitude</th>\n",
              "      <td>0.93</td>\n",
              "      <td>0.89</td>\n",
              "      <td>0.91</td>\n",
              "    </tr>\n",
              "    <tr>\n",
              "      <th>grief</th>\n",
              "      <td>0.04</td>\n",
              "      <td>0.83</td>\n",
              "      <td>0.08</td>\n",
              "    </tr>\n",
              "    <tr>\n",
              "      <th>joy</th>\n",
              "      <td>0.42</td>\n",
              "      <td>0.71</td>\n",
              "      <td>0.52</td>\n",
              "    </tr>\n",
              "    <tr>\n",
              "      <th>love</th>\n",
              "      <td>0.71</td>\n",
              "      <td>0.84</td>\n",
              "      <td>0.77</td>\n",
              "    </tr>\n",
              "    <tr>\n",
              "      <th>nervousness</th>\n",
              "      <td>0.12</td>\n",
              "      <td>0.74</td>\n",
              "      <td>0.20</td>\n",
              "    </tr>\n",
              "    <tr>\n",
              "      <th>optimism</th>\n",
              "      <td>0.51</td>\n",
              "      <td>0.51</td>\n",
              "      <td>0.51</td>\n",
              "    </tr>\n",
              "    <tr>\n",
              "      <th>pride</th>\n",
              "      <td>0.23</td>\n",
              "      <td>0.56</td>\n",
              "      <td>0.33</td>\n",
              "    </tr>\n",
              "    <tr>\n",
              "      <th>realization</th>\n",
              "      <td>0.33</td>\n",
              "      <td>0.31</td>\n",
              "      <td>0.32</td>\n",
              "    </tr>\n",
              "    <tr>\n",
              "      <th>relief</th>\n",
              "      <td>0.10</td>\n",
              "      <td>0.82</td>\n",
              "      <td>0.18</td>\n",
              "    </tr>\n",
              "    <tr>\n",
              "      <th>remorse</th>\n",
              "      <td>0.58</td>\n",
              "      <td>0.93</td>\n",
              "      <td>0.71</td>\n",
              "    </tr>\n",
              "    <tr>\n",
              "      <th>sadness</th>\n",
              "      <td>0.43</td>\n",
              "      <td>0.62</td>\n",
              "      <td>0.51</td>\n",
              "    </tr>\n",
              "    <tr>\n",
              "      <th>surprise</th>\n",
              "      <td>0.32</td>\n",
              "      <td>0.77</td>\n",
              "      <td>0.45</td>\n",
              "    </tr>\n",
              "    <tr>\n",
              "      <th>MACRO-AVERAGE</th>\n",
              "      <td>0.41</td>\n",
              "      <td>0.67</td>\n",
              "      <td>0.47</td>\n",
              "    </tr>\n",
              "  </tbody>\n",
              "</table>\n",
              "</div>\n",
              "      <button class=\"colab-df-convert\" onclick=\"convertToInteractive('df-b56f5f77-24fe-4185-aed3-f75bfa42a527')\"\n",
              "              title=\"Convert this dataframe to an interactive table.\"\n",
              "              style=\"display:none;\">\n",
              "        \n",
              "  <svg xmlns=\"http://www.w3.org/2000/svg\" height=\"24px\"viewBox=\"0 0 24 24\"\n",
              "       width=\"24px\">\n",
              "    <path d=\"M0 0h24v24H0V0z\" fill=\"none\"/>\n",
              "    <path d=\"M18.56 5.44l.94 2.06.94-2.06 2.06-.94-2.06-.94-.94-2.06-.94 2.06-2.06.94zm-11 1L8.5 8.5l.94-2.06 2.06-.94-2.06-.94L8.5 2.5l-.94 2.06-2.06.94zm10 10l.94 2.06.94-2.06 2.06-.94-2.06-.94-.94-2.06-.94 2.06-2.06.94z\"/><path d=\"M17.41 7.96l-1.37-1.37c-.4-.4-.92-.59-1.43-.59-.52 0-1.04.2-1.43.59L10.3 9.45l-7.72 7.72c-.78.78-.78 2.05 0 2.83L4 21.41c.39.39.9.59 1.41.59.51 0 1.02-.2 1.41-.59l7.78-7.78 2.81-2.81c.8-.78.8-2.07 0-2.86zM5.41 20L4 18.59l7.72-7.72 1.47 1.35L5.41 20z\"/>\n",
              "  </svg>\n",
              "      </button>\n",
              "      \n",
              "  <style>\n",
              "    .colab-df-container {\n",
              "      display:flex;\n",
              "      flex-wrap:wrap;\n",
              "      gap: 12px;\n",
              "    }\n",
              "\n",
              "    .colab-df-convert {\n",
              "      background-color: #E8F0FE;\n",
              "      border: none;\n",
              "      border-radius: 50%;\n",
              "      cursor: pointer;\n",
              "      display: none;\n",
              "      fill: #1967D2;\n",
              "      height: 32px;\n",
              "      padding: 0 0 0 0;\n",
              "      width: 32px;\n",
              "    }\n",
              "\n",
              "    .colab-df-convert:hover {\n",
              "      background-color: #E2EBFA;\n",
              "      box-shadow: 0px 1px 2px rgba(60, 64, 67, 0.3), 0px 1px 3px 1px rgba(60, 64, 67, 0.15);\n",
              "      fill: #174EA6;\n",
              "    }\n",
              "\n",
              "    [theme=dark] .colab-df-convert {\n",
              "      background-color: #3B4455;\n",
              "      fill: #D2E3FC;\n",
              "    }\n",
              "\n",
              "    [theme=dark] .colab-df-convert:hover {\n",
              "      background-color: #434B5C;\n",
              "      box-shadow: 0px 1px 3px 1px rgba(0, 0, 0, 0.15);\n",
              "      filter: drop-shadow(0px 1px 2px rgba(0, 0, 0, 0.3));\n",
              "      fill: #FFFFFF;\n",
              "    }\n",
              "  </style>\n",
              "\n",
              "      <script>\n",
              "        const buttonEl =\n",
              "          document.querySelector('#df-b56f5f77-24fe-4185-aed3-f75bfa42a527 button.colab-df-convert');\n",
              "        buttonEl.style.display =\n",
              "          google.colab.kernel.accessAllowed ? 'block' : 'none';\n",
              "\n",
              "        async function convertToInteractive(key) {\n",
              "          const element = document.querySelector('#df-b56f5f77-24fe-4185-aed3-f75bfa42a527');\n",
              "          const dataTable =\n",
              "            await google.colab.kernel.invokeFunction('convertToInteractive',\n",
              "                                                     [key], {});\n",
              "          if (!dataTable) return;\n",
              "\n",
              "          const docLinkHtml = 'Like what you see? Visit the ' +\n",
              "            '<a target=\"_blank\" href=https://colab.research.google.com/notebooks/data_table.ipynb>data table notebook</a>'\n",
              "            + ' to learn more about interactive tables.';\n",
              "          element.innerHTML = '';\n",
              "          dataTable['output_type'] = 'display_data';\n",
              "          await google.colab.output.renderOutput(dataTable, element);\n",
              "          const docLink = document.createElement('div');\n",
              "          docLink.innerHTML = docLinkHtml;\n",
              "          element.appendChild(docLink);\n",
              "        }\n",
              "      </script>\n",
              "    </div>\n",
              "  </div>\n",
              "  "
            ]
          },
          "metadata": {},
          "execution_count": 28
        }
      ],
      "source": [
        "# Model evaluation\n",
        "model_eval(y_test, y_pred_labels, GE_taxonomy)"
      ]
    },
    {
      "cell_type": "markdown",
      "metadata": {
        "id": "kHKrdAGgzzxL"
      },
      "source": [
        "Looking at the results, we see that this model performs better than the previous one. It looks like **removing the noise brought by the 'Neutral' emotion helped to better distinguish the other emotions.**"
      ]
    },
    {
      "cell_type": "markdown",
      "metadata": {
        "id": "QiEfmN4zYWzp"
      },
      "source": [
        "### 2.4.2 - Threshold optimization"
      ]
    },
    {
      "cell_type": "markdown",
      "metadata": {
        "id": "jJBpGoXFYmqX"
      },
      "source": [
        "In the initial evaluation, we set an aribitrary threshold. However, we can also choose a threshold that maximizes a certain metric. \n",
        "\n",
        "We define a function that tests a certain number of possible thresholds, and returns the best threshold together with the best predicted labels and best macro f1-score."
      ]
    },
    {
      "cell_type": "code",
      "execution_count": 29,
      "metadata": {
        "id": "mVoNZ3FsNZ_W"
      },
      "outputs": [],
      "source": [
        "# Function that computes labels from probabilities and optimizes the threshold that maximizes f1-score\n",
        "def proba_to_labels_opt(y_true, y_pred_proba):\n",
        "    \n",
        "    '''\n",
        "    Inputs:\n",
        "        y_true: Ground truth labels\n",
        "        y_pred_proba: predicted probabilities\n",
        "        \n",
        "    Outputs :\n",
        "        best_y_pred_labels: preticted labels associated with best threshold\n",
        "        best_t: best threshold\n",
        "        best_macro_f1: macro f1-score associated with predicted labels\n",
        "    '''\n",
        "    \n",
        "    # range of possible thresholds\n",
        "    thresholds = np.arange(0.7, 0.99, 0.01)\n",
        "    \n",
        "    # Computing threshold that maximizes macro f1-score \n",
        "    best_y_pred_labels = np.zeros_like(y_pred_proba)\n",
        "    best_t = 0\n",
        "    best_macro_f1 = 0\n",
        "    \n",
        "    # Iterating through possible thresholds\n",
        "    for t in thresholds:\n",
        "        \n",
        "        y_pred_labels = proba_to_labels(y_pred_proba, t)\n",
        "                             \n",
        "        _, _, macro_f1, _ = precision_recall_fscore_support(y_true, y_pred_labels, average=\"macro\")\n",
        "        \n",
        "        if macro_f1 > best_macro_f1:\n",
        "            best_macro_f1 = macro_f1\n",
        "            best_t = t\n",
        "            best_y_pred_labels = y_pred_labels\n",
        "            \n",
        "    return best_y_pred_labels, best_t, best_macro_f1"
      ]
    },
    {
      "cell_type": "markdown",
      "metadata": {
        "id": "R6S8iogIb051"
      },
      "source": [
        "We can now apply this function to our predicted probabilities and compute optimized label predictions."
      ]
    },
    {
      "cell_type": "code",
      "execution_count": 30,
      "metadata": {
        "colab": {
          "base_uri": "https://localhost:8080/"
        },
        "id": "3LDKmAidZvIi",
        "outputId": "8af06617-5141-4a59-8fde-67fa78cd639f"
      },
      "outputs": [
        {
          "output_type": "stream",
          "name": "stderr",
          "text": [
            "/usr/local/lib/python3.9/dist-packages/sklearn/metrics/_classification.py:1344: UndefinedMetricWarning: Precision and F-score are ill-defined and being set to 0.0 in labels with no predicted samples. Use `zero_division` parameter to control this behavior.\n",
            "  _warn_prf(average, modifier, msg_start, len(result))\n",
            "/usr/local/lib/python3.9/dist-packages/sklearn/metrics/_classification.py:1344: UndefinedMetricWarning: Precision and F-score are ill-defined and being set to 0.0 in labels with no predicted samples. Use `zero_division` parameter to control this behavior.\n",
            "  _warn_prf(average, modifier, msg_start, len(result))\n",
            "/usr/local/lib/python3.9/dist-packages/sklearn/metrics/_classification.py:1344: UndefinedMetricWarning: Precision and F-score are ill-defined and being set to 0.0 in labels with no predicted samples. Use `zero_division` parameter to control this behavior.\n",
            "  _warn_prf(average, modifier, msg_start, len(result))\n",
            "/usr/local/lib/python3.9/dist-packages/sklearn/metrics/_classification.py:1344: UndefinedMetricWarning: Precision and F-score are ill-defined and being set to 0.0 in labels with no predicted samples. Use `zero_division` parameter to control this behavior.\n",
            "  _warn_prf(average, modifier, msg_start, len(result))\n",
            "/usr/local/lib/python3.9/dist-packages/sklearn/metrics/_classification.py:1344: UndefinedMetricWarning: Precision and F-score are ill-defined and being set to 0.0 in labels with no predicted samples. Use `zero_division` parameter to control this behavior.\n",
            "  _warn_prf(average, modifier, msg_start, len(result))\n",
            "/usr/local/lib/python3.9/dist-packages/sklearn/metrics/_classification.py:1344: UndefinedMetricWarning: Precision and F-score are ill-defined and being set to 0.0 in labels with no predicted samples. Use `zero_division` parameter to control this behavior.\n",
            "  _warn_prf(average, modifier, msg_start, len(result))\n"
          ]
        },
        {
          "output_type": "stream",
          "name": "stdout",
          "text": [
            "The model's threshold is 0.8500000000000001\n",
            "The model's best macro-f1 is 0.47764480213843424\n"
          ]
        },
        {
          "output_type": "stream",
          "name": "stderr",
          "text": [
            "/usr/local/lib/python3.9/dist-packages/sklearn/metrics/_classification.py:1344: UndefinedMetricWarning: Precision and F-score are ill-defined and being set to 0.0 in labels with no predicted samples. Use `zero_division` parameter to control this behavior.\n",
            "  _warn_prf(average, modifier, msg_start, len(result))\n",
            "/usr/local/lib/python3.9/dist-packages/sklearn/metrics/_classification.py:1344: UndefinedMetricWarning: Precision and F-score are ill-defined and being set to 0.0 in labels with no predicted samples. Use `zero_division` parameter to control this behavior.\n",
            "  _warn_prf(average, modifier, msg_start, len(result))\n"
          ]
        }
      ],
      "source": [
        "# Compute label predictions and corresponding optimal thresholds \n",
        "y_pred_labels_opt, threshold_opt, macro_f1_opt = proba_to_labels_opt(y_test, y_pred_proba)\n",
        "print(\"The model's threshold is {}\".format(threshold_opt))\n",
        "print(\"The model's best macro-f1 is {}\".format(macro_f1_opt))"
      ]
    },
    {
      "cell_type": "code",
      "execution_count": 31,
      "metadata": {
        "colab": {
          "base_uri": "https://localhost:8080/",
          "height": 927
        },
        "id": "2TM1hZ1JZ31q",
        "outputId": "69c24dfb-2fcf-4549-dc13-2ca74d31801c"
      },
      "outputs": [
        {
          "output_type": "execute_result",
          "data": {
            "text/plain": [
              "                Precision  Recall    F1\n",
              "admiration           0.81    0.53  0.64\n",
              "amusement            0.83    0.82  0.82\n",
              "anger                0.41    0.60  0.49\n",
              "annoyance            0.40    0.42  0.41\n",
              "approval             0.72    0.21  0.32\n",
              "caring               0.41    0.51  0.46\n",
              "confusion            0.35    0.59  0.44\n",
              "curiosity            0.59    0.75  0.66\n",
              "desire               0.52    0.60  0.56\n",
              "disappointment       0.33    0.18  0.23\n",
              "disapproval          0.51    0.42  0.46\n",
              "disgust              0.28    0.76  0.41\n",
              "embarrassment        0.29    0.51  0.37\n",
              "excitement           0.30    0.55  0.39\n",
              "fear                 0.40    0.87  0.54\n",
              "gratitude            0.94    0.88  0.91\n",
              "grief                0.06    0.83  0.11\n",
              "joy                  0.51    0.67  0.58\n",
              "love                 0.75    0.83  0.79\n",
              "nervousness          0.13    0.61  0.22\n",
              "optimism             0.60    0.40  0.48\n",
              "pride                0.29    0.56  0.38\n",
              "realization          0.40    0.23  0.29\n",
              "relief               0.12    0.73  0.21\n",
              "remorse              0.60    0.88  0.71\n",
              "sadness              0.52    0.54  0.53\n",
              "surprise             0.36    0.72  0.48\n",
              "MACRO-AVERAGE        0.46    0.60  0.48"
            ],
            "text/html": [
              "\n",
              "  <div id=\"df-82f732bd-214a-472c-a8fb-d7d09094a282\">\n",
              "    <div class=\"colab-df-container\">\n",
              "      <div>\n",
              "<style scoped>\n",
              "    .dataframe tbody tr th:only-of-type {\n",
              "        vertical-align: middle;\n",
              "    }\n",
              "\n",
              "    .dataframe tbody tr th {\n",
              "        vertical-align: top;\n",
              "    }\n",
              "\n",
              "    .dataframe thead th {\n",
              "        text-align: right;\n",
              "    }\n",
              "</style>\n",
              "<table border=\"1\" class=\"dataframe\">\n",
              "  <thead>\n",
              "    <tr style=\"text-align: right;\">\n",
              "      <th></th>\n",
              "      <th>Precision</th>\n",
              "      <th>Recall</th>\n",
              "      <th>F1</th>\n",
              "    </tr>\n",
              "  </thead>\n",
              "  <tbody>\n",
              "    <tr>\n",
              "      <th>admiration</th>\n",
              "      <td>0.81</td>\n",
              "      <td>0.53</td>\n",
              "      <td>0.64</td>\n",
              "    </tr>\n",
              "    <tr>\n",
              "      <th>amusement</th>\n",
              "      <td>0.83</td>\n",
              "      <td>0.82</td>\n",
              "      <td>0.82</td>\n",
              "    </tr>\n",
              "    <tr>\n",
              "      <th>anger</th>\n",
              "      <td>0.41</td>\n",
              "      <td>0.60</td>\n",
              "      <td>0.49</td>\n",
              "    </tr>\n",
              "    <tr>\n",
              "      <th>annoyance</th>\n",
              "      <td>0.40</td>\n",
              "      <td>0.42</td>\n",
              "      <td>0.41</td>\n",
              "    </tr>\n",
              "    <tr>\n",
              "      <th>approval</th>\n",
              "      <td>0.72</td>\n",
              "      <td>0.21</td>\n",
              "      <td>0.32</td>\n",
              "    </tr>\n",
              "    <tr>\n",
              "      <th>caring</th>\n",
              "      <td>0.41</td>\n",
              "      <td>0.51</td>\n",
              "      <td>0.46</td>\n",
              "    </tr>\n",
              "    <tr>\n",
              "      <th>confusion</th>\n",
              "      <td>0.35</td>\n",
              "      <td>0.59</td>\n",
              "      <td>0.44</td>\n",
              "    </tr>\n",
              "    <tr>\n",
              "      <th>curiosity</th>\n",
              "      <td>0.59</td>\n",
              "      <td>0.75</td>\n",
              "      <td>0.66</td>\n",
              "    </tr>\n",
              "    <tr>\n",
              "      <th>desire</th>\n",
              "      <td>0.52</td>\n",
              "      <td>0.60</td>\n",
              "      <td>0.56</td>\n",
              "    </tr>\n",
              "    <tr>\n",
              "      <th>disappointment</th>\n",
              "      <td>0.33</td>\n",
              "      <td>0.18</td>\n",
              "      <td>0.23</td>\n",
              "    </tr>\n",
              "    <tr>\n",
              "      <th>disapproval</th>\n",
              "      <td>0.51</td>\n",
              "      <td>0.42</td>\n",
              "      <td>0.46</td>\n",
              "    </tr>\n",
              "    <tr>\n",
              "      <th>disgust</th>\n",
              "      <td>0.28</td>\n",
              "      <td>0.76</td>\n",
              "      <td>0.41</td>\n",
              "    </tr>\n",
              "    <tr>\n",
              "      <th>embarrassment</th>\n",
              "      <td>0.29</td>\n",
              "      <td>0.51</td>\n",
              "      <td>0.37</td>\n",
              "    </tr>\n",
              "    <tr>\n",
              "      <th>excitement</th>\n",
              "      <td>0.30</td>\n",
              "      <td>0.55</td>\n",
              "      <td>0.39</td>\n",
              "    </tr>\n",
              "    <tr>\n",
              "      <th>fear</th>\n",
              "      <td>0.40</td>\n",
              "      <td>0.87</td>\n",
              "      <td>0.54</td>\n",
              "    </tr>\n",
              "    <tr>\n",
              "      <th>gratitude</th>\n",
              "      <td>0.94</td>\n",
              "      <td>0.88</td>\n",
              "      <td>0.91</td>\n",
              "    </tr>\n",
              "    <tr>\n",
              "      <th>grief</th>\n",
              "      <td>0.06</td>\n",
              "      <td>0.83</td>\n",
              "      <td>0.11</td>\n",
              "    </tr>\n",
              "    <tr>\n",
              "      <th>joy</th>\n",
              "      <td>0.51</td>\n",
              "      <td>0.67</td>\n",
              "      <td>0.58</td>\n",
              "    </tr>\n",
              "    <tr>\n",
              "      <th>love</th>\n",
              "      <td>0.75</td>\n",
              "      <td>0.83</td>\n",
              "      <td>0.79</td>\n",
              "    </tr>\n",
              "    <tr>\n",
              "      <th>nervousness</th>\n",
              "      <td>0.13</td>\n",
              "      <td>0.61</td>\n",
              "      <td>0.22</td>\n",
              "    </tr>\n",
              "    <tr>\n",
              "      <th>optimism</th>\n",
              "      <td>0.60</td>\n",
              "      <td>0.40</td>\n",
              "      <td>0.48</td>\n",
              "    </tr>\n",
              "    <tr>\n",
              "      <th>pride</th>\n",
              "      <td>0.29</td>\n",
              "      <td>0.56</td>\n",
              "      <td>0.38</td>\n",
              "    </tr>\n",
              "    <tr>\n",
              "      <th>realization</th>\n",
              "      <td>0.40</td>\n",
              "      <td>0.23</td>\n",
              "      <td>0.29</td>\n",
              "    </tr>\n",
              "    <tr>\n",
              "      <th>relief</th>\n",
              "      <td>0.12</td>\n",
              "      <td>0.73</td>\n",
              "      <td>0.21</td>\n",
              "    </tr>\n",
              "    <tr>\n",
              "      <th>remorse</th>\n",
              "      <td>0.60</td>\n",
              "      <td>0.88</td>\n",
              "      <td>0.71</td>\n",
              "    </tr>\n",
              "    <tr>\n",
              "      <th>sadness</th>\n",
              "      <td>0.52</td>\n",
              "      <td>0.54</td>\n",
              "      <td>0.53</td>\n",
              "    </tr>\n",
              "    <tr>\n",
              "      <th>surprise</th>\n",
              "      <td>0.36</td>\n",
              "      <td>0.72</td>\n",
              "      <td>0.48</td>\n",
              "    </tr>\n",
              "    <tr>\n",
              "      <th>MACRO-AVERAGE</th>\n",
              "      <td>0.46</td>\n",
              "      <td>0.60</td>\n",
              "      <td>0.48</td>\n",
              "    </tr>\n",
              "  </tbody>\n",
              "</table>\n",
              "</div>\n",
              "      <button class=\"colab-df-convert\" onclick=\"convertToInteractive('df-82f732bd-214a-472c-a8fb-d7d09094a282')\"\n",
              "              title=\"Convert this dataframe to an interactive table.\"\n",
              "              style=\"display:none;\">\n",
              "        \n",
              "  <svg xmlns=\"http://www.w3.org/2000/svg\" height=\"24px\"viewBox=\"0 0 24 24\"\n",
              "       width=\"24px\">\n",
              "    <path d=\"M0 0h24v24H0V0z\" fill=\"none\"/>\n",
              "    <path d=\"M18.56 5.44l.94 2.06.94-2.06 2.06-.94-2.06-.94-.94-2.06-.94 2.06-2.06.94zm-11 1L8.5 8.5l.94-2.06 2.06-.94-2.06-.94L8.5 2.5l-.94 2.06-2.06.94zm10 10l.94 2.06.94-2.06 2.06-.94-2.06-.94-.94-2.06-.94 2.06-2.06.94z\"/><path d=\"M17.41 7.96l-1.37-1.37c-.4-.4-.92-.59-1.43-.59-.52 0-1.04.2-1.43.59L10.3 9.45l-7.72 7.72c-.78.78-.78 2.05 0 2.83L4 21.41c.39.39.9.59 1.41.59.51 0 1.02-.2 1.41-.59l7.78-7.78 2.81-2.81c.8-.78.8-2.07 0-2.86zM5.41 20L4 18.59l7.72-7.72 1.47 1.35L5.41 20z\"/>\n",
              "  </svg>\n",
              "      </button>\n",
              "      \n",
              "  <style>\n",
              "    .colab-df-container {\n",
              "      display:flex;\n",
              "      flex-wrap:wrap;\n",
              "      gap: 12px;\n",
              "    }\n",
              "\n",
              "    .colab-df-convert {\n",
              "      background-color: #E8F0FE;\n",
              "      border: none;\n",
              "      border-radius: 50%;\n",
              "      cursor: pointer;\n",
              "      display: none;\n",
              "      fill: #1967D2;\n",
              "      height: 32px;\n",
              "      padding: 0 0 0 0;\n",
              "      width: 32px;\n",
              "    }\n",
              "\n",
              "    .colab-df-convert:hover {\n",
              "      background-color: #E2EBFA;\n",
              "      box-shadow: 0px 1px 2px rgba(60, 64, 67, 0.3), 0px 1px 3px 1px rgba(60, 64, 67, 0.15);\n",
              "      fill: #174EA6;\n",
              "    }\n",
              "\n",
              "    [theme=dark] .colab-df-convert {\n",
              "      background-color: #3B4455;\n",
              "      fill: #D2E3FC;\n",
              "    }\n",
              "\n",
              "    [theme=dark] .colab-df-convert:hover {\n",
              "      background-color: #434B5C;\n",
              "      box-shadow: 0px 1px 3px 1px rgba(0, 0, 0, 0.15);\n",
              "      filter: drop-shadow(0px 1px 2px rgba(0, 0, 0, 0.3));\n",
              "      fill: #FFFFFF;\n",
              "    }\n",
              "  </style>\n",
              "\n",
              "      <script>\n",
              "        const buttonEl =\n",
              "          document.querySelector('#df-82f732bd-214a-472c-a8fb-d7d09094a282 button.colab-df-convert');\n",
              "        buttonEl.style.display =\n",
              "          google.colab.kernel.accessAllowed ? 'block' : 'none';\n",
              "\n",
              "        async function convertToInteractive(key) {\n",
              "          const element = document.querySelector('#df-82f732bd-214a-472c-a8fb-d7d09094a282');\n",
              "          const dataTable =\n",
              "            await google.colab.kernel.invokeFunction('convertToInteractive',\n",
              "                                                     [key], {});\n",
              "          if (!dataTable) return;\n",
              "\n",
              "          const docLinkHtml = 'Like what you see? Visit the ' +\n",
              "            '<a target=\"_blank\" href=https://colab.research.google.com/notebooks/data_table.ipynb>data table notebook</a>'\n",
              "            + ' to learn more about interactive tables.';\n",
              "          element.innerHTML = '';\n",
              "          dataTable['output_type'] = 'display_data';\n",
              "          await google.colab.output.renderOutput(dataTable, element);\n",
              "          const docLink = document.createElement('div');\n",
              "          docLink.innerHTML = docLinkHtml;\n",
              "          element.appendChild(docLink);\n",
              "        }\n",
              "      </script>\n",
              "    </div>\n",
              "  </div>\n",
              "  "
            ]
          },
          "metadata": {},
          "execution_count": 31
        }
      ],
      "source": [
        "# Model evaluation : Precision, Recall, F-score\n",
        "model_eval(y_test, y_pred_labels_opt, GE_taxonomy)"
      ]
    },
    {
      "cell_type": "markdown",
      "metadata": {
        "id": "EMYPEVAK0D89"
      },
      "source": [
        "**Optimizing the threshold** helped us to **slightly improve** the model \n",
        "\n",
        "*   List item\n",
        "*   List item\n",
        "\n",
        "predictions."
      ]
    },
    {
      "cell_type": "markdown",
      "metadata": {
        "id": "bAEYceuZT30x"
      },
      "source": [
        "### 2.4.4 - Indirect evaluation on Ekman taxonomy by mapping predictions"
      ]
    },
    {
      "cell_type": "markdown",
      "metadata": {
        "id": "k_pPXWzFeYzc"
      },
      "source": [
        "Until now, we have only evaluated our model on the GoEmotions taxonomy.\n",
        "\n",
        "As a reference, we can try to map the true and predicted emotions to the Ekman taxonomy and see how our model performs.\n",
        "\n",
        "We have already defined the Ekman taxonomy earlier."
      ]
    },
    {
      "cell_type": "markdown",
      "metadata": {
        "id": "LQetXmQPfOa1"
      },
      "source": [
        "Let's define a function that transforms labels from GoEmotions to Ekman taxonomy."
      ]
    },
    {
      "cell_type": "code",
      "execution_count": 32,
      "metadata": {
        "id": "8KOWIXJUesiy"
      },
      "outputs": [],
      "source": [
        "# Function thats maps predictions on GoEmotions taxonomy to Ekman taxonomy\n",
        "def GE_to_Ekman(GE_labels):\n",
        "    \n",
        "    # Create a dataframe of GoEmotions labels\n",
        "    df_GE = pd.DataFrame(GE_labels, columns=GE_taxonomy)\n",
        "\n",
        "    # Create an empty dataframe of Ekman labels\n",
        "    df_Ekman  = pd.DataFrame(np.zeros((len(GE_labels), len(Ekman_taxonomy))), columns=Ekman_taxonomy)\n",
        "\n",
        "    for i in range(len(df_GE)):\n",
        "\n",
        "        if df_GE.loc[i,['anger', 'annoyance', 'disapproval']].sum() >= 1:\n",
        "            df_Ekman.loc[i,'anger'] = 1\n",
        "\n",
        "        if df_GE.loc[i,'disgust'].sum() >= 1:\n",
        "            df_Ekman.loc[i,'disgust'] = 1\n",
        "\n",
        "        if df_GE.loc[i,['fear', 'nervousness']].sum() >= 1:\n",
        "            df_Ekman.loc[i,'fear'] = 1\n",
        "\n",
        "        if df_GE.loc[i,['joy', 'amusement', 'approval', 'excitement', 'gratitude',\n",
        "                        'love', 'optimism', 'relief', 'pride', 'admiration', 'desire','caring']].sum() >= 1:\n",
        "            df_Ekman.loc[i,'joy'] = 1 \n",
        "\n",
        "        if df_GE.loc[i,['sadness', 'disappointment', 'embarrassment', 'grief', 'remorse']].sum() >= 1:\n",
        "            df_Ekman.loc[i,'sadness'] = 1\n",
        "\n",
        "        if df_GE.loc[i,['surprise', 'realization', 'confusion', 'curiosity']].sum() >= 1:\n",
        "            df_Ekman.loc[i,'surprise'] = 1\n",
        "\n",
        "    return df_Ekman.values"
      ]
    },
    {
      "cell_type": "markdown",
      "metadata": {
        "id": "rkZxJmVzgb4o"
      },
      "source": [
        "We can now apply our function and evaluate the predictions"
      ]
    },
    {
      "cell_type": "code",
      "execution_count": 33,
      "metadata": {
        "colab": {
          "base_uri": "https://localhost:8080/",
          "height": 468
        },
        "id": "TmecGLKsez0Q",
        "outputId": "11204b5a-e67f-4fec-fe96-880ac001d0c2"
      },
      "outputs": [
        {
          "output_type": "stream",
          "name": "stderr",
          "text": [
            "/usr/local/lib/python3.9/dist-packages/sklearn/metrics/_classification.py:1344: UndefinedMetricWarning: Precision and F-score are ill-defined and being set to 0.0 due to no predicted samples. Use `zero_division` parameter to control this behavior.\n",
            "  _warn_prf(average, modifier, msg_start, len(result))\n",
            "/usr/local/lib/python3.9/dist-packages/sklearn/metrics/_classification.py:1344: UndefinedMetricWarning: Recall and F-score are ill-defined and being set to 0.0 due to no true samples. Use `zero_division` parameter to control this behavior.\n",
            "  _warn_prf(average, modifier, msg_start, len(result))\n",
            "/usr/local/lib/python3.9/dist-packages/sklearn/metrics/_classification.py:1344: UndefinedMetricWarning: Precision and F-score are ill-defined and being set to 0.0 in labels with no predicted samples. Use `zero_division` parameter to control this behavior.\n",
            "  _warn_prf(average, modifier, msg_start, len(result))\n",
            "/usr/local/lib/python3.9/dist-packages/sklearn/metrics/_classification.py:1344: UndefinedMetricWarning: Recall and F-score are ill-defined and being set to 0.0 in labels with no true samples. Use `zero_division` parameter to control this behavior.\n",
            "  _warn_prf(average, modifier, msg_start, len(result))\n"
          ]
        },
        {
          "output_type": "execute_result",
          "data": {
            "text/plain": [
              "               Precision  Recall    F1\n",
              "anger               0.73    0.56  0.64\n",
              "disgust             0.28    0.76  0.41\n",
              "fear                0.47    0.86  0.61\n",
              "joy                 0.92    0.81  0.86\n",
              "sadness             0.62    0.55  0.58\n",
              "surprise            0.66    0.70  0.68\n",
              "                    0.00    0.00  0.00\n",
              "MACRO-AVERAGE       0.53    0.61  0.54"
            ],
            "text/html": [
              "\n",
              "  <div id=\"df-da5886f2-ff8d-40e1-a78a-8e7b21e40a86\">\n",
              "    <div class=\"colab-df-container\">\n",
              "      <div>\n",
              "<style scoped>\n",
              "    .dataframe tbody tr th:only-of-type {\n",
              "        vertical-align: middle;\n",
              "    }\n",
              "\n",
              "    .dataframe tbody tr th {\n",
              "        vertical-align: top;\n",
              "    }\n",
              "\n",
              "    .dataframe thead th {\n",
              "        text-align: right;\n",
              "    }\n",
              "</style>\n",
              "<table border=\"1\" class=\"dataframe\">\n",
              "  <thead>\n",
              "    <tr style=\"text-align: right;\">\n",
              "      <th></th>\n",
              "      <th>Precision</th>\n",
              "      <th>Recall</th>\n",
              "      <th>F1</th>\n",
              "    </tr>\n",
              "  </thead>\n",
              "  <tbody>\n",
              "    <tr>\n",
              "      <th>anger</th>\n",
              "      <td>0.73</td>\n",
              "      <td>0.56</td>\n",
              "      <td>0.64</td>\n",
              "    </tr>\n",
              "    <tr>\n",
              "      <th>disgust</th>\n",
              "      <td>0.28</td>\n",
              "      <td>0.76</td>\n",
              "      <td>0.41</td>\n",
              "    </tr>\n",
              "    <tr>\n",
              "      <th>fear</th>\n",
              "      <td>0.47</td>\n",
              "      <td>0.86</td>\n",
              "      <td>0.61</td>\n",
              "    </tr>\n",
              "    <tr>\n",
              "      <th>joy</th>\n",
              "      <td>0.92</td>\n",
              "      <td>0.81</td>\n",
              "      <td>0.86</td>\n",
              "    </tr>\n",
              "    <tr>\n",
              "      <th>sadness</th>\n",
              "      <td>0.62</td>\n",
              "      <td>0.55</td>\n",
              "      <td>0.58</td>\n",
              "    </tr>\n",
              "    <tr>\n",
              "      <th>surprise</th>\n",
              "      <td>0.66</td>\n",
              "      <td>0.70</td>\n",
              "      <td>0.68</td>\n",
              "    </tr>\n",
              "    <tr>\n",
              "      <th></th>\n",
              "      <td>0.00</td>\n",
              "      <td>0.00</td>\n",
              "      <td>0.00</td>\n",
              "    </tr>\n",
              "    <tr>\n",
              "      <th>MACRO-AVERAGE</th>\n",
              "      <td>0.53</td>\n",
              "      <td>0.61</td>\n",
              "      <td>0.54</td>\n",
              "    </tr>\n",
              "  </tbody>\n",
              "</table>\n",
              "</div>\n",
              "      <button class=\"colab-df-convert\" onclick=\"convertToInteractive('df-da5886f2-ff8d-40e1-a78a-8e7b21e40a86')\"\n",
              "              title=\"Convert this dataframe to an interactive table.\"\n",
              "              style=\"display:none;\">\n",
              "        \n",
              "  <svg xmlns=\"http://www.w3.org/2000/svg\" height=\"24px\"viewBox=\"0 0 24 24\"\n",
              "       width=\"24px\">\n",
              "    <path d=\"M0 0h24v24H0V0z\" fill=\"none\"/>\n",
              "    <path d=\"M18.56 5.44l.94 2.06.94-2.06 2.06-.94-2.06-.94-.94-2.06-.94 2.06-2.06.94zm-11 1L8.5 8.5l.94-2.06 2.06-.94-2.06-.94L8.5 2.5l-.94 2.06-2.06.94zm10 10l.94 2.06.94-2.06 2.06-.94-2.06-.94-.94-2.06-.94 2.06-2.06.94z\"/><path d=\"M17.41 7.96l-1.37-1.37c-.4-.4-.92-.59-1.43-.59-.52 0-1.04.2-1.43.59L10.3 9.45l-7.72 7.72c-.78.78-.78 2.05 0 2.83L4 21.41c.39.39.9.59 1.41.59.51 0 1.02-.2 1.41-.59l7.78-7.78 2.81-2.81c.8-.78.8-2.07 0-2.86zM5.41 20L4 18.59l7.72-7.72 1.47 1.35L5.41 20z\"/>\n",
              "  </svg>\n",
              "      </button>\n",
              "      \n",
              "  <style>\n",
              "    .colab-df-container {\n",
              "      display:flex;\n",
              "      flex-wrap:wrap;\n",
              "      gap: 12px;\n",
              "    }\n",
              "\n",
              "    .colab-df-convert {\n",
              "      background-color: #E8F0FE;\n",
              "      border: none;\n",
              "      border-radius: 50%;\n",
              "      cursor: pointer;\n",
              "      display: none;\n",
              "      fill: #1967D2;\n",
              "      height: 32px;\n",
              "      padding: 0 0 0 0;\n",
              "      width: 32px;\n",
              "    }\n",
              "\n",
              "    .colab-df-convert:hover {\n",
              "      background-color: #E2EBFA;\n",
              "      box-shadow: 0px 1px 2px rgba(60, 64, 67, 0.3), 0px 1px 3px 1px rgba(60, 64, 67, 0.15);\n",
              "      fill: #174EA6;\n",
              "    }\n",
              "\n",
              "    [theme=dark] .colab-df-convert {\n",
              "      background-color: #3B4455;\n",
              "      fill: #D2E3FC;\n",
              "    }\n",
              "\n",
              "    [theme=dark] .colab-df-convert:hover {\n",
              "      background-color: #434B5C;\n",
              "      box-shadow: 0px 1px 3px 1px rgba(0, 0, 0, 0.15);\n",
              "      filter: drop-shadow(0px 1px 2px rgba(0, 0, 0, 0.3));\n",
              "      fill: #FFFFFF;\n",
              "    }\n",
              "  </style>\n",
              "\n",
              "      <script>\n",
              "        const buttonEl =\n",
              "          document.querySelector('#df-da5886f2-ff8d-40e1-a78a-8e7b21e40a86 button.colab-df-convert');\n",
              "        buttonEl.style.display =\n",
              "          google.colab.kernel.accessAllowed ? 'block' : 'none';\n",
              "\n",
              "        async function convertToInteractive(key) {\n",
              "          const element = document.querySelector('#df-da5886f2-ff8d-40e1-a78a-8e7b21e40a86');\n",
              "          const dataTable =\n",
              "            await google.colab.kernel.invokeFunction('convertToInteractive',\n",
              "                                                     [key], {});\n",
              "          if (!dataTable) return;\n",
              "\n",
              "          const docLinkHtml = 'Like what you see? Visit the ' +\n",
              "            '<a target=\"_blank\" href=https://colab.research.google.com/notebooks/data_table.ipynb>data table notebook</a>'\n",
              "            + ' to learn more about interactive tables.';\n",
              "          element.innerHTML = '';\n",
              "          dataTable['output_type'] = 'display_data';\n",
              "          await google.colab.output.renderOutput(dataTable, element);\n",
              "          const docLink = document.createElement('div');\n",
              "          docLink.innerHTML = docLinkHtml;\n",
              "          element.appendChild(docLink);\n",
              "        }\n",
              "      </script>\n",
              "    </div>\n",
              "  </div>\n",
              "  "
            ]
          },
          "metadata": {},
          "execution_count": 33
        }
      ],
      "source": [
        "# Mapping GoEmotion labels to Ekman labels (true and predictions)\n",
        "y_test_Ekman = GE_to_Ekman(y_test)\n",
        "y_pred_labels_Ekman = GE_to_Ekman(y_pred_labels_opt)\n",
        "\n",
        "# Evaluation\n",
        "model_eval(y_test_Ekman, y_pred_labels_Ekman, Ekman_taxonomy)"
      ]
    },
    {
      "cell_type": "markdown",
      "metadata": {
        "id": "J_ojzWhTUT2W"
      },
      "source": [
        "## 2.5 - Make predictions"
      ]
    },
    {
      "cell_type": "markdown",
      "metadata": {
        "id": "sJABBqRVtlbk"
      },
      "source": [
        "To make predictions on a new sample, it needs to be processed using all the different processing steps we used."
      ]
    },
    {
      "cell_type": "code",
      "execution_count": 34,
      "metadata": {
        "id": "tdTRJR_ZhVKI"
      },
      "outputs": [],
      "source": [
        "\n",
        "# Retrieving initial preprocessings\n",
        "def preprocess_corpus(x):\n",
        "    \n",
        "    # Adding a space between words and punctation\n",
        "    x = re.sub( r'([a-zA-Z\\[\\]])([,;.!?])', r'\\1 \\2', x)\n",
        "    x = re.sub( r'([,;.!?])([a-zA-Z\\[\\]])', r'\\1 \\2', x)\n",
        "\n",
        "    # Demojize\n",
        "    x = emoji.demojize(x)\n",
        "\n",
        "    # Expand contraction\n",
        "    x = contractions.fix(x)\n",
        "\n",
        "    # Lower\n",
        "    x = x.lower()\n",
        "\n",
        "    #correct some acronyms/typos/abbreviations  \n",
        "    x = re.sub(r\"lmao\", \"laughing my ass off\", x)  \n",
        "    x = re.sub(r\"amirite\", \"am i right\", x)\n",
        "    x = re.sub(r\"\\b(tho)\\b\", \"though\", x)\n",
        "    x = re.sub(r\"\\b(ikr)\\b\", \"i know right\", x)\n",
        "    x = re.sub(r\"\\b(ya|u)\\b\", \"you\", x)\n",
        "    x = re.sub(r\"\\b(eu)\\b\", \"europe\", x)\n",
        "    x = re.sub(r\"\\b(da)\\b\", \"the\", x)\n",
        "    x = re.sub(r\"\\b(dat)\\b\", \"that\", x)\n",
        "    x = re.sub(r\"\\b(dats)\\b\", \"that is\", x)\n",
        "    x = re.sub(r\"\\b(cuz)\\b\", \"because\", x)\n",
        "    x = re.sub(r\"\\b(fkn)\\b\", \"fucking\", x)\n",
        "    x = re.sub(r\"\\b(tbh)\\b\", \"to be honest\", x)\n",
        "    x = re.sub(r\"\\b(tbf)\\b\", \"to be fair\", x)\n",
        "    x = re.sub(r\"faux pas\", \"mistake\", x)\n",
        "    x = re.sub(r\"\\b(btw)\\b\", \"by the way\", x)\n",
        "    x = re.sub(r\"\\b(bs)\\b\", \"bullshit\", x)\n",
        "    x = re.sub(r\"\\b(kinda)\\b\", \"kind of\", x)\n",
        "    x = re.sub(r\"\\b(bruh)\\b\", \"bro\", x)\n",
        "    x = re.sub(r\"\\b(w/e)\\b\", \"whatever\", x)\n",
        "    x = re.sub(r\"\\b(w/)\\b\", \"with\", x)\n",
        "    x = re.sub(r\"\\b(w/o)\\b\", \"without\", x)\n",
        "    x = re.sub(r\"\\b(doj)\\b\", \"department of justice\", x)\n",
        "\n",
        "    # replace some words with multiple occurences of a letter, example \"coooool\" turns into --> cool\n",
        "    x = re.sub(r\"\\b(j+e{2,}z+e*)\\b\", \"jeez\", x)\n",
        "    x = re.sub(r\"\\b(co+l+)\\b\", \"cool\", x)\n",
        "    x = re.sub(r\"\\b(g+o+a+l+)\\b\", \"goal\", x)\n",
        "    x = re.sub(r\"\\b(s+h+i+t+)\\b\", \"shit\", x)\n",
        "    x = re.sub(r\"\\b(o+m+g+)\\b\", \"omg\", x)\n",
        "    x = re.sub(r\"\\b(w+t+f+)\\b\", \"wtf\", x)\n",
        "    x = re.sub(r\"\\b(w+h+a+t+)\\b\", \"what\", x)\n",
        "    x = re.sub(r\"\\b(y+e+y+|y+a+y+|y+e+a+h+)\\b\", \"yeah\", x)\n",
        "    x = re.sub(r\"\\b(w+o+w+)\\b\", \"wow\", x)\n",
        "    x = re.sub(r\"\\b(w+h+y+)\\b\", \"why\", x)\n",
        "    x = re.sub(r\"\\b(s+o+)\\b\", \"so\", x)\n",
        "    x = re.sub(r\"\\b(f)\\b\", \"fuck\", x)\n",
        "    x = re.sub(r\"\\b(w+h+o+p+s+)\\b\", \"whoops\", x)\n",
        "    x = re.sub(r\"\\b(ofc)\\b\", \"of course\", x)\n",
        "    x = re.sub(r\"\\b(the us)\\b\", \"usa\", x)\n",
        "    x = re.sub(r\"\\b(gf)\\b\", \"girlfriend\", x)\n",
        "    x = re.sub(r\"\\b(hr)\\b\", \"human ressources\", x)\n",
        "    x = re.sub(r\"\\b(mh)\\b\", \"mental health\", x)\n",
        "    x = re.sub(r\"\\b(idk)\\b\", \"i do not know\", x)\n",
        "    x = re.sub(r\"\\b(gotcha)\\b\", \"i got you\", x)\n",
        "    x = re.sub(r\"\\b(y+e+p+)\\b\", \"yes\", x)\n",
        "    x = re.sub(r\"\\b(a*ha+h[ha]*|a*ha +h[ha]*)\\b\", \"haha\", x)\n",
        "    x = re.sub(r\"\\b(o?l+o+l+[ol]*)\\b\", \"lol\", x)\n",
        "    x = re.sub(r\"\\b(o*ho+h[ho]*|o*ho +h[ho]*)\\b\", \"ohoh\", x)\n",
        "    x = re.sub(r\"\\b(o+h+)\\b\", \"oh\", x)\n",
        "    x = re.sub(r\"\\b(a+h+)\\b\", \"ah\", x)\n",
        "    x = re.sub(r\"\\b(u+h+)\\b\", \"uh\", x)\n",
        "\n",
        "    # Handling emojis\n",
        "    x = re.sub(r\"<3\", \" love \", x)\n",
        "    x = re.sub(r\"xd\", \" smiling_face_with_open_mouth_and_tightly_closed_eyes \", x)\n",
        "    x = re.sub(r\":\\)\", \" smiling_face \", x)\n",
        "    x = re.sub(r\"^_^\", \" smiling_face \", x)\n",
        "    x = re.sub(r\"\\*_\\*\", \" star_struck \", x)\n",
        "    x = re.sub(r\":\\(\", \" frowning_face \", x)\n",
        "    x = re.sub(r\":\\^\\(\", \" frowning_face \", x)\n",
        "    x = re.sub(r\";\\(\", \" frowning_face \", x)\n",
        "    x = re.sub(r\":\\/\",  \" confused_face\", x)\n",
        "    x = re.sub(r\";\\)\",  \" wink\", x)\n",
        "    x = re.sub(r\">__<\",  \" unamused \", x)\n",
        "    x = re.sub(r\"\\b([xo]+x*)\\b\", \" xoxo \", x)\n",
        "    x = re.sub(r\"\\b(n+a+h+)\\b\", \"no\", x)\n",
        "    \n",
        "    # Handling special cases of text\n",
        "    x = re.sub(r\"h a m b e r d e r s\", \"hamberders\", x)\n",
        "    x = re.sub(r\"b e n\", \"ben\", x)\n",
        "    x = re.sub(r\"s a t i r e\", \"satire\", x)\n",
        "    x = re.sub(r\"y i k e s\", \"yikes\", x)\n",
        "    x = re.sub(r\"s p o i l e r\", \"spoiler\", x)\n",
        "    x = re.sub(r\"thankyou\", \"thank you\", x)\n",
        "    x = re.sub(r\"a^r^o^o^o^o^o^o^o^n^d\", \"around\", x)\n",
        "\n",
        "    # Remove special characters and numbers replace by space + remove double space\n",
        "    x = re.sub(r\"\\b([.]{3,})\",\" dots \", x)\n",
        "    x = re.sub(r\"[^A-Za-z!?_]+\",\" \", x)\n",
        "    x = re.sub(r\"\\b([s])\\b *\",\"\", x)\n",
        "    x = re.sub(r\" +\",\" \", x)\n",
        "    x = x.strip()\n",
        "\n",
        "    return x     "
      ]
    },
    {
      "cell_type": "markdown",
      "metadata": {
        "id": "oCEftbxYy4hO"
      },
      "source": [
        "Now we can define a prediction function that takes one or more samples, and outputs the detected emotions from the model."
      ]
    },
    {
      "cell_type": "code",
      "execution_count": 45,
      "metadata": {
        "id": "Bm-6OEi_1V6t"
      },
      "outputs": [],
      "source": [
        "def predict_samples(text_samples, model, threshold, ekman=False):\n",
        "    \n",
        "    # Text preprocessing and cleaning\n",
        "    text_samples_clean = [preprocess_corpus(text) for text in text_samples]\n",
        "    \n",
        "    # Tokenizing train data\n",
        "    samples_token = tokenizer(\n",
        "        text = text_samples_clean,\n",
        "        add_special_tokens = True,\n",
        "        max_length = max_length,\n",
        "        truncation = True,\n",
        "        padding = 'max_length', \n",
        "        return_tensors = 'tf',\n",
        "        return_token_type_ids = True,\n",
        "        return_attention_mask = True,\n",
        "        verbose = True,\n",
        "    )\n",
        "    \n",
        "    # Preparing to feed the model\n",
        "    samples = {'input_ids': samples_token['input_ids'],\n",
        "               'attention_mask': samples_token['attention_mask'],\n",
        "               'token_ids': samples_token['token_type_ids']\n",
        "              }\n",
        "    \n",
        "    # Probability predictions\n",
        "    samples_pred_proba = model.predict(samples)\n",
        "    print(samples_pred_proba)    \n",
        "    # Label prediction using threshold\n",
        "    samples_pred_labels = proba_to_labels(samples_pred_proba)\n",
        "    print(samples_pred_labels)\n",
        "            \n",
        "    samples_pred_labels_df = pd.DataFrame(samples_pred_labels)\n",
        "    samples_pred_labels_df = samples_pred_labels_df.apply(lambda x: [GE_taxonomy[i] for i in range(len(x)) if x[i]==1], axis=1)\n",
        "    \n",
        "    #return list(samples_pred_labels_df)\n",
        "    return pd.DataFrame({\"Text\":text_samples, \"Emotions\":list(samples_pred_labels_df)})"
      ]
    },
    {
      "cell_type": "markdown",
      "metadata": {
        "id": "XRKT57TEzaBs"
      },
      "source": [
        "Let's try on few examples."
      ]
    },
    {
      "cell_type": "code",
      "execution_count": 46,
      "metadata": {
        "colab": {
          "base_uri": "https://localhost:8080/",
          "height": 871
        },
        "id": "rQ_dctb0O-9A",
        "outputId": "9224f3c2-621a-415e-938f-c9e14820f4a6"
      },
      "outputs": [
        {
          "output_type": "stream",
          "name": "stdout",
          "text": [
            "1/1 [==============================] - 1s 914ms/step\n",
            "[[0.66535705 0.33773574 0.05374125 0.060303   0.42069316 0.11218151\n",
            "  0.06396097 0.06449705 0.27923867 0.12307426 0.14686528 0.06013875\n",
            "  0.06519602 0.4458813  0.05746759 0.08259653 0.24681443 0.74404633\n",
            "  0.9721365  0.090335   0.14357226 0.3203896  0.22899057 0.20805801\n",
            "  0.04699246 0.1012933  0.17816101]\n",
            " [0.07194528 0.35890588 0.7740875  0.696098   0.08426114 0.1083358\n",
            "  0.5676295  0.7868423  0.09863612 0.29958183 0.23490418 0.49929625\n",
            "  0.19323358 0.32213467 0.36671087 0.05523955 0.235491   0.12072066\n",
            "  0.18380153 0.31661978 0.06157617 0.05067317 0.2664501  0.14159314\n",
            "  0.04512762 0.13985685 0.80601233]\n",
            " [0.59472317 0.0950787  0.28701407 0.43682864 0.58530277 0.10309449\n",
            "  0.07752562 0.02147347 0.14842066 0.525435   0.29466528 0.5990825\n",
            "  0.3371455  0.61035025 0.5005462  0.02507098 0.21577284 0.22351052\n",
            "  0.10033977 0.53176546 0.15091188 0.5093151  0.6685058  0.25751022\n",
            "  0.05812104 0.24285467 0.5637232 ]\n",
            " [0.40432772 0.18133178 0.10388181 0.07155788 0.36497602 0.22884624\n",
            "  0.06270487 0.07197185 0.4192283  0.12019587 0.13391897 0.04789801\n",
            "  0.05646395 0.2575952  0.0615985  0.12857455 0.21302749 0.5019427\n",
            "  0.9847187  0.07885586 0.24216993 0.17131092 0.16937853 0.1953438\n",
            "  0.04303382 0.09378755 0.07775762]\n",
            " [0.13056274 0.07916457 0.4577631  0.4531968  0.58969486 0.9026261\n",
            "  0.11877558 0.11027869 0.6482065  0.25698572 0.4413528  0.15771621\n",
            "  0.06972586 0.14461115 0.42348662 0.05346923 0.16605467 0.18576056\n",
            "  0.5320762  0.2663759  0.81199175 0.10542735 0.23204377 0.18186884\n",
            "  0.03111923 0.12295597 0.04721515]]\n",
            "[[0. 0. 0. 0. 0. 0. 0. 0. 0. 0. 0. 0. 0. 0. 0. 0. 0. 0. 1. 0. 0. 0. 0. 0.\n",
            "  0. 0. 0.]\n",
            " [0. 0. 0. 0. 0. 0. 0. 0. 0. 0. 0. 0. 0. 0. 0. 0. 0. 0. 0. 0. 0. 0. 0. 0.\n",
            "  0. 0. 1.]\n",
            " [0. 0. 0. 0. 0. 0. 0. 0. 0. 0. 0. 0. 0. 0. 0. 0. 0. 0. 0. 0. 0. 0. 0. 0.\n",
            "  0. 0. 0.]\n",
            " [0. 0. 0. 0. 0. 0. 0. 0. 0. 0. 0. 0. 0. 0. 0. 0. 0. 0. 1. 0. 0. 0. 0. 0.\n",
            "  0. 0. 0.]\n",
            " [0. 0. 0. 0. 0. 1. 0. 0. 0. 0. 0. 0. 0. 0. 0. 0. 0. 0. 0. 0. 1. 0. 0. 0.\n",
            "  0. 0. 0.]]\n"
          ]
        },
        {
          "output_type": "execute_result",
          "data": {
            "text/plain": [
              "                                                Text            Emotions\n",
              "0  My favourite food is anything I didn't have to...              [love]\n",
              "1                             are you kiddin me ??!!          [surprise]\n",
              "2                                                red                  []\n",
              "3                            I love to play football              [love]\n",
              "4        If you did this again I will fight with you  [caring, optimism]"
            ],
            "text/html": [
              "\n",
              "  <div id=\"df-fb6748c1-78a2-4ba0-b630-60bafed67ccb\">\n",
              "    <div class=\"colab-df-container\">\n",
              "      <div>\n",
              "<style scoped>\n",
              "    .dataframe tbody tr th:only-of-type {\n",
              "        vertical-align: middle;\n",
              "    }\n",
              "\n",
              "    .dataframe tbody tr th {\n",
              "        vertical-align: top;\n",
              "    }\n",
              "\n",
              "    .dataframe thead th {\n",
              "        text-align: right;\n",
              "    }\n",
              "</style>\n",
              "<table border=\"1\" class=\"dataframe\">\n",
              "  <thead>\n",
              "    <tr style=\"text-align: right;\">\n",
              "      <th></th>\n",
              "      <th>Text</th>\n",
              "      <th>Emotions</th>\n",
              "    </tr>\n",
              "  </thead>\n",
              "  <tbody>\n",
              "    <tr>\n",
              "      <th>0</th>\n",
              "      <td>My favourite food is anything I didn't have to...</td>\n",
              "      <td>[love]</td>\n",
              "    </tr>\n",
              "    <tr>\n",
              "      <th>1</th>\n",
              "      <td>are you kiddin me ??!!</td>\n",
              "      <td>[surprise]</td>\n",
              "    </tr>\n",
              "    <tr>\n",
              "      <th>2</th>\n",
              "      <td>red</td>\n",
              "      <td>[]</td>\n",
              "    </tr>\n",
              "    <tr>\n",
              "      <th>3</th>\n",
              "      <td>I love to play football</td>\n",
              "      <td>[love]</td>\n",
              "    </tr>\n",
              "    <tr>\n",
              "      <th>4</th>\n",
              "      <td>If you did this again I will fight with you</td>\n",
              "      <td>[caring, optimism]</td>\n",
              "    </tr>\n",
              "  </tbody>\n",
              "</table>\n",
              "</div>\n",
              "      <button class=\"colab-df-convert\" onclick=\"convertToInteractive('df-fb6748c1-78a2-4ba0-b630-60bafed67ccb')\"\n",
              "              title=\"Convert this dataframe to an interactive table.\"\n",
              "              style=\"display:none;\">\n",
              "        \n",
              "  <svg xmlns=\"http://www.w3.org/2000/svg\" height=\"24px\"viewBox=\"0 0 24 24\"\n",
              "       width=\"24px\">\n",
              "    <path d=\"M0 0h24v24H0V0z\" fill=\"none\"/>\n",
              "    <path d=\"M18.56 5.44l.94 2.06.94-2.06 2.06-.94-2.06-.94-.94-2.06-.94 2.06-2.06.94zm-11 1L8.5 8.5l.94-2.06 2.06-.94-2.06-.94L8.5 2.5l-.94 2.06-2.06.94zm10 10l.94 2.06.94-2.06 2.06-.94-2.06-.94-.94-2.06-.94 2.06-2.06.94z\"/><path d=\"M17.41 7.96l-1.37-1.37c-.4-.4-.92-.59-1.43-.59-.52 0-1.04.2-1.43.59L10.3 9.45l-7.72 7.72c-.78.78-.78 2.05 0 2.83L4 21.41c.39.39.9.59 1.41.59.51 0 1.02-.2 1.41-.59l7.78-7.78 2.81-2.81c.8-.78.8-2.07 0-2.86zM5.41 20L4 18.59l7.72-7.72 1.47 1.35L5.41 20z\"/>\n",
              "  </svg>\n",
              "      </button>\n",
              "      \n",
              "  <style>\n",
              "    .colab-df-container {\n",
              "      display:flex;\n",
              "      flex-wrap:wrap;\n",
              "      gap: 12px;\n",
              "    }\n",
              "\n",
              "    .colab-df-convert {\n",
              "      background-color: #E8F0FE;\n",
              "      border: none;\n",
              "      border-radius: 50%;\n",
              "      cursor: pointer;\n",
              "      display: none;\n",
              "      fill: #1967D2;\n",
              "      height: 32px;\n",
              "      padding: 0 0 0 0;\n",
              "      width: 32px;\n",
              "    }\n",
              "\n",
              "    .colab-df-convert:hover {\n",
              "      background-color: #E2EBFA;\n",
              "      box-shadow: 0px 1px 2px rgba(60, 64, 67, 0.3), 0px 1px 3px 1px rgba(60, 64, 67, 0.15);\n",
              "      fill: #174EA6;\n",
              "    }\n",
              "\n",
              "    [theme=dark] .colab-df-convert {\n",
              "      background-color: #3B4455;\n",
              "      fill: #D2E3FC;\n",
              "    }\n",
              "\n",
              "    [theme=dark] .colab-df-convert:hover {\n",
              "      background-color: #434B5C;\n",
              "      box-shadow: 0px 1px 3px 1px rgba(0, 0, 0, 0.15);\n",
              "      filter: drop-shadow(0px 1px 2px rgba(0, 0, 0, 0.3));\n",
              "      fill: #FFFFFF;\n",
              "    }\n",
              "  </style>\n",
              "\n",
              "      <script>\n",
              "        const buttonEl =\n",
              "          document.querySelector('#df-fb6748c1-78a2-4ba0-b630-60bafed67ccb button.colab-df-convert');\n",
              "        buttonEl.style.display =\n",
              "          google.colab.kernel.accessAllowed ? 'block' : 'none';\n",
              "\n",
              "        async function convertToInteractive(key) {\n",
              "          const element = document.querySelector('#df-fb6748c1-78a2-4ba0-b630-60bafed67ccb');\n",
              "          const dataTable =\n",
              "            await google.colab.kernel.invokeFunction('convertToInteractive',\n",
              "                                                     [key], {});\n",
              "          if (!dataTable) return;\n",
              "\n",
              "          const docLinkHtml = 'Like what you see? Visit the ' +\n",
              "            '<a target=\"_blank\" href=https://colab.research.google.com/notebooks/data_table.ipynb>data table notebook</a>'\n",
              "            + ' to learn more about interactive tables.';\n",
              "          element.innerHTML = '';\n",
              "          dataTable['output_type'] = 'display_data';\n",
              "          await google.colab.output.renderOutput(dataTable, element);\n",
              "          const docLink = document.createElement('div');\n",
              "          docLink.innerHTML = docLinkHtml;\n",
              "          element.appendChild(docLink);\n",
              "        }\n",
              "      </script>\n",
              "    </div>\n",
              "  </div>\n",
              "  "
            ]
          },
          "metadata": {},
          "execution_count": 46
        }
      ],
      "source": [
        "# Predict samples\n",
        "predict_samples([\"My favourite food is anything I didn't have to cook myself\", \"are you kiddin me ??!!\", \"red\",\"I love to play football\",\"If you did this again I will fight with you\"], model, threshold_opt)"
      ]
    },
    {
      "cell_type": "code",
      "source": [],
      "metadata": {
        "id": "VI6WjS1ZRxV0"
      },
      "execution_count": null,
      "outputs": []
    }
  ],
  "metadata": {
    "accelerator": "TPU",
    "colab": {
      "provenance": []
    },
    "gpuClass": "standard",
    "kernelspec": {
      "display_name": "Python 3 (ipykernel)",
      "language": "python",
      "name": "python3"
    },
    "language_info": {
      "codemirror_mode": {
        "name": "ipython",
        "version": 3
      },
      "file_extension": ".py",
      "mimetype": "text/x-python",
      "name": "python",
      "nbconvert_exporter": "python",
      "pygments_lexer": "ipython3",
      "version": "3.9.13"
    },
    "widgets": {
      "application/vnd.jupyter.widget-state+json": {
        "b15c0897c3e84a2ca780a96f8c126644": {
          "model_module": "@jupyter-widgets/controls",
          "model_name": "HBoxModel",
          "model_module_version": "1.5.0",
          "state": {
            "_dom_classes": [],
            "_model_module": "@jupyter-widgets/controls",
            "_model_module_version": "1.5.0",
            "_model_name": "HBoxModel",
            "_view_count": null,
            "_view_module": "@jupyter-widgets/controls",
            "_view_module_version": "1.5.0",
            "_view_name": "HBoxView",
            "box_style": "",
            "children": [
              "IPY_MODEL_e2704b9023024a6e8e13c404115f7c79",
              "IPY_MODEL_ded98ac8769645bab73b0cc758f9cb86",
              "IPY_MODEL_515b9273dc8443be8eb0ff291c340e68"
            ],
            "layout": "IPY_MODEL_dbcd56bee4d84e4c9434f1e966ff62c4"
          }
        },
        "e2704b9023024a6e8e13c404115f7c79": {
          "model_module": "@jupyter-widgets/controls",
          "model_name": "HTMLModel",
          "model_module_version": "1.5.0",
          "state": {
            "_dom_classes": [],
            "_model_module": "@jupyter-widgets/controls",
            "_model_module_version": "1.5.0",
            "_model_name": "HTMLModel",
            "_view_count": null,
            "_view_module": "@jupyter-widgets/controls",
            "_view_module_version": "1.5.0",
            "_view_name": "HTMLView",
            "description": "",
            "description_tooltip": null,
            "layout": "IPY_MODEL_adb285c1b8e446f08c033f8333bff7c1",
            "placeholder": "​",
            "style": "IPY_MODEL_ba2e9714f6a345ec9667d84d6b61fdaf",
            "value": "Downloading (…)lve/main/config.json: 100%"
          }
        },
        "ded98ac8769645bab73b0cc758f9cb86": {
          "model_module": "@jupyter-widgets/controls",
          "model_name": "FloatProgressModel",
          "model_module_version": "1.5.0",
          "state": {
            "_dom_classes": [],
            "_model_module": "@jupyter-widgets/controls",
            "_model_module_version": "1.5.0",
            "_model_name": "FloatProgressModel",
            "_view_count": null,
            "_view_module": "@jupyter-widgets/controls",
            "_view_module_version": "1.5.0",
            "_view_name": "ProgressView",
            "bar_style": "success",
            "description": "",
            "description_tooltip": null,
            "layout": "IPY_MODEL_ddcb37e6261448a083cac8a261997c4b",
            "max": 570,
            "min": 0,
            "orientation": "horizontal",
            "style": "IPY_MODEL_19393682cdc549cb97a89a1a1e541b02",
            "value": 570
          }
        },
        "515b9273dc8443be8eb0ff291c340e68": {
          "model_module": "@jupyter-widgets/controls",
          "model_name": "HTMLModel",
          "model_module_version": "1.5.0",
          "state": {
            "_dom_classes": [],
            "_model_module": "@jupyter-widgets/controls",
            "_model_module_version": "1.5.0",
            "_model_name": "HTMLModel",
            "_view_count": null,
            "_view_module": "@jupyter-widgets/controls",
            "_view_module_version": "1.5.0",
            "_view_name": "HTMLView",
            "description": "",
            "description_tooltip": null,
            "layout": "IPY_MODEL_e0998bbd5e5a4fed856ab007ecc7f7b2",
            "placeholder": "​",
            "style": "IPY_MODEL_901c2ff0d14c4f9ea092425f2ec51bc6",
            "value": " 570/570 [00:00&lt;00:00, 18.2kB/s]"
          }
        },
        "dbcd56bee4d84e4c9434f1e966ff62c4": {
          "model_module": "@jupyter-widgets/base",
          "model_name": "LayoutModel",
          "model_module_version": "1.2.0",
          "state": {
            "_model_module": "@jupyter-widgets/base",
            "_model_module_version": "1.2.0",
            "_model_name": "LayoutModel",
            "_view_count": null,
            "_view_module": "@jupyter-widgets/base",
            "_view_module_version": "1.2.0",
            "_view_name": "LayoutView",
            "align_content": null,
            "align_items": null,
            "align_self": null,
            "border": null,
            "bottom": null,
            "display": null,
            "flex": null,
            "flex_flow": null,
            "grid_area": null,
            "grid_auto_columns": null,
            "grid_auto_flow": null,
            "grid_auto_rows": null,
            "grid_column": null,
            "grid_gap": null,
            "grid_row": null,
            "grid_template_areas": null,
            "grid_template_columns": null,
            "grid_template_rows": null,
            "height": null,
            "justify_content": null,
            "justify_items": null,
            "left": null,
            "margin": null,
            "max_height": null,
            "max_width": null,
            "min_height": null,
            "min_width": null,
            "object_fit": null,
            "object_position": null,
            "order": null,
            "overflow": null,
            "overflow_x": null,
            "overflow_y": null,
            "padding": null,
            "right": null,
            "top": null,
            "visibility": null,
            "width": null
          }
        },
        "adb285c1b8e446f08c033f8333bff7c1": {
          "model_module": "@jupyter-widgets/base",
          "model_name": "LayoutModel",
          "model_module_version": "1.2.0",
          "state": {
            "_model_module": "@jupyter-widgets/base",
            "_model_module_version": "1.2.0",
            "_model_name": "LayoutModel",
            "_view_count": null,
            "_view_module": "@jupyter-widgets/base",
            "_view_module_version": "1.2.0",
            "_view_name": "LayoutView",
            "align_content": null,
            "align_items": null,
            "align_self": null,
            "border": null,
            "bottom": null,
            "display": null,
            "flex": null,
            "flex_flow": null,
            "grid_area": null,
            "grid_auto_columns": null,
            "grid_auto_flow": null,
            "grid_auto_rows": null,
            "grid_column": null,
            "grid_gap": null,
            "grid_row": null,
            "grid_template_areas": null,
            "grid_template_columns": null,
            "grid_template_rows": null,
            "height": null,
            "justify_content": null,
            "justify_items": null,
            "left": null,
            "margin": null,
            "max_height": null,
            "max_width": null,
            "min_height": null,
            "min_width": null,
            "object_fit": null,
            "object_position": null,
            "order": null,
            "overflow": null,
            "overflow_x": null,
            "overflow_y": null,
            "padding": null,
            "right": null,
            "top": null,
            "visibility": null,
            "width": null
          }
        },
        "ba2e9714f6a345ec9667d84d6b61fdaf": {
          "model_module": "@jupyter-widgets/controls",
          "model_name": "DescriptionStyleModel",
          "model_module_version": "1.5.0",
          "state": {
            "_model_module": "@jupyter-widgets/controls",
            "_model_module_version": "1.5.0",
            "_model_name": "DescriptionStyleModel",
            "_view_count": null,
            "_view_module": "@jupyter-widgets/base",
            "_view_module_version": "1.2.0",
            "_view_name": "StyleView",
            "description_width": ""
          }
        },
        "ddcb37e6261448a083cac8a261997c4b": {
          "model_module": "@jupyter-widgets/base",
          "model_name": "LayoutModel",
          "model_module_version": "1.2.0",
          "state": {
            "_model_module": "@jupyter-widgets/base",
            "_model_module_version": "1.2.0",
            "_model_name": "LayoutModel",
            "_view_count": null,
            "_view_module": "@jupyter-widgets/base",
            "_view_module_version": "1.2.0",
            "_view_name": "LayoutView",
            "align_content": null,
            "align_items": null,
            "align_self": null,
            "border": null,
            "bottom": null,
            "display": null,
            "flex": null,
            "flex_flow": null,
            "grid_area": null,
            "grid_auto_columns": null,
            "grid_auto_flow": null,
            "grid_auto_rows": null,
            "grid_column": null,
            "grid_gap": null,
            "grid_row": null,
            "grid_template_areas": null,
            "grid_template_columns": null,
            "grid_template_rows": null,
            "height": null,
            "justify_content": null,
            "justify_items": null,
            "left": null,
            "margin": null,
            "max_height": null,
            "max_width": null,
            "min_height": null,
            "min_width": null,
            "object_fit": null,
            "object_position": null,
            "order": null,
            "overflow": null,
            "overflow_x": null,
            "overflow_y": null,
            "padding": null,
            "right": null,
            "top": null,
            "visibility": null,
            "width": null
          }
        },
        "19393682cdc549cb97a89a1a1e541b02": {
          "model_module": "@jupyter-widgets/controls",
          "model_name": "ProgressStyleModel",
          "model_module_version": "1.5.0",
          "state": {
            "_model_module": "@jupyter-widgets/controls",
            "_model_module_version": "1.5.0",
            "_model_name": "ProgressStyleModel",
            "_view_count": null,
            "_view_module": "@jupyter-widgets/base",
            "_view_module_version": "1.2.0",
            "_view_name": "StyleView",
            "bar_color": null,
            "description_width": ""
          }
        },
        "e0998bbd5e5a4fed856ab007ecc7f7b2": {
          "model_module": "@jupyter-widgets/base",
          "model_name": "LayoutModel",
          "model_module_version": "1.2.0",
          "state": {
            "_model_module": "@jupyter-widgets/base",
            "_model_module_version": "1.2.0",
            "_model_name": "LayoutModel",
            "_view_count": null,
            "_view_module": "@jupyter-widgets/base",
            "_view_module_version": "1.2.0",
            "_view_name": "LayoutView",
            "align_content": null,
            "align_items": null,
            "align_self": null,
            "border": null,
            "bottom": null,
            "display": null,
            "flex": null,
            "flex_flow": null,
            "grid_area": null,
            "grid_auto_columns": null,
            "grid_auto_flow": null,
            "grid_auto_rows": null,
            "grid_column": null,
            "grid_gap": null,
            "grid_row": null,
            "grid_template_areas": null,
            "grid_template_columns": null,
            "grid_template_rows": null,
            "height": null,
            "justify_content": null,
            "justify_items": null,
            "left": null,
            "margin": null,
            "max_height": null,
            "max_width": null,
            "min_height": null,
            "min_width": null,
            "object_fit": null,
            "object_position": null,
            "order": null,
            "overflow": null,
            "overflow_x": null,
            "overflow_y": null,
            "padding": null,
            "right": null,
            "top": null,
            "visibility": null,
            "width": null
          }
        },
        "901c2ff0d14c4f9ea092425f2ec51bc6": {
          "model_module": "@jupyter-widgets/controls",
          "model_name": "DescriptionStyleModel",
          "model_module_version": "1.5.0",
          "state": {
            "_model_module": "@jupyter-widgets/controls",
            "_model_module_version": "1.5.0",
            "_model_name": "DescriptionStyleModel",
            "_view_count": null,
            "_view_module": "@jupyter-widgets/base",
            "_view_module_version": "1.2.0",
            "_view_name": "StyleView",
            "description_width": ""
          }
        },
        "51094397dd8d4f19a0a89a43b09452b0": {
          "model_module": "@jupyter-widgets/controls",
          "model_name": "HBoxModel",
          "model_module_version": "1.5.0",
          "state": {
            "_dom_classes": [],
            "_model_module": "@jupyter-widgets/controls",
            "_model_module_version": "1.5.0",
            "_model_name": "HBoxModel",
            "_view_count": null,
            "_view_module": "@jupyter-widgets/controls",
            "_view_module_version": "1.5.0",
            "_view_name": "HBoxView",
            "box_style": "",
            "children": [
              "IPY_MODEL_c366e4606fd14b539c528a8cd45111f8",
              "IPY_MODEL_d015e39ca97846788c48340bd0ba313e",
              "IPY_MODEL_ca4171c00566435fa26b7180237f9ae7"
            ],
            "layout": "IPY_MODEL_19fd240487e648c39721c5acd38af0dd"
          }
        },
        "c366e4606fd14b539c528a8cd45111f8": {
          "model_module": "@jupyter-widgets/controls",
          "model_name": "HTMLModel",
          "model_module_version": "1.5.0",
          "state": {
            "_dom_classes": [],
            "_model_module": "@jupyter-widgets/controls",
            "_model_module_version": "1.5.0",
            "_model_name": "HTMLModel",
            "_view_count": null,
            "_view_module": "@jupyter-widgets/controls",
            "_view_module_version": "1.5.0",
            "_view_name": "HTMLView",
            "description": "",
            "description_tooltip": null,
            "layout": "IPY_MODEL_5b771be346ab447d9382fab83961bed6",
            "placeholder": "​",
            "style": "IPY_MODEL_bd193d957e2c429a84c1cd0835132be2",
            "value": "Downloading (…)okenizer_config.json: 100%"
          }
        },
        "d015e39ca97846788c48340bd0ba313e": {
          "model_module": "@jupyter-widgets/controls",
          "model_name": "FloatProgressModel",
          "model_module_version": "1.5.0",
          "state": {
            "_dom_classes": [],
            "_model_module": "@jupyter-widgets/controls",
            "_model_module_version": "1.5.0",
            "_model_name": "FloatProgressModel",
            "_view_count": null,
            "_view_module": "@jupyter-widgets/controls",
            "_view_module_version": "1.5.0",
            "_view_name": "ProgressView",
            "bar_style": "success",
            "description": "",
            "description_tooltip": null,
            "layout": "IPY_MODEL_f4c2b5773fc844168d63752fd15ec34d",
            "max": 28,
            "min": 0,
            "orientation": "horizontal",
            "style": "IPY_MODEL_9c8eba7cf7ec4736b0889976725e4be8",
            "value": 28
          }
        },
        "ca4171c00566435fa26b7180237f9ae7": {
          "model_module": "@jupyter-widgets/controls",
          "model_name": "HTMLModel",
          "model_module_version": "1.5.0",
          "state": {
            "_dom_classes": [],
            "_model_module": "@jupyter-widgets/controls",
            "_model_module_version": "1.5.0",
            "_model_name": "HTMLModel",
            "_view_count": null,
            "_view_module": "@jupyter-widgets/controls",
            "_view_module_version": "1.5.0",
            "_view_name": "HTMLView",
            "description": "",
            "description_tooltip": null,
            "layout": "IPY_MODEL_1092975d6a6f41a9a29a1aa3ff18bdf6",
            "placeholder": "​",
            "style": "IPY_MODEL_922002ce1fca4823ac0fe36aa46aa040",
            "value": " 28.0/28.0 [00:00&lt;00:00, 1.04kB/s]"
          }
        },
        "19fd240487e648c39721c5acd38af0dd": {
          "model_module": "@jupyter-widgets/base",
          "model_name": "LayoutModel",
          "model_module_version": "1.2.0",
          "state": {
            "_model_module": "@jupyter-widgets/base",
            "_model_module_version": "1.2.0",
            "_model_name": "LayoutModel",
            "_view_count": null,
            "_view_module": "@jupyter-widgets/base",
            "_view_module_version": "1.2.0",
            "_view_name": "LayoutView",
            "align_content": null,
            "align_items": null,
            "align_self": null,
            "border": null,
            "bottom": null,
            "display": null,
            "flex": null,
            "flex_flow": null,
            "grid_area": null,
            "grid_auto_columns": null,
            "grid_auto_flow": null,
            "grid_auto_rows": null,
            "grid_column": null,
            "grid_gap": null,
            "grid_row": null,
            "grid_template_areas": null,
            "grid_template_columns": null,
            "grid_template_rows": null,
            "height": null,
            "justify_content": null,
            "justify_items": null,
            "left": null,
            "margin": null,
            "max_height": null,
            "max_width": null,
            "min_height": null,
            "min_width": null,
            "object_fit": null,
            "object_position": null,
            "order": null,
            "overflow": null,
            "overflow_x": null,
            "overflow_y": null,
            "padding": null,
            "right": null,
            "top": null,
            "visibility": null,
            "width": null
          }
        },
        "5b771be346ab447d9382fab83961bed6": {
          "model_module": "@jupyter-widgets/base",
          "model_name": "LayoutModel",
          "model_module_version": "1.2.0",
          "state": {
            "_model_module": "@jupyter-widgets/base",
            "_model_module_version": "1.2.0",
            "_model_name": "LayoutModel",
            "_view_count": null,
            "_view_module": "@jupyter-widgets/base",
            "_view_module_version": "1.2.0",
            "_view_name": "LayoutView",
            "align_content": null,
            "align_items": null,
            "align_self": null,
            "border": null,
            "bottom": null,
            "display": null,
            "flex": null,
            "flex_flow": null,
            "grid_area": null,
            "grid_auto_columns": null,
            "grid_auto_flow": null,
            "grid_auto_rows": null,
            "grid_column": null,
            "grid_gap": null,
            "grid_row": null,
            "grid_template_areas": null,
            "grid_template_columns": null,
            "grid_template_rows": null,
            "height": null,
            "justify_content": null,
            "justify_items": null,
            "left": null,
            "margin": null,
            "max_height": null,
            "max_width": null,
            "min_height": null,
            "min_width": null,
            "object_fit": null,
            "object_position": null,
            "order": null,
            "overflow": null,
            "overflow_x": null,
            "overflow_y": null,
            "padding": null,
            "right": null,
            "top": null,
            "visibility": null,
            "width": null
          }
        },
        "bd193d957e2c429a84c1cd0835132be2": {
          "model_module": "@jupyter-widgets/controls",
          "model_name": "DescriptionStyleModel",
          "model_module_version": "1.5.0",
          "state": {
            "_model_module": "@jupyter-widgets/controls",
            "_model_module_version": "1.5.0",
            "_model_name": "DescriptionStyleModel",
            "_view_count": null,
            "_view_module": "@jupyter-widgets/base",
            "_view_module_version": "1.2.0",
            "_view_name": "StyleView",
            "description_width": ""
          }
        },
        "f4c2b5773fc844168d63752fd15ec34d": {
          "model_module": "@jupyter-widgets/base",
          "model_name": "LayoutModel",
          "model_module_version": "1.2.0",
          "state": {
            "_model_module": "@jupyter-widgets/base",
            "_model_module_version": "1.2.0",
            "_model_name": "LayoutModel",
            "_view_count": null,
            "_view_module": "@jupyter-widgets/base",
            "_view_module_version": "1.2.0",
            "_view_name": "LayoutView",
            "align_content": null,
            "align_items": null,
            "align_self": null,
            "border": null,
            "bottom": null,
            "display": null,
            "flex": null,
            "flex_flow": null,
            "grid_area": null,
            "grid_auto_columns": null,
            "grid_auto_flow": null,
            "grid_auto_rows": null,
            "grid_column": null,
            "grid_gap": null,
            "grid_row": null,
            "grid_template_areas": null,
            "grid_template_columns": null,
            "grid_template_rows": null,
            "height": null,
            "justify_content": null,
            "justify_items": null,
            "left": null,
            "margin": null,
            "max_height": null,
            "max_width": null,
            "min_height": null,
            "min_width": null,
            "object_fit": null,
            "object_position": null,
            "order": null,
            "overflow": null,
            "overflow_x": null,
            "overflow_y": null,
            "padding": null,
            "right": null,
            "top": null,
            "visibility": null,
            "width": null
          }
        },
        "9c8eba7cf7ec4736b0889976725e4be8": {
          "model_module": "@jupyter-widgets/controls",
          "model_name": "ProgressStyleModel",
          "model_module_version": "1.5.0",
          "state": {
            "_model_module": "@jupyter-widgets/controls",
            "_model_module_version": "1.5.0",
            "_model_name": "ProgressStyleModel",
            "_view_count": null,
            "_view_module": "@jupyter-widgets/base",
            "_view_module_version": "1.2.0",
            "_view_name": "StyleView",
            "bar_color": null,
            "description_width": ""
          }
        },
        "1092975d6a6f41a9a29a1aa3ff18bdf6": {
          "model_module": "@jupyter-widgets/base",
          "model_name": "LayoutModel",
          "model_module_version": "1.2.0",
          "state": {
            "_model_module": "@jupyter-widgets/base",
            "_model_module_version": "1.2.0",
            "_model_name": "LayoutModel",
            "_view_count": null,
            "_view_module": "@jupyter-widgets/base",
            "_view_module_version": "1.2.0",
            "_view_name": "LayoutView",
            "align_content": null,
            "align_items": null,
            "align_self": null,
            "border": null,
            "bottom": null,
            "display": null,
            "flex": null,
            "flex_flow": null,
            "grid_area": null,
            "grid_auto_columns": null,
            "grid_auto_flow": null,
            "grid_auto_rows": null,
            "grid_column": null,
            "grid_gap": null,
            "grid_row": null,
            "grid_template_areas": null,
            "grid_template_columns": null,
            "grid_template_rows": null,
            "height": null,
            "justify_content": null,
            "justify_items": null,
            "left": null,
            "margin": null,
            "max_height": null,
            "max_width": null,
            "min_height": null,
            "min_width": null,
            "object_fit": null,
            "object_position": null,
            "order": null,
            "overflow": null,
            "overflow_x": null,
            "overflow_y": null,
            "padding": null,
            "right": null,
            "top": null,
            "visibility": null,
            "width": null
          }
        },
        "922002ce1fca4823ac0fe36aa46aa040": {
          "model_module": "@jupyter-widgets/controls",
          "model_name": "DescriptionStyleModel",
          "model_module_version": "1.5.0",
          "state": {
            "_model_module": "@jupyter-widgets/controls",
            "_model_module_version": "1.5.0",
            "_model_name": "DescriptionStyleModel",
            "_view_count": null,
            "_view_module": "@jupyter-widgets/base",
            "_view_module_version": "1.2.0",
            "_view_name": "StyleView",
            "description_width": ""
          }
        },
        "7986506f6de64513a6f561a3b413f2ac": {
          "model_module": "@jupyter-widgets/controls",
          "model_name": "HBoxModel",
          "model_module_version": "1.5.0",
          "state": {
            "_dom_classes": [],
            "_model_module": "@jupyter-widgets/controls",
            "_model_module_version": "1.5.0",
            "_model_name": "HBoxModel",
            "_view_count": null,
            "_view_module": "@jupyter-widgets/controls",
            "_view_module_version": "1.5.0",
            "_view_name": "HBoxView",
            "box_style": "",
            "children": [
              "IPY_MODEL_0a01e4e5f04f4fa28ebd21968209496b",
              "IPY_MODEL_2f45069e2bdf408e89c9b8241b4ed601",
              "IPY_MODEL_79997ae248f84da0812e7a7363ca96ec"
            ],
            "layout": "IPY_MODEL_087fec0059254ba5aca5c1618df1501f"
          }
        },
        "0a01e4e5f04f4fa28ebd21968209496b": {
          "model_module": "@jupyter-widgets/controls",
          "model_name": "HTMLModel",
          "model_module_version": "1.5.0",
          "state": {
            "_dom_classes": [],
            "_model_module": "@jupyter-widgets/controls",
            "_model_module_version": "1.5.0",
            "_model_name": "HTMLModel",
            "_view_count": null,
            "_view_module": "@jupyter-widgets/controls",
            "_view_module_version": "1.5.0",
            "_view_name": "HTMLView",
            "description": "",
            "description_tooltip": null,
            "layout": "IPY_MODEL_fd68cc312982488baaff2812aa23093d",
            "placeholder": "​",
            "style": "IPY_MODEL_b3465ab19b8d458696d89b3e64bbd9f1",
            "value": "Downloading (…)solve/main/vocab.txt: "
          }
        },
        "2f45069e2bdf408e89c9b8241b4ed601": {
          "model_module": "@jupyter-widgets/controls",
          "model_name": "FloatProgressModel",
          "model_module_version": "1.5.0",
          "state": {
            "_dom_classes": [],
            "_model_module": "@jupyter-widgets/controls",
            "_model_module_version": "1.5.0",
            "_model_name": "FloatProgressModel",
            "_view_count": null,
            "_view_module": "@jupyter-widgets/controls",
            "_view_module_version": "1.5.0",
            "_view_name": "ProgressView",
            "bar_style": "success",
            "description": "",
            "description_tooltip": null,
            "layout": "IPY_MODEL_da3343d4e54c4d578dfc90042c367d13",
            "max": 1,
            "min": 0,
            "orientation": "horizontal",
            "style": "IPY_MODEL_e032658bb5d04e57815d54f21834eeef",
            "value": 1
          }
        },
        "79997ae248f84da0812e7a7363ca96ec": {
          "model_module": "@jupyter-widgets/controls",
          "model_name": "HTMLModel",
          "model_module_version": "1.5.0",
          "state": {
            "_dom_classes": [],
            "_model_module": "@jupyter-widgets/controls",
            "_model_module_version": "1.5.0",
            "_model_name": "HTMLModel",
            "_view_count": null,
            "_view_module": "@jupyter-widgets/controls",
            "_view_module_version": "1.5.0",
            "_view_name": "HTMLView",
            "description": "",
            "description_tooltip": null,
            "layout": "IPY_MODEL_072274be8f304a2684c41538d2690616",
            "placeholder": "​",
            "style": "IPY_MODEL_bbe1b23f1d15408e9950df3de300748b",
            "value": " 232k/? [00:00&lt;00:00, 3.58MB/s]"
          }
        },
        "087fec0059254ba5aca5c1618df1501f": {
          "model_module": "@jupyter-widgets/base",
          "model_name": "LayoutModel",
          "model_module_version": "1.2.0",
          "state": {
            "_model_module": "@jupyter-widgets/base",
            "_model_module_version": "1.2.0",
            "_model_name": "LayoutModel",
            "_view_count": null,
            "_view_module": "@jupyter-widgets/base",
            "_view_module_version": "1.2.0",
            "_view_name": "LayoutView",
            "align_content": null,
            "align_items": null,
            "align_self": null,
            "border": null,
            "bottom": null,
            "display": null,
            "flex": null,
            "flex_flow": null,
            "grid_area": null,
            "grid_auto_columns": null,
            "grid_auto_flow": null,
            "grid_auto_rows": null,
            "grid_column": null,
            "grid_gap": null,
            "grid_row": null,
            "grid_template_areas": null,
            "grid_template_columns": null,
            "grid_template_rows": null,
            "height": null,
            "justify_content": null,
            "justify_items": null,
            "left": null,
            "margin": null,
            "max_height": null,
            "max_width": null,
            "min_height": null,
            "min_width": null,
            "object_fit": null,
            "object_position": null,
            "order": null,
            "overflow": null,
            "overflow_x": null,
            "overflow_y": null,
            "padding": null,
            "right": null,
            "top": null,
            "visibility": null,
            "width": null
          }
        },
        "fd68cc312982488baaff2812aa23093d": {
          "model_module": "@jupyter-widgets/base",
          "model_name": "LayoutModel",
          "model_module_version": "1.2.0",
          "state": {
            "_model_module": "@jupyter-widgets/base",
            "_model_module_version": "1.2.0",
            "_model_name": "LayoutModel",
            "_view_count": null,
            "_view_module": "@jupyter-widgets/base",
            "_view_module_version": "1.2.0",
            "_view_name": "LayoutView",
            "align_content": null,
            "align_items": null,
            "align_self": null,
            "border": null,
            "bottom": null,
            "display": null,
            "flex": null,
            "flex_flow": null,
            "grid_area": null,
            "grid_auto_columns": null,
            "grid_auto_flow": null,
            "grid_auto_rows": null,
            "grid_column": null,
            "grid_gap": null,
            "grid_row": null,
            "grid_template_areas": null,
            "grid_template_columns": null,
            "grid_template_rows": null,
            "height": null,
            "justify_content": null,
            "justify_items": null,
            "left": null,
            "margin": null,
            "max_height": null,
            "max_width": null,
            "min_height": null,
            "min_width": null,
            "object_fit": null,
            "object_position": null,
            "order": null,
            "overflow": null,
            "overflow_x": null,
            "overflow_y": null,
            "padding": null,
            "right": null,
            "top": null,
            "visibility": null,
            "width": null
          }
        },
        "b3465ab19b8d458696d89b3e64bbd9f1": {
          "model_module": "@jupyter-widgets/controls",
          "model_name": "DescriptionStyleModel",
          "model_module_version": "1.5.0",
          "state": {
            "_model_module": "@jupyter-widgets/controls",
            "_model_module_version": "1.5.0",
            "_model_name": "DescriptionStyleModel",
            "_view_count": null,
            "_view_module": "@jupyter-widgets/base",
            "_view_module_version": "1.2.0",
            "_view_name": "StyleView",
            "description_width": ""
          }
        },
        "da3343d4e54c4d578dfc90042c367d13": {
          "model_module": "@jupyter-widgets/base",
          "model_name": "LayoutModel",
          "model_module_version": "1.2.0",
          "state": {
            "_model_module": "@jupyter-widgets/base",
            "_model_module_version": "1.2.0",
            "_model_name": "LayoutModel",
            "_view_count": null,
            "_view_module": "@jupyter-widgets/base",
            "_view_module_version": "1.2.0",
            "_view_name": "LayoutView",
            "align_content": null,
            "align_items": null,
            "align_self": null,
            "border": null,
            "bottom": null,
            "display": null,
            "flex": null,
            "flex_flow": null,
            "grid_area": null,
            "grid_auto_columns": null,
            "grid_auto_flow": null,
            "grid_auto_rows": null,
            "grid_column": null,
            "grid_gap": null,
            "grid_row": null,
            "grid_template_areas": null,
            "grid_template_columns": null,
            "grid_template_rows": null,
            "height": null,
            "justify_content": null,
            "justify_items": null,
            "left": null,
            "margin": null,
            "max_height": null,
            "max_width": null,
            "min_height": null,
            "min_width": null,
            "object_fit": null,
            "object_position": null,
            "order": null,
            "overflow": null,
            "overflow_x": null,
            "overflow_y": null,
            "padding": null,
            "right": null,
            "top": null,
            "visibility": null,
            "width": "20px"
          }
        },
        "e032658bb5d04e57815d54f21834eeef": {
          "model_module": "@jupyter-widgets/controls",
          "model_name": "ProgressStyleModel",
          "model_module_version": "1.5.0",
          "state": {
            "_model_module": "@jupyter-widgets/controls",
            "_model_module_version": "1.5.0",
            "_model_name": "ProgressStyleModel",
            "_view_count": null,
            "_view_module": "@jupyter-widgets/base",
            "_view_module_version": "1.2.0",
            "_view_name": "StyleView",
            "bar_color": null,
            "description_width": ""
          }
        },
        "072274be8f304a2684c41538d2690616": {
          "model_module": "@jupyter-widgets/base",
          "model_name": "LayoutModel",
          "model_module_version": "1.2.0",
          "state": {
            "_model_module": "@jupyter-widgets/base",
            "_model_module_version": "1.2.0",
            "_model_name": "LayoutModel",
            "_view_count": null,
            "_view_module": "@jupyter-widgets/base",
            "_view_module_version": "1.2.0",
            "_view_name": "LayoutView",
            "align_content": null,
            "align_items": null,
            "align_self": null,
            "border": null,
            "bottom": null,
            "display": null,
            "flex": null,
            "flex_flow": null,
            "grid_area": null,
            "grid_auto_columns": null,
            "grid_auto_flow": null,
            "grid_auto_rows": null,
            "grid_column": null,
            "grid_gap": null,
            "grid_row": null,
            "grid_template_areas": null,
            "grid_template_columns": null,
            "grid_template_rows": null,
            "height": null,
            "justify_content": null,
            "justify_items": null,
            "left": null,
            "margin": null,
            "max_height": null,
            "max_width": null,
            "min_height": null,
            "min_width": null,
            "object_fit": null,
            "object_position": null,
            "order": null,
            "overflow": null,
            "overflow_x": null,
            "overflow_y": null,
            "padding": null,
            "right": null,
            "top": null,
            "visibility": null,
            "width": null
          }
        },
        "bbe1b23f1d15408e9950df3de300748b": {
          "model_module": "@jupyter-widgets/controls",
          "model_name": "DescriptionStyleModel",
          "model_module_version": "1.5.0",
          "state": {
            "_model_module": "@jupyter-widgets/controls",
            "_model_module_version": "1.5.0",
            "_model_name": "DescriptionStyleModel",
            "_view_count": null,
            "_view_module": "@jupyter-widgets/base",
            "_view_module_version": "1.2.0",
            "_view_name": "StyleView",
            "description_width": ""
          }
        },
        "42d964808636424f8be454210a81fbff": {
          "model_module": "@jupyter-widgets/controls",
          "model_name": "HBoxModel",
          "model_module_version": "1.5.0",
          "state": {
            "_dom_classes": [],
            "_model_module": "@jupyter-widgets/controls",
            "_model_module_version": "1.5.0",
            "_model_name": "HBoxModel",
            "_view_count": null,
            "_view_module": "@jupyter-widgets/controls",
            "_view_module_version": "1.5.0",
            "_view_name": "HBoxView",
            "box_style": "",
            "children": [
              "IPY_MODEL_ba78ed4f640d4daeb21fa0114d48f185",
              "IPY_MODEL_110a33551cc74711a8f283172eea589c",
              "IPY_MODEL_60864c5a2f3a4e279fa68ab4d9dbf6fa"
            ],
            "layout": "IPY_MODEL_fb3d2b80b8aa4c1badfdabcdfaa4355d"
          }
        },
        "ba78ed4f640d4daeb21fa0114d48f185": {
          "model_module": "@jupyter-widgets/controls",
          "model_name": "HTMLModel",
          "model_module_version": "1.5.0",
          "state": {
            "_dom_classes": [],
            "_model_module": "@jupyter-widgets/controls",
            "_model_module_version": "1.5.0",
            "_model_name": "HTMLModel",
            "_view_count": null,
            "_view_module": "@jupyter-widgets/controls",
            "_view_module_version": "1.5.0",
            "_view_name": "HTMLView",
            "description": "",
            "description_tooltip": null,
            "layout": "IPY_MODEL_98e50616180d4de69b0c8dcb355957bb",
            "placeholder": "​",
            "style": "IPY_MODEL_2f6c74ae1d8442ffba034f59711d1d32",
            "value": "Downloading (…)/main/tokenizer.json: "
          }
        },
        "110a33551cc74711a8f283172eea589c": {
          "model_module": "@jupyter-widgets/controls",
          "model_name": "FloatProgressModel",
          "model_module_version": "1.5.0",
          "state": {
            "_dom_classes": [],
            "_model_module": "@jupyter-widgets/controls",
            "_model_module_version": "1.5.0",
            "_model_name": "FloatProgressModel",
            "_view_count": null,
            "_view_module": "@jupyter-widgets/controls",
            "_view_module_version": "1.5.0",
            "_view_name": "ProgressView",
            "bar_style": "success",
            "description": "",
            "description_tooltip": null,
            "layout": "IPY_MODEL_ddd6de6d3f3f46e8afee4537c3de7f87",
            "max": 1,
            "min": 0,
            "orientation": "horizontal",
            "style": "IPY_MODEL_9fa2d7fe3c244aa69b7ce848d6a9816b",
            "value": 1
          }
        },
        "60864c5a2f3a4e279fa68ab4d9dbf6fa": {
          "model_module": "@jupyter-widgets/controls",
          "model_name": "HTMLModel",
          "model_module_version": "1.5.0",
          "state": {
            "_dom_classes": [],
            "_model_module": "@jupyter-widgets/controls",
            "_model_module_version": "1.5.0",
            "_model_name": "HTMLModel",
            "_view_count": null,
            "_view_module": "@jupyter-widgets/controls",
            "_view_module_version": "1.5.0",
            "_view_name": "HTMLView",
            "description": "",
            "description_tooltip": null,
            "layout": "IPY_MODEL_fa65ce5c8d944192bee49072f0387ead",
            "placeholder": "​",
            "style": "IPY_MODEL_7c5f0e90aa754b9798824360ee36045a",
            "value": " 466k/? [00:00&lt;00:00, 7.19MB/s]"
          }
        },
        "fb3d2b80b8aa4c1badfdabcdfaa4355d": {
          "model_module": "@jupyter-widgets/base",
          "model_name": "LayoutModel",
          "model_module_version": "1.2.0",
          "state": {
            "_model_module": "@jupyter-widgets/base",
            "_model_module_version": "1.2.0",
            "_model_name": "LayoutModel",
            "_view_count": null,
            "_view_module": "@jupyter-widgets/base",
            "_view_module_version": "1.2.0",
            "_view_name": "LayoutView",
            "align_content": null,
            "align_items": null,
            "align_self": null,
            "border": null,
            "bottom": null,
            "display": null,
            "flex": null,
            "flex_flow": null,
            "grid_area": null,
            "grid_auto_columns": null,
            "grid_auto_flow": null,
            "grid_auto_rows": null,
            "grid_column": null,
            "grid_gap": null,
            "grid_row": null,
            "grid_template_areas": null,
            "grid_template_columns": null,
            "grid_template_rows": null,
            "height": null,
            "justify_content": null,
            "justify_items": null,
            "left": null,
            "margin": null,
            "max_height": null,
            "max_width": null,
            "min_height": null,
            "min_width": null,
            "object_fit": null,
            "object_position": null,
            "order": null,
            "overflow": null,
            "overflow_x": null,
            "overflow_y": null,
            "padding": null,
            "right": null,
            "top": null,
            "visibility": null,
            "width": null
          }
        },
        "98e50616180d4de69b0c8dcb355957bb": {
          "model_module": "@jupyter-widgets/base",
          "model_name": "LayoutModel",
          "model_module_version": "1.2.0",
          "state": {
            "_model_module": "@jupyter-widgets/base",
            "_model_module_version": "1.2.0",
            "_model_name": "LayoutModel",
            "_view_count": null,
            "_view_module": "@jupyter-widgets/base",
            "_view_module_version": "1.2.0",
            "_view_name": "LayoutView",
            "align_content": null,
            "align_items": null,
            "align_self": null,
            "border": null,
            "bottom": null,
            "display": null,
            "flex": null,
            "flex_flow": null,
            "grid_area": null,
            "grid_auto_columns": null,
            "grid_auto_flow": null,
            "grid_auto_rows": null,
            "grid_column": null,
            "grid_gap": null,
            "grid_row": null,
            "grid_template_areas": null,
            "grid_template_columns": null,
            "grid_template_rows": null,
            "height": null,
            "justify_content": null,
            "justify_items": null,
            "left": null,
            "margin": null,
            "max_height": null,
            "max_width": null,
            "min_height": null,
            "min_width": null,
            "object_fit": null,
            "object_position": null,
            "order": null,
            "overflow": null,
            "overflow_x": null,
            "overflow_y": null,
            "padding": null,
            "right": null,
            "top": null,
            "visibility": null,
            "width": null
          }
        },
        "2f6c74ae1d8442ffba034f59711d1d32": {
          "model_module": "@jupyter-widgets/controls",
          "model_name": "DescriptionStyleModel",
          "model_module_version": "1.5.0",
          "state": {
            "_model_module": "@jupyter-widgets/controls",
            "_model_module_version": "1.5.0",
            "_model_name": "DescriptionStyleModel",
            "_view_count": null,
            "_view_module": "@jupyter-widgets/base",
            "_view_module_version": "1.2.0",
            "_view_name": "StyleView",
            "description_width": ""
          }
        },
        "ddd6de6d3f3f46e8afee4537c3de7f87": {
          "model_module": "@jupyter-widgets/base",
          "model_name": "LayoutModel",
          "model_module_version": "1.2.0",
          "state": {
            "_model_module": "@jupyter-widgets/base",
            "_model_module_version": "1.2.0",
            "_model_name": "LayoutModel",
            "_view_count": null,
            "_view_module": "@jupyter-widgets/base",
            "_view_module_version": "1.2.0",
            "_view_name": "LayoutView",
            "align_content": null,
            "align_items": null,
            "align_self": null,
            "border": null,
            "bottom": null,
            "display": null,
            "flex": null,
            "flex_flow": null,
            "grid_area": null,
            "grid_auto_columns": null,
            "grid_auto_flow": null,
            "grid_auto_rows": null,
            "grid_column": null,
            "grid_gap": null,
            "grid_row": null,
            "grid_template_areas": null,
            "grid_template_columns": null,
            "grid_template_rows": null,
            "height": null,
            "justify_content": null,
            "justify_items": null,
            "left": null,
            "margin": null,
            "max_height": null,
            "max_width": null,
            "min_height": null,
            "min_width": null,
            "object_fit": null,
            "object_position": null,
            "order": null,
            "overflow": null,
            "overflow_x": null,
            "overflow_y": null,
            "padding": null,
            "right": null,
            "top": null,
            "visibility": null,
            "width": "20px"
          }
        },
        "9fa2d7fe3c244aa69b7ce848d6a9816b": {
          "model_module": "@jupyter-widgets/controls",
          "model_name": "ProgressStyleModel",
          "model_module_version": "1.5.0",
          "state": {
            "_model_module": "@jupyter-widgets/controls",
            "_model_module_version": "1.5.0",
            "_model_name": "ProgressStyleModel",
            "_view_count": null,
            "_view_module": "@jupyter-widgets/base",
            "_view_module_version": "1.2.0",
            "_view_name": "StyleView",
            "bar_color": null,
            "description_width": ""
          }
        },
        "fa65ce5c8d944192bee49072f0387ead": {
          "model_module": "@jupyter-widgets/base",
          "model_name": "LayoutModel",
          "model_module_version": "1.2.0",
          "state": {
            "_model_module": "@jupyter-widgets/base",
            "_model_module_version": "1.2.0",
            "_model_name": "LayoutModel",
            "_view_count": null,
            "_view_module": "@jupyter-widgets/base",
            "_view_module_version": "1.2.0",
            "_view_name": "LayoutView",
            "align_content": null,
            "align_items": null,
            "align_self": null,
            "border": null,
            "bottom": null,
            "display": null,
            "flex": null,
            "flex_flow": null,
            "grid_area": null,
            "grid_auto_columns": null,
            "grid_auto_flow": null,
            "grid_auto_rows": null,
            "grid_column": null,
            "grid_gap": null,
            "grid_row": null,
            "grid_template_areas": null,
            "grid_template_columns": null,
            "grid_template_rows": null,
            "height": null,
            "justify_content": null,
            "justify_items": null,
            "left": null,
            "margin": null,
            "max_height": null,
            "max_width": null,
            "min_height": null,
            "min_width": null,
            "object_fit": null,
            "object_position": null,
            "order": null,
            "overflow": null,
            "overflow_x": null,
            "overflow_y": null,
            "padding": null,
            "right": null,
            "top": null,
            "visibility": null,
            "width": null
          }
        },
        "7c5f0e90aa754b9798824360ee36045a": {
          "model_module": "@jupyter-widgets/controls",
          "model_name": "DescriptionStyleModel",
          "model_module_version": "1.5.0",
          "state": {
            "_model_module": "@jupyter-widgets/controls",
            "_model_module_version": "1.5.0",
            "_model_name": "DescriptionStyleModel",
            "_view_count": null,
            "_view_module": "@jupyter-widgets/base",
            "_view_module_version": "1.2.0",
            "_view_name": "StyleView",
            "description_width": ""
          }
        },
        "4560d360aec347bb976a0acb5cc9da17": {
          "model_module": "@jupyter-widgets/controls",
          "model_name": "HBoxModel",
          "model_module_version": "1.5.0",
          "state": {
            "_dom_classes": [],
            "_model_module": "@jupyter-widgets/controls",
            "_model_module_version": "1.5.0",
            "_model_name": "HBoxModel",
            "_view_count": null,
            "_view_module": "@jupyter-widgets/controls",
            "_view_module_version": "1.5.0",
            "_view_name": "HBoxView",
            "box_style": "",
            "children": [
              "IPY_MODEL_71f3a5be24814dab88b1a465eddeede9",
              "IPY_MODEL_80b4bef07fae42cfac84e17746cbf825",
              "IPY_MODEL_aeea928323494f7b9e9f0c1ddc134032"
            ],
            "layout": "IPY_MODEL_da25b45e3b7444fdac87894adf521745"
          }
        },
        "71f3a5be24814dab88b1a465eddeede9": {
          "model_module": "@jupyter-widgets/controls",
          "model_name": "HTMLModel",
          "model_module_version": "1.5.0",
          "state": {
            "_dom_classes": [],
            "_model_module": "@jupyter-widgets/controls",
            "_model_module_version": "1.5.0",
            "_model_name": "HTMLModel",
            "_view_count": null,
            "_view_module": "@jupyter-widgets/controls",
            "_view_module_version": "1.5.0",
            "_view_name": "HTMLView",
            "description": "",
            "description_tooltip": null,
            "layout": "IPY_MODEL_7782f4b951c6437d912c75f22434afff",
            "placeholder": "​",
            "style": "IPY_MODEL_626a0882a0ec4ad89198d02fa30ede3d",
            "value": "Downloading tf_model.h5: 100%"
          }
        },
        "80b4bef07fae42cfac84e17746cbf825": {
          "model_module": "@jupyter-widgets/controls",
          "model_name": "FloatProgressModel",
          "model_module_version": "1.5.0",
          "state": {
            "_dom_classes": [],
            "_model_module": "@jupyter-widgets/controls",
            "_model_module_version": "1.5.0",
            "_model_name": "FloatProgressModel",
            "_view_count": null,
            "_view_module": "@jupyter-widgets/controls",
            "_view_module_version": "1.5.0",
            "_view_name": "ProgressView",
            "bar_style": "success",
            "description": "",
            "description_tooltip": null,
            "layout": "IPY_MODEL_a707f71344904397ae899597af56236e",
            "max": 536063208,
            "min": 0,
            "orientation": "horizontal",
            "style": "IPY_MODEL_24ccb12119a948b3b42a41025a2e90ed",
            "value": 536063208
          }
        },
        "aeea928323494f7b9e9f0c1ddc134032": {
          "model_module": "@jupyter-widgets/controls",
          "model_name": "HTMLModel",
          "model_module_version": "1.5.0",
          "state": {
            "_dom_classes": [],
            "_model_module": "@jupyter-widgets/controls",
            "_model_module_version": "1.5.0",
            "_model_name": "HTMLModel",
            "_view_count": null,
            "_view_module": "@jupyter-widgets/controls",
            "_view_module_version": "1.5.0",
            "_view_name": "HTMLView",
            "description": "",
            "description_tooltip": null,
            "layout": "IPY_MODEL_2ddf3c05c9864e3bb47f2973e6709694",
            "placeholder": "​",
            "style": "IPY_MODEL_d5ba01540a81443eb49e761ee88b0df3",
            "value": " 536M/536M [00:04&lt;00:00, 126MB/s]"
          }
        },
        "da25b45e3b7444fdac87894adf521745": {
          "model_module": "@jupyter-widgets/base",
          "model_name": "LayoutModel",
          "model_module_version": "1.2.0",
          "state": {
            "_model_module": "@jupyter-widgets/base",
            "_model_module_version": "1.2.0",
            "_model_name": "LayoutModel",
            "_view_count": null,
            "_view_module": "@jupyter-widgets/base",
            "_view_module_version": "1.2.0",
            "_view_name": "LayoutView",
            "align_content": null,
            "align_items": null,
            "align_self": null,
            "border": null,
            "bottom": null,
            "display": null,
            "flex": null,
            "flex_flow": null,
            "grid_area": null,
            "grid_auto_columns": null,
            "grid_auto_flow": null,
            "grid_auto_rows": null,
            "grid_column": null,
            "grid_gap": null,
            "grid_row": null,
            "grid_template_areas": null,
            "grid_template_columns": null,
            "grid_template_rows": null,
            "height": null,
            "justify_content": null,
            "justify_items": null,
            "left": null,
            "margin": null,
            "max_height": null,
            "max_width": null,
            "min_height": null,
            "min_width": null,
            "object_fit": null,
            "object_position": null,
            "order": null,
            "overflow": null,
            "overflow_x": null,
            "overflow_y": null,
            "padding": null,
            "right": null,
            "top": null,
            "visibility": null,
            "width": null
          }
        },
        "7782f4b951c6437d912c75f22434afff": {
          "model_module": "@jupyter-widgets/base",
          "model_name": "LayoutModel",
          "model_module_version": "1.2.0",
          "state": {
            "_model_module": "@jupyter-widgets/base",
            "_model_module_version": "1.2.0",
            "_model_name": "LayoutModel",
            "_view_count": null,
            "_view_module": "@jupyter-widgets/base",
            "_view_module_version": "1.2.0",
            "_view_name": "LayoutView",
            "align_content": null,
            "align_items": null,
            "align_self": null,
            "border": null,
            "bottom": null,
            "display": null,
            "flex": null,
            "flex_flow": null,
            "grid_area": null,
            "grid_auto_columns": null,
            "grid_auto_flow": null,
            "grid_auto_rows": null,
            "grid_column": null,
            "grid_gap": null,
            "grid_row": null,
            "grid_template_areas": null,
            "grid_template_columns": null,
            "grid_template_rows": null,
            "height": null,
            "justify_content": null,
            "justify_items": null,
            "left": null,
            "margin": null,
            "max_height": null,
            "max_width": null,
            "min_height": null,
            "min_width": null,
            "object_fit": null,
            "object_position": null,
            "order": null,
            "overflow": null,
            "overflow_x": null,
            "overflow_y": null,
            "padding": null,
            "right": null,
            "top": null,
            "visibility": null,
            "width": null
          }
        },
        "626a0882a0ec4ad89198d02fa30ede3d": {
          "model_module": "@jupyter-widgets/controls",
          "model_name": "DescriptionStyleModel",
          "model_module_version": "1.5.0",
          "state": {
            "_model_module": "@jupyter-widgets/controls",
            "_model_module_version": "1.5.0",
            "_model_name": "DescriptionStyleModel",
            "_view_count": null,
            "_view_module": "@jupyter-widgets/base",
            "_view_module_version": "1.2.0",
            "_view_name": "StyleView",
            "description_width": ""
          }
        },
        "a707f71344904397ae899597af56236e": {
          "model_module": "@jupyter-widgets/base",
          "model_name": "LayoutModel",
          "model_module_version": "1.2.0",
          "state": {
            "_model_module": "@jupyter-widgets/base",
            "_model_module_version": "1.2.0",
            "_model_name": "LayoutModel",
            "_view_count": null,
            "_view_module": "@jupyter-widgets/base",
            "_view_module_version": "1.2.0",
            "_view_name": "LayoutView",
            "align_content": null,
            "align_items": null,
            "align_self": null,
            "border": null,
            "bottom": null,
            "display": null,
            "flex": null,
            "flex_flow": null,
            "grid_area": null,
            "grid_auto_columns": null,
            "grid_auto_flow": null,
            "grid_auto_rows": null,
            "grid_column": null,
            "grid_gap": null,
            "grid_row": null,
            "grid_template_areas": null,
            "grid_template_columns": null,
            "grid_template_rows": null,
            "height": null,
            "justify_content": null,
            "justify_items": null,
            "left": null,
            "margin": null,
            "max_height": null,
            "max_width": null,
            "min_height": null,
            "min_width": null,
            "object_fit": null,
            "object_position": null,
            "order": null,
            "overflow": null,
            "overflow_x": null,
            "overflow_y": null,
            "padding": null,
            "right": null,
            "top": null,
            "visibility": null,
            "width": null
          }
        },
        "24ccb12119a948b3b42a41025a2e90ed": {
          "model_module": "@jupyter-widgets/controls",
          "model_name": "ProgressStyleModel",
          "model_module_version": "1.5.0",
          "state": {
            "_model_module": "@jupyter-widgets/controls",
            "_model_module_version": "1.5.0",
            "_model_name": "ProgressStyleModel",
            "_view_count": null,
            "_view_module": "@jupyter-widgets/base",
            "_view_module_version": "1.2.0",
            "_view_name": "StyleView",
            "bar_color": null,
            "description_width": ""
          }
        },
        "2ddf3c05c9864e3bb47f2973e6709694": {
          "model_module": "@jupyter-widgets/base",
          "model_name": "LayoutModel",
          "model_module_version": "1.2.0",
          "state": {
            "_model_module": "@jupyter-widgets/base",
            "_model_module_version": "1.2.0",
            "_model_name": "LayoutModel",
            "_view_count": null,
            "_view_module": "@jupyter-widgets/base",
            "_view_module_version": "1.2.0",
            "_view_name": "LayoutView",
            "align_content": null,
            "align_items": null,
            "align_self": null,
            "border": null,
            "bottom": null,
            "display": null,
            "flex": null,
            "flex_flow": null,
            "grid_area": null,
            "grid_auto_columns": null,
            "grid_auto_flow": null,
            "grid_auto_rows": null,
            "grid_column": null,
            "grid_gap": null,
            "grid_row": null,
            "grid_template_areas": null,
            "grid_template_columns": null,
            "grid_template_rows": null,
            "height": null,
            "justify_content": null,
            "justify_items": null,
            "left": null,
            "margin": null,
            "max_height": null,
            "max_width": null,
            "min_height": null,
            "min_width": null,
            "object_fit": null,
            "object_position": null,
            "order": null,
            "overflow": null,
            "overflow_x": null,
            "overflow_y": null,
            "padding": null,
            "right": null,
            "top": null,
            "visibility": null,
            "width": null
          }
        },
        "d5ba01540a81443eb49e761ee88b0df3": {
          "model_module": "@jupyter-widgets/controls",
          "model_name": "DescriptionStyleModel",
          "model_module_version": "1.5.0",
          "state": {
            "_model_module": "@jupyter-widgets/controls",
            "_model_module_version": "1.5.0",
            "_model_name": "DescriptionStyleModel",
            "_view_count": null,
            "_view_module": "@jupyter-widgets/base",
            "_view_module_version": "1.2.0",
            "_view_name": "StyleView",
            "description_width": ""
          }
        }
      }
    }
  },
  "nbformat": 4,
  "nbformat_minor": 0
}