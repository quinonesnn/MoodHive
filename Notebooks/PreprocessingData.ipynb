{
 "cells": [
  {
   "cell_type": "markdown",
   "metadata": {
    "id": "0Zoq2uGEsOLK"
   },
   "source": [
    "# Introduction"
   ]
  },
  {
   "cell_type": "markdown",
   "metadata": {
    "id": "qH5HMlBIdSem"
   },
   "source": [
    "# 1 - Importing libraries and loading data"
   ]
  },
  {
   "cell_type": "code",
   "execution_count": 1,
   "metadata": {},
   "outputs": [
    {
     "name": "stdout",
     "output_type": "stream",
     "text": [
      "Requirement already satisfied: emoji in /Users/nickq/opt/anaconda3/lib/python3.9/site-packages (2.2.0)\n",
      "Requirement already satisfied: contractions in /Users/nickq/opt/anaconda3/lib/python3.9/site-packages (0.1.73)\n",
      "Requirement already satisfied: textsearch>=0.0.21 in /Users/nickq/opt/anaconda3/lib/python3.9/site-packages (from contractions) (0.0.24)\n",
      "Requirement already satisfied: anyascii in /Users/nickq/opt/anaconda3/lib/python3.9/site-packages (from textsearch>=0.0.21->contractions) (0.3.2)\n",
      "Requirement already satisfied: pyahocorasick in /Users/nickq/opt/anaconda3/lib/python3.9/site-packages (from textsearch>=0.0.21->contractions) (2.0.0)\n"
     ]
    }
   ],
   "source": [
    "!pip install emoji\n",
    "!pip install contractions"
   ]
  },
  {
   "cell_type": "code",
   "execution_count": 2,
   "metadata": {
    "id": "1IIGlDVGdFrC"
   },
   "outputs": [
    {
     "name": "stderr",
     "output_type": "stream",
     "text": [
      "2023-04-11 00:26:28.419404: I tensorflow/core/platform/cpu_feature_guard.cc:182] This TensorFlow binary is optimized to use available CPU instructions in performance-critical operations.\n",
      "To enable the following instructions: AVX2 FMA, in other operations, rebuild TensorFlow with the appropriate compiler flags.\n"
     ]
    }
   ],
   "source": [
    "# Data manipulation libraries\n",
    "import pandas as pd\n",
    "import numpy as np\n",
    "import json\n",
    "from pprint import pprint\n",
    "\n",
    "# Visualization libraries\n",
    "import matplotlib.pyplot as plt\n",
    "import seaborn as sns\n",
    "sns.set_style('whitegrid')\n",
    "\n",
    "# Text processing libraries\n",
    "import emoji\n",
    "import re\n",
    "import contractions\n",
    "from collections import Counter\n",
    "import spacy\n",
    "from spacy.lang.en.stop_words import STOP_WORDS"
   ]
  },
  {
   "cell_type": "code",
   "execution_count": null,
   "metadata": {},
   "outputs": [],
   "source": []
  },
  {
   "cell_type": "markdown",
   "metadata": {
    "id": "Y5UrOCRoOG_2"
   },
   "source": [
    "Data has already been split into train, validation and test datasets labeled with one or multiple emotions. Let's import them into pandas dataframes."
   ]
  },
  {
   "cell_type": "code",
   "execution_count": 6,
   "metadata": {
    "colab": {
     "base_uri": "https://localhost:8080/",
     "height": 204
    },
    "executionInfo": {
     "elapsed": 7563,
     "status": "ok",
     "timestamp": 1617209479428,
     "user": {
      "displayName": "Ibrahim Benjelloun",
      "photoUrl": "",
      "userId": "05131578507394582340"
     },
     "user_tz": -120
    },
    "id": "QnYsLNXHdRQ6",
    "outputId": "40af4c21-5bed-4265-dbad-e601a7ced795"
   },
   "outputs": [
    {
     "data": {
      "text/html": [
       "<div>\n",
       "<style scoped>\n",
       "    .dataframe tbody tr th:only-of-type {\n",
       "        vertical-align: middle;\n",
       "    }\n",
       "\n",
       "    .dataframe tbody tr th {\n",
       "        vertical-align: top;\n",
       "    }\n",
       "\n",
       "    .dataframe thead th {\n",
       "        text-align: right;\n",
       "    }\n",
       "</style>\n",
       "<table border=\"1\" class=\"dataframe\">\n",
       "  <thead>\n",
       "    <tr style=\"text-align: right;\">\n",
       "      <th></th>\n",
       "      <th>Text</th>\n",
       "      <th>GE_indices</th>\n",
       "    </tr>\n",
       "  </thead>\n",
       "  <tbody>\n",
       "    <tr>\n",
       "      <th>0</th>\n",
       "      <td>Clean_text,admiration,amusement,anger,annoyanc...</td>\n",
       "      <td>NaN</td>\n",
       "    </tr>\n",
       "    <tr>\n",
       "      <th>1</th>\n",
       "      <td>my favourite food is anything i did not have t...</td>\n",
       "      <td>NaN</td>\n",
       "    </tr>\n",
       "    <tr>\n",
       "      <th>2</th>\n",
       "      <td>now if he does off himself everyone will think...</td>\n",
       "      <td>NaN</td>\n",
       "    </tr>\n",
       "    <tr>\n",
       "      <th>3</th>\n",
       "      <td>why the fuck is bayless isoing,0,0,1,0,0,0,0,0...</td>\n",
       "      <td>NaN</td>\n",
       "    </tr>\n",
       "    <tr>\n",
       "      <th>4</th>\n",
       "      <td>to make her feel threatened,0,0,0,0,0,0,0,0,0,...</td>\n",
       "      <td>NaN</td>\n",
       "    </tr>\n",
       "  </tbody>\n",
       "</table>\n",
       "</div>"
      ],
      "text/plain": [
       "                                                Text  GE_indices\n",
       "0  Clean_text,admiration,amusement,anger,annoyanc...         NaN\n",
       "1  my favourite food is anything i did not have t...         NaN\n",
       "2  now if he does off himself everyone will think...         NaN\n",
       "3  why the fuck is bayless isoing,0,0,1,0,0,0,0,0...         NaN\n",
       "4  to make her feel threatened,0,0,0,0,0,0,0,0,0,...         NaN"
      ]
     },
     "metadata": {},
     "output_type": "display_data"
    }
   ],
   "source": [
    "# Importing raw comments and labels\n",
    "df_train = pd.read_csv('/Users/nickq/Repos/MoodHive/Data/train_clean.csv', sep='\\t',\n",
    "                       header=None, names=['Text', 'GE_indices', 'Id']).drop('Id', axis=1)\n",
    "df_val = pd.read_csv('/Users/nickq/Repos/MoodHive/Data/val_clean.csv', sep='\\t', header=None, names=['Text', 'GE_indices', 'Id']).drop('Id', axis=1)\n",
    "df_test = pd.read_csv('/Users/nickq/Repos/MoodHive/Data/test_clean.csv', sep='\\t', header=None, names=['Text', 'GE_indices', 'Id']).drop('Id', axis=1)\n",
    "# Preview of data\n",
    "display(df_train.head())"
   ]
  },
  {
   "cell_type": "markdown",
   "metadata": {
    "id": "4m94XxHRRStr"
   },
   "source": [
    "Now let's define some size variables and see how many samples we have in each dataset and also the total number of samples."
   ]
  },
  {
   "cell_type": "code",
   "execution_count": 5,
   "metadata": {
    "id": "DnsuYqASe2-k"
   },
   "outputs": [],
   "source": [
    "# Defining the number of samples in train, validation and test dataset\n",
    "size_train = df_train.shape[0]\n",
    "size_val = df_val.shape[0]\n",
    "size_test = df_test.shape[0]\n",
    "\n",
    "# Defining the total number of samples\n",
    "size_all = size_train + size_val + size_test"
   ]
  },
  {
   "cell_type": "code",
   "execution_count": 6,
   "metadata": {
    "colab": {
     "base_uri": "https://localhost:8080/"
    },
    "executionInfo": {
     "elapsed": 7553,
     "status": "ok",
     "timestamp": 1617209479430,
     "user": {
      "displayName": "Ibrahim Benjelloun",
      "photoUrl": "",
      "userId": "05131578507394582340"
     },
     "user_tz": -120
    },
    "id": "4RG30uS6R2vK",
    "outputId": "53177f5b-914b-4f0d-c953-da60715b6c86"
   },
   "outputs": [
    {
     "name": "stdout",
     "output_type": "stream",
     "text": [
      "Train dataset has 43410 samples and represents 80.00% of overall data\n",
      "Validation dataset has 5426 samples and represents 10.00% of overall data\n",
      "Test dataset has 5427 samples and represents 10.00% of overall data\n",
      "\n",
      "The total number of samples is : 54263\n"
     ]
    }
   ],
   "source": [
    "# Shape of train, validation and test datasets\n",
    "print(\"Train dataset has {} samples and represents {:.2f}% of overall data\".format(size_train, size_train/size_all*100))\n",
    "print(\"Validation dataset has {} samples and represents {:.2f}% of overall data\".format(size_val, size_val/size_all*100))\n",
    "print(\"Test dataset has {} samples and represents {:.2f}% of overall data\".format(size_test, size_test/size_all*100))\n",
    "print()\n",
    "print(\"The total number of samples is : {}\".format(size_all))"
   ]
  },
  {
   "cell_type": "markdown",
   "metadata": {
    "id": "xrFv0Ajie4MZ"
   },
   "source": [
    "# 2 - Labels processing"
   ]
  },
  {
   "cell_type": "code",
   "execution_count": 7,
   "metadata": {
    "colab": {
     "base_uri": "https://localhost:8080/"
    },
    "executionInfo": {
     "elapsed": 7544,
     "status": "ok",
     "timestamp": 1617209479430,
     "user": {
      "displayName": "Ibrahim Benjelloun",
      "photoUrl": "",
      "userId": "05131578507394582340"
     },
     "user_tz": -120
    },
    "id": "FTROFr-USXlA",
    "outputId": "369519f6-2e2a-4fed-abf1-0afacbbb0af8"
   },
   "outputs": [
    {
     "name": "stdout",
     "output_type": "stream",
     "text": [
      "<class 'pandas.core.frame.DataFrame'>\n",
      "RangeIndex: 43410 entries, 0 to 43409\n",
      "Data columns (total 2 columns):\n",
      " #   Column      Non-Null Count  Dtype \n",
      "---  ------      --------------  ----- \n",
      " 0   Text        43410 non-null  object\n",
      " 1   GE_indices  43410 non-null  object\n",
      "dtypes: object(2)\n",
      "memory usage: 678.4+ KB\n"
     ]
    }
   ],
   "source": [
    "# Display some useful information about our data\n",
    "df_train.info()"
   ]
  },
  {
   "cell_type": "markdown",
   "metadata": {
    "id": "DSHzQUfYeHzj"
   },
   "source": [
    "## 2.1 - GoEmotions Taxonomy"
   ]
  },
  {
   "cell_type": "markdown",
   "metadata": {
    "id": "wDSyqBZFTkbN"
   },
   "source": [
    "Now, let's load the emotions in the GoEmotions taxonomy."
   ]
  },
  {
   "cell_type": "code",
   "execution_count": 9,
   "metadata": {
    "colab": {
     "base_uri": "https://localhost:8080/"
    },
    "executionInfo": {
     "elapsed": 7843,
     "status": "ok",
     "timestamp": 1617209479738,
     "user": {
      "displayName": "Ibrahim Benjelloun",
      "photoUrl": "",
      "userId": "05131578507394582340"
     },
     "user_tz": -120
    },
    "id": "cTUtEV51fOVU",
    "outputId": "ff73e9ad-49fb-42a1-ce12-4caee7d2deed"
   },
   "outputs": [
    {
     "name": "stdout",
     "output_type": "stream",
     "text": [
      "admiration\n",
      "amusement\n",
      "anger\n",
      "annoyance\n",
      "approval\n",
      "caring\n",
      "confusion\n",
      "curiosity\n",
      "desire\n",
      "disappointment\n",
      "disapproval\n",
      "disgust\n",
      "embarrassment\n",
      "excitement\n",
      "fear\n",
      "gratitude\n",
      "grief\n",
      "joy\n",
      "love\n",
      "nervousness\n",
      "optimism\n",
      "pride\n",
      "realization\n",
      "relief\n",
      "remorse\n",
      "sadness\n",
      "surprise\n",
      "neutral\n"
     ]
    }
   ],
   "source": [
    "# Loading emotion labels for GoEmotions taxonomy\n",
    "with open(\"/Users/nickq/Repos/MoodHive/Data/archive/data/ekman_labels.txt\", \"r\") as file:\n",
    "    GE_taxonomy = file.read().split(\"\\n\")\n",
    "\n",
    "for emo in GE_taxonomy:\n",
    "  print(emo)"
   ]
  },
  {
   "cell_type": "code",
   "execution_count": 10,
   "metadata": {
    "colab": {
     "base_uri": "https://localhost:8080/"
    },
    "executionInfo": {
     "elapsed": 7835,
     "status": "ok",
     "timestamp": 1617209479739,
     "user": {
      "displayName": "Ibrahim Benjelloun",
      "photoUrl": "",
      "userId": "05131578507394582340"
     },
     "user_tz": -120
    },
    "id": "CCJl3nwEocH4",
    "outputId": "566196f8-d7f5-4c2e-d525-3c27f6f7dc5c"
   },
   "outputs": [
    {
     "name": "stdout",
     "output_type": "stream",
     "text": [
      "We have 28 emotions in GoEmotions taxonomy including 'Neutral'\n"
     ]
    }
   ],
   "source": [
    "# Number of emotions\n",
    "print(\"We have {} emotions in GoEmotions taxonomy including 'Neutral'\".format(len(GE_taxonomy)))"
   ]
  },
  {
   "cell_type": "markdown",
   "metadata": {
    "id": "5kjI_0DNeN3x"
   },
   "source": [
    "## 2.2 - Labels encoding"
   ]
  },
  {
   "cell_type": "markdown",
   "metadata": {
    "id": "EtyS4pKyT1Q8"
   },
   "source": [
    "Before starting to encode our labels, we can concatenate our three datasets into one global dataset, perform all the processings we want and separate them later on using the size variables we defined earlier.\n",
    "\n",
    "However, it is important here to keep track of the order in which the datasets will be concatenated."
   ]
  },
  {
   "cell_type": "code",
   "execution_count": 11,
   "metadata": {
    "colab": {
     "base_uri": "https://localhost:8080/",
     "height": 159
    },
    "executionInfo": {
     "elapsed": 7827,
     "status": "ok",
     "timestamp": 1617209479740,
     "user": {
      "displayName": "Ibrahim Benjelloun",
      "photoUrl": "",
      "userId": "05131578507394582340"
     },
     "user_tz": -120
    },
    "id": "_l2qNvxwe8fA",
    "outputId": "347694f6-5abd-491f-99af-be71f81f918e"
   },
   "outputs": [
    {
     "data": {
      "text/html": [
       "<div>\n",
       "<style scoped>\n",
       "    .dataframe tbody tr th:only-of-type {\n",
       "        vertical-align: middle;\n",
       "    }\n",
       "\n",
       "    .dataframe tbody tr th {\n",
       "        vertical-align: top;\n",
       "    }\n",
       "\n",
       "    .dataframe thead th {\n",
       "        text-align: right;\n",
       "    }\n",
       "</style>\n",
       "<table border=\"1\" class=\"dataframe\">\n",
       "  <thead>\n",
       "    <tr style=\"text-align: right;\">\n",
       "      <th></th>\n",
       "      <th>Text</th>\n",
       "      <th>GE_indices</th>\n",
       "    </tr>\n",
       "  </thead>\n",
       "  <tbody>\n",
       "    <tr>\n",
       "      <th>0</th>\n",
       "      <td>My favourite food is anything I didn't have to...</td>\n",
       "      <td>27</td>\n",
       "    </tr>\n",
       "    <tr>\n",
       "      <th>1</th>\n",
       "      <td>Now if he does off himself, everyone will thin...</td>\n",
       "      <td>27</td>\n",
       "    </tr>\n",
       "    <tr>\n",
       "      <th>2</th>\n",
       "      <td>WHY THE FUCK IS BAYLESS ISOING</td>\n",
       "      <td>2</td>\n",
       "    </tr>\n",
       "  </tbody>\n",
       "</table>\n",
       "</div>"
      ],
      "text/plain": [
       "                                                Text GE_indices\n",
       "0  My favourite food is anything I didn't have to...         27\n",
       "1  Now if he does off himself, everyone will thin...         27\n",
       "2                     WHY THE FUCK IS BAYLESS ISOING          2"
      ]
     },
     "metadata": {},
     "output_type": "display_data"
    },
    {
     "name": "stdout",
     "output_type": "stream",
     "text": [
      "(54263, 2)\n"
     ]
    }
   ],
   "source": [
    "# Concatenating the 3 datasets for labels preprocessing\n",
    "df_all = pd.concat([df_train, df_val, df_test], axis=0).reset_index(drop=True)\n",
    "\n",
    "# Preview of data\n",
    "display(df_all.head(3))\n",
    "\n",
    "print(df_all.shape)"
   ]
  },
  {
   "cell_type": "markdown",
   "metadata": {
    "id": "15oONoLaU_qc"
   },
   "source": [
    "We can now begin to encode our emotions using the following procedure:\n",
    "\n",
    "\n",
    "1.  Convert the indices into lists of indices using the comma separator \n",
    "2.  Map each index to the actual emotion label (each index corresponds to the index of each emotion in the `GE_taxonomy` list\n",
    "3.  Use One-Hot encoding\n",
    "\n"
   ]
  },
  {
   "cell_type": "code",
   "execution_count": 12,
   "metadata": {
    "colab": {
     "base_uri": "https://localhost:8080/",
     "height": 142
    },
    "executionInfo": {
     "elapsed": 7818,
     "status": "ok",
     "timestamp": 1617209479740,
     "user": {
      "displayName": "Ibrahim Benjelloun",
      "photoUrl": "",
      "userId": "05131578507394582340"
     },
     "user_tz": -120
    },
    "id": "Ze8NKv4AfDbb",
    "outputId": "ccf34b4a-4943-451a-b473-1345ba608eb1"
   },
   "outputs": [
    {
     "data": {
      "text/html": [
       "<div>\n",
       "<style scoped>\n",
       "    .dataframe tbody tr th:only-of-type {\n",
       "        vertical-align: middle;\n",
       "    }\n",
       "\n",
       "    .dataframe tbody tr th {\n",
       "        vertical-align: top;\n",
       "    }\n",
       "\n",
       "    .dataframe thead th {\n",
       "        text-align: right;\n",
       "    }\n",
       "</style>\n",
       "<table border=\"1\" class=\"dataframe\">\n",
       "  <thead>\n",
       "    <tr style=\"text-align: right;\">\n",
       "      <th></th>\n",
       "      <th>Text</th>\n",
       "      <th>GE_indices</th>\n",
       "    </tr>\n",
       "  </thead>\n",
       "  <tbody>\n",
       "    <tr>\n",
       "      <th>0</th>\n",
       "      <td>My favourite food is anything I didn't have to...</td>\n",
       "      <td>[27]</td>\n",
       "    </tr>\n",
       "    <tr>\n",
       "      <th>1</th>\n",
       "      <td>Now if he does off himself, everyone will thin...</td>\n",
       "      <td>[27]</td>\n",
       "    </tr>\n",
       "    <tr>\n",
       "      <th>2</th>\n",
       "      <td>WHY THE FUCK IS BAYLESS ISOING</td>\n",
       "      <td>[2]</td>\n",
       "    </tr>\n",
       "  </tbody>\n",
       "</table>\n",
       "</div>"
      ],
      "text/plain": [
       "                                                Text GE_indices\n",
       "0  My favourite food is anything I didn't have to...       [27]\n",
       "1  Now if he does off himself, everyone will thin...       [27]\n",
       "2                     WHY THE FUCK IS BAYLESS ISOING        [2]"
      ]
     },
     "metadata": {},
     "output_type": "display_data"
    }
   ],
   "source": [
    "# Convertings emotion indices into list of indices\n",
    "df_all['GE_indices'] = df_all['GE_indices'].apply(lambda x: x.split(','))\n",
    "\n",
    "# Preview of data\n",
    "display(df_all.head(3))"
   ]
  },
  {
   "cell_type": "code",
   "execution_count": 13,
   "metadata": {
    "colab": {
     "base_uri": "https://localhost:8080/",
     "height": 142
    },
    "executionInfo": {
     "elapsed": 7810,
     "status": "ok",
     "timestamp": 1617209479741,
     "user": {
      "displayName": "Ibrahim Benjelloun",
      "photoUrl": "",
      "userId": "05131578507394582340"
     },
     "user_tz": -120
    },
    "id": "3s7g1IQpfQpp",
    "outputId": "511466d0-c9e0-40e8-ac5a-d95d52b46fe3"
   },
   "outputs": [
    {
     "data": {
      "text/html": [
       "<div>\n",
       "<style scoped>\n",
       "    .dataframe tbody tr th:only-of-type {\n",
       "        vertical-align: middle;\n",
       "    }\n",
       "\n",
       "    .dataframe tbody tr th {\n",
       "        vertical-align: top;\n",
       "    }\n",
       "\n",
       "    .dataframe thead th {\n",
       "        text-align: right;\n",
       "    }\n",
       "</style>\n",
       "<table border=\"1\" class=\"dataframe\">\n",
       "  <thead>\n",
       "    <tr style=\"text-align: right;\">\n",
       "      <th></th>\n",
       "      <th>Text</th>\n",
       "      <th>GE_indices</th>\n",
       "      <th>GE_labels</th>\n",
       "    </tr>\n",
       "  </thead>\n",
       "  <tbody>\n",
       "    <tr>\n",
       "      <th>0</th>\n",
       "      <td>My favourite food is anything I didn't have to...</td>\n",
       "      <td>[27]</td>\n",
       "      <td>[neutral]</td>\n",
       "    </tr>\n",
       "    <tr>\n",
       "      <th>1</th>\n",
       "      <td>Now if he does off himself, everyone will thin...</td>\n",
       "      <td>[27]</td>\n",
       "      <td>[neutral]</td>\n",
       "    </tr>\n",
       "    <tr>\n",
       "      <th>2</th>\n",
       "      <td>WHY THE FUCK IS BAYLESS ISOING</td>\n",
       "      <td>[2]</td>\n",
       "      <td>[anger]</td>\n",
       "    </tr>\n",
       "  </tbody>\n",
       "</table>\n",
       "</div>"
      ],
      "text/plain": [
       "                                                Text GE_indices  GE_labels\n",
       "0  My favourite food is anything I didn't have to...       [27]  [neutral]\n",
       "1  Now if he does off himself, everyone will thin...       [27]  [neutral]\n",
       "2                     WHY THE FUCK IS BAYLESS ISOING        [2]    [anger]"
      ]
     },
     "metadata": {},
     "output_type": "display_data"
    }
   ],
   "source": [
    "# Defining a function that maps each index to emotion labels\n",
    "def idx2class(idx_list):\n",
    "    arr = []\n",
    "    for i in idx_list:\n",
    "        arr.append(GE_taxonomy[int(i)])\n",
    "    return arr\n",
    "\n",
    "# Applying the function\n",
    "df_all['GE_labels'] = df_all['GE_indices'].apply(idx2class)\n",
    "\n",
    "# Preview of data\n",
    "display(df_all.head(3))"
   ]
  },
  {
   "cell_type": "code",
   "execution_count": 14,
   "metadata": {
    "colab": {
     "base_uri": "https://localhost:8080/",
     "height": 383
    },
    "executionInfo": {
     "elapsed": 8671,
     "status": "ok",
     "timestamp": 1617209480612,
     "user": {
      "displayName": "Ibrahim Benjelloun",
      "photoUrl": "",
      "userId": "05131578507394582340"
     },
     "user_tz": -120
    },
    "id": "IPr63rTQaAU4",
    "outputId": "cc8345b0-eeb5-4cf9-8b85-bf3463e65997"
   },
   "outputs": [
    {
     "data": {
      "text/html": [
       "<div>\n",
       "<style scoped>\n",
       "    .dataframe tbody tr th:only-of-type {\n",
       "        vertical-align: middle;\n",
       "    }\n",
       "\n",
       "    .dataframe tbody tr th {\n",
       "        vertical-align: top;\n",
       "    }\n",
       "\n",
       "    .dataframe thead th {\n",
       "        text-align: right;\n",
       "    }\n",
       "</style>\n",
       "<table border=\"1\" class=\"dataframe\">\n",
       "  <thead>\n",
       "    <tr style=\"text-align: right;\">\n",
       "      <th></th>\n",
       "      <th>Text</th>\n",
       "      <th>GE_indices</th>\n",
       "      <th>GE_labels</th>\n",
       "      <th>admiration</th>\n",
       "      <th>amusement</th>\n",
       "      <th>anger</th>\n",
       "      <th>annoyance</th>\n",
       "      <th>approval</th>\n",
       "      <th>caring</th>\n",
       "      <th>confusion</th>\n",
       "      <th>...</th>\n",
       "      <th>love</th>\n",
       "      <th>nervousness</th>\n",
       "      <th>optimism</th>\n",
       "      <th>pride</th>\n",
       "      <th>realization</th>\n",
       "      <th>relief</th>\n",
       "      <th>remorse</th>\n",
       "      <th>sadness</th>\n",
       "      <th>surprise</th>\n",
       "      <th>neutral</th>\n",
       "    </tr>\n",
       "  </thead>\n",
       "  <tbody>\n",
       "    <tr>\n",
       "      <th>0</th>\n",
       "      <td>My favourite food is anything I didn't have to...</td>\n",
       "      <td>[27]</td>\n",
       "      <td>[neutral]</td>\n",
       "      <td>0</td>\n",
       "      <td>0</td>\n",
       "      <td>0</td>\n",
       "      <td>0</td>\n",
       "      <td>0</td>\n",
       "      <td>0</td>\n",
       "      <td>0</td>\n",
       "      <td>...</td>\n",
       "      <td>0</td>\n",
       "      <td>0</td>\n",
       "      <td>0</td>\n",
       "      <td>0</td>\n",
       "      <td>0</td>\n",
       "      <td>0</td>\n",
       "      <td>0</td>\n",
       "      <td>0</td>\n",
       "      <td>0</td>\n",
       "      <td>1</td>\n",
       "    </tr>\n",
       "    <tr>\n",
       "      <th>1</th>\n",
       "      <td>Now if he does off himself, everyone will thin...</td>\n",
       "      <td>[27]</td>\n",
       "      <td>[neutral]</td>\n",
       "      <td>0</td>\n",
       "      <td>0</td>\n",
       "      <td>0</td>\n",
       "      <td>0</td>\n",
       "      <td>0</td>\n",
       "      <td>0</td>\n",
       "      <td>0</td>\n",
       "      <td>...</td>\n",
       "      <td>0</td>\n",
       "      <td>0</td>\n",
       "      <td>0</td>\n",
       "      <td>0</td>\n",
       "      <td>0</td>\n",
       "      <td>0</td>\n",
       "      <td>0</td>\n",
       "      <td>0</td>\n",
       "      <td>0</td>\n",
       "      <td>1</td>\n",
       "    </tr>\n",
       "    <tr>\n",
       "      <th>2</th>\n",
       "      <td>WHY THE FUCK IS BAYLESS ISOING</td>\n",
       "      <td>[2]</td>\n",
       "      <td>[anger]</td>\n",
       "      <td>0</td>\n",
       "      <td>0</td>\n",
       "      <td>1</td>\n",
       "      <td>0</td>\n",
       "      <td>0</td>\n",
       "      <td>0</td>\n",
       "      <td>0</td>\n",
       "      <td>...</td>\n",
       "      <td>0</td>\n",
       "      <td>0</td>\n",
       "      <td>0</td>\n",
       "      <td>0</td>\n",
       "      <td>0</td>\n",
       "      <td>0</td>\n",
       "      <td>0</td>\n",
       "      <td>0</td>\n",
       "      <td>0</td>\n",
       "      <td>0</td>\n",
       "    </tr>\n",
       "  </tbody>\n",
       "</table>\n",
       "<p>3 rows × 31 columns</p>\n",
       "</div>"
      ],
      "text/plain": [
       "                                                Text GE_indices  GE_labels  \\\n",
       "0  My favourite food is anything I didn't have to...       [27]  [neutral]   \n",
       "1  Now if he does off himself, everyone will thin...       [27]  [neutral]   \n",
       "2                     WHY THE FUCK IS BAYLESS ISOING        [2]    [anger]   \n",
       "\n",
       "   admiration  amusement  anger  annoyance  approval  caring  confusion  ...  \\\n",
       "0           0          0      0          0         0       0          0  ...   \n",
       "1           0          0      0          0         0       0          0  ...   \n",
       "2           0          0      1          0         0       0          0  ...   \n",
       "\n",
       "   love  nervousness  optimism  pride  realization  relief  remorse  sadness  \\\n",
       "0     0            0         0      0            0       0        0        0   \n",
       "1     0            0         0      0            0       0        0        0   \n",
       "2     0            0         0      0            0       0        0        0   \n",
       "\n",
       "   surprise  neutral  \n",
       "0         0        1  \n",
       "1         0        1  \n",
       "2         0        0  \n",
       "\n",
       "[3 rows x 31 columns]"
      ]
     },
     "metadata": {},
     "output_type": "display_data"
    }
   ],
   "source": [
    "# OneHot encoding for multi-label classification\n",
    "for emo in GE_taxonomy:\n",
    "    df_all[emo] = np.zeros((len(df_all),1))\n",
    "    df_all[emo] = df_all['GE_labels'].apply(lambda x: 1 if emo in x else 0)\n",
    "\n",
    "# Preview of data   \n",
    "display(df_all.head(3))"
   ]
  },
  {
   "cell_type": "code",
   "execution_count": 15,
   "metadata": {
    "colab": {
     "base_uri": "https://localhost:8080/",
     "height": 383
    },
    "executionInfo": {
     "elapsed": 8663,
     "status": "ok",
     "timestamp": 1617209480613,
     "user": {
      "displayName": "Ibrahim Benjelloun",
      "photoUrl": "",
      "userId": "05131578507394582340"
     },
     "user_tz": -120
    },
    "id": "-33G7nFpf411",
    "outputId": "5f864b7c-164c-4a8b-aa71-c84d008cf2bc"
   },
   "outputs": [
    {
     "data": {
      "text/html": [
       "<div>\n",
       "<style scoped>\n",
       "    .dataframe tbody tr th:only-of-type {\n",
       "        vertical-align: middle;\n",
       "    }\n",
       "\n",
       "    .dataframe tbody tr th {\n",
       "        vertical-align: top;\n",
       "    }\n",
       "\n",
       "    .dataframe thead th {\n",
       "        text-align: right;\n",
       "    }\n",
       "</style>\n",
       "<table border=\"1\" class=\"dataframe\">\n",
       "  <thead>\n",
       "    <tr style=\"text-align: right;\">\n",
       "      <th></th>\n",
       "      <th>Text</th>\n",
       "      <th>admiration</th>\n",
       "      <th>amusement</th>\n",
       "      <th>anger</th>\n",
       "      <th>annoyance</th>\n",
       "      <th>approval</th>\n",
       "      <th>caring</th>\n",
       "      <th>confusion</th>\n",
       "      <th>curiosity</th>\n",
       "      <th>desire</th>\n",
       "      <th>...</th>\n",
       "      <th>love</th>\n",
       "      <th>nervousness</th>\n",
       "      <th>optimism</th>\n",
       "      <th>pride</th>\n",
       "      <th>realization</th>\n",
       "      <th>relief</th>\n",
       "      <th>remorse</th>\n",
       "      <th>sadness</th>\n",
       "      <th>surprise</th>\n",
       "      <th>neutral</th>\n",
       "    </tr>\n",
       "  </thead>\n",
       "  <tbody>\n",
       "    <tr>\n",
       "      <th>0</th>\n",
       "      <td>My favourite food is anything I didn't have to...</td>\n",
       "      <td>0</td>\n",
       "      <td>0</td>\n",
       "      <td>0</td>\n",
       "      <td>0</td>\n",
       "      <td>0</td>\n",
       "      <td>0</td>\n",
       "      <td>0</td>\n",
       "      <td>0</td>\n",
       "      <td>0</td>\n",
       "      <td>...</td>\n",
       "      <td>0</td>\n",
       "      <td>0</td>\n",
       "      <td>0</td>\n",
       "      <td>0</td>\n",
       "      <td>0</td>\n",
       "      <td>0</td>\n",
       "      <td>0</td>\n",
       "      <td>0</td>\n",
       "      <td>0</td>\n",
       "      <td>1</td>\n",
       "    </tr>\n",
       "    <tr>\n",
       "      <th>1</th>\n",
       "      <td>Now if he does off himself, everyone will thin...</td>\n",
       "      <td>0</td>\n",
       "      <td>0</td>\n",
       "      <td>0</td>\n",
       "      <td>0</td>\n",
       "      <td>0</td>\n",
       "      <td>0</td>\n",
       "      <td>0</td>\n",
       "      <td>0</td>\n",
       "      <td>0</td>\n",
       "      <td>...</td>\n",
       "      <td>0</td>\n",
       "      <td>0</td>\n",
       "      <td>0</td>\n",
       "      <td>0</td>\n",
       "      <td>0</td>\n",
       "      <td>0</td>\n",
       "      <td>0</td>\n",
       "      <td>0</td>\n",
       "      <td>0</td>\n",
       "      <td>1</td>\n",
       "    </tr>\n",
       "    <tr>\n",
       "      <th>2</th>\n",
       "      <td>WHY THE FUCK IS BAYLESS ISOING</td>\n",
       "      <td>0</td>\n",
       "      <td>0</td>\n",
       "      <td>1</td>\n",
       "      <td>0</td>\n",
       "      <td>0</td>\n",
       "      <td>0</td>\n",
       "      <td>0</td>\n",
       "      <td>0</td>\n",
       "      <td>0</td>\n",
       "      <td>...</td>\n",
       "      <td>0</td>\n",
       "      <td>0</td>\n",
       "      <td>0</td>\n",
       "      <td>0</td>\n",
       "      <td>0</td>\n",
       "      <td>0</td>\n",
       "      <td>0</td>\n",
       "      <td>0</td>\n",
       "      <td>0</td>\n",
       "      <td>0</td>\n",
       "    </tr>\n",
       "  </tbody>\n",
       "</table>\n",
       "<p>3 rows × 29 columns</p>\n",
       "</div>"
      ],
      "text/plain": [
       "                                                Text  admiration  amusement  \\\n",
       "0  My favourite food is anything I didn't have to...           0          0   \n",
       "1  Now if he does off himself, everyone will thin...           0          0   \n",
       "2                     WHY THE FUCK IS BAYLESS ISOING           0          0   \n",
       "\n",
       "   anger  annoyance  approval  caring  confusion  curiosity  desire  ...  \\\n",
       "0      0          0         0       0          0          0       0  ...   \n",
       "1      0          0         0       0          0          0       0  ...   \n",
       "2      1          0         0       0          0          0       0  ...   \n",
       "\n",
       "   love  nervousness  optimism  pride  realization  relief  remorse  sadness  \\\n",
       "0     0            0         0      0            0       0        0        0   \n",
       "1     0            0         0      0            0       0        0        0   \n",
       "2     0            0         0      0            0       0        0        0   \n",
       "\n",
       "   surprise  neutral  \n",
       "0         0        1  \n",
       "1         0        1  \n",
       "2         0        0  \n",
       "\n",
       "[3 rows x 29 columns]"
      ]
     },
     "metadata": {},
     "output_type": "display_data"
    }
   ],
   "source": [
    "# Keeping only necessary columns\n",
    "df_all = df_all.drop(['GE_indices','GE_labels'], axis=1)\n",
    "\n",
    "# Preview of data   \n",
    "display(df_all.head(3))"
   ]
  },
  {
   "cell_type": "markdown",
   "metadata": {
    "id": "uwL4l4W2hRof"
   },
   "source": [
    "# 3 - Text preprocessing"
   ]
  },
  {
   "cell_type": "markdown",
   "metadata": {
    "id": "J88BKwdUWGx0"
   },
   "source": [
    "Now that we have delt with the labels, we can start cleaning the text corpus.\n",
    "\n",
    "Given the source of data (Reddit), our samples need to be curated in order to harmonize them and prepare them for the modeling step.\n",
    "\n",
    "For example, we need to handle emojis, contractions, acronyms, special characters, etc.\n",
    "\n",
    "Let's first visualize a random sample."
   ]
  },
  {
   "cell_type": "code",
   "execution_count": 16,
   "metadata": {
    "colab": {
     "base_uri": "https://localhost:8080/"
    },
    "executionInfo": {
     "elapsed": 8655,
     "status": "ok",
     "timestamp": 1617209480613,
     "user": {
      "displayName": "Ibrahim Benjelloun",
      "photoUrl": "",
      "userId": "05131578507394582340"
     },
     "user_tz": -120
    },
    "id": "vHVX2kaRhUkU",
    "outputId": "1875bd11-f143-432b-e518-2d37f9e59d35"
   },
   "outputs": [
    {
     "name": "stdout",
     "output_type": "stream",
     "text": [
      "I'm a male and I have trouble understanding these emotions, do not for one second think that they are normal emotions, male or otherwise.\n"
     ]
    }
   ],
   "source": [
    "# Visualising a random text sample from our dataset\n",
    "text_sample = np.random.randint(len(df_all))\n",
    "print(df_all.loc[text_sample, \"Text\"])"
   ]
  },
  {
   "cell_type": "markdown",
   "metadata": {
    "id": "RyuqNYmIXRl1"
   },
   "source": [
    "We can now define a function that will be applied to all our samples.\n",
    "\n",
    "This function has been constructed based on the analysis of a subsample of our train dataset, and it can obviously be further improved."
   ]
  },
  {
   "cell_type": "code",
   "execution_count": 17,
   "metadata": {
    "id": "mpEyMEFEaoxK"
   },
   "outputs": [],
   "source": [
    "# Building a preprocessing function to clean text\n",
    "def preprocess_corpus(x):\n",
    "\n",
    "  # Adding a space between words and punctation\n",
    "  x = re.sub( r'([a-zA-Z\\[\\]])([,;.!?])', r'\\1 \\2', x)\n",
    "  x = re.sub( r'([,;.!?])([a-zA-Z\\[\\]])', r'\\1 \\2', x)\n",
    "  \n",
    "  # Demojize\n",
    "  x = emoji.demojize(x)\n",
    "  \n",
    "  # Expand contraction\n",
    "  x = contractions.fix(x)\n",
    "  \n",
    "  # Lower\n",
    "  x = x.lower()\n",
    "\n",
    "  #correct some acronyms/typos/abbreviations  \n",
    "  x = re.sub(r\"lmao\", \"laughing my ass off\", x)  \n",
    "  x = re.sub(r\"amirite\", \"am i right\", x)\n",
    "  x = re.sub(r\"\\b(tho)\\b\", \"though\", x)\n",
    "  x = re.sub(r\"\\b(ikr)\\b\", \"i know right\", x)\n",
    "  x = re.sub(r\"\\b(ya|u)\\b\", \"you\", x)\n",
    "  x = re.sub(r\"\\b(eu)\\b\", \"europe\", x)\n",
    "  x = re.sub(r\"\\b(da)\\b\", \"the\", x)\n",
    "  x = re.sub(r\"\\b(dat)\\b\", \"that\", x)\n",
    "  x = re.sub(r\"\\b(dats)\\b\", \"that is\", x)\n",
    "  x = re.sub(r\"\\b(cuz)\\b\", \"because\", x)\n",
    "  x = re.sub(r\"\\b(fkn)\\b\", \"fucking\", x)\n",
    "  x = re.sub(r\"\\b(tbh)\\b\", \"to be honest\", x)\n",
    "  x = re.sub(r\"\\b(tbf)\\b\", \"to be fair\", x)\n",
    "  x = re.sub(r\"faux pas\", \"mistake\", x)\n",
    "  x = re.sub(r\"\\b(btw)\\b\", \"by the way\", x)\n",
    "  x = re.sub(r\"\\b(bs)\\b\", \"bullshit\", x)\n",
    "  x = re.sub(r\"\\b(kinda)\\b\", \"kind of\", x)\n",
    "  x = re.sub(r\"\\b(bruh)\\b\", \"bro\", x)\n",
    "  x = re.sub(r\"\\b(w/e)\\b\", \"whatever\", x)\n",
    "  x = re.sub(r\"\\b(w/)\\b\", \"with\", x)\n",
    "  x = re.sub(r\"\\b(w/o)\\b\", \"without\", x)\n",
    "  x = re.sub(r\"\\b(doj)\\b\", \"department of justice\", x)\n",
    "  \n",
    "  #replace some words with multiple occurences of a letter, example \"coooool\" turns into --> cool\n",
    "  x = re.sub(r\"\\b(j+e{2,}z+e*)\\b\", \"jeez\", x)\n",
    "  x = re.sub(r\"\\b(co+l+)\\b\", \"cool\", x)\n",
    "  x = re.sub(r\"\\b(g+o+a+l+)\\b\", \"goal\", x)\n",
    "  x = re.sub(r\"\\b(s+h+i+t+)\\b\", \"shit\", x)\n",
    "  x = re.sub(r\"\\b(o+m+g+)\\b\", \"omg\", x)\n",
    "  x = re.sub(r\"\\b(w+t+f+)\\b\", \"wtf\", x)\n",
    "  x = re.sub(r\"\\b(w+h+a+t+)\\b\", \"what\", x)\n",
    "  x = re.sub(r\"\\b(y+e+y+|y+a+y+|y+e+a+h+)\\b\", \"yeah\", x)\n",
    "  x = re.sub(r\"\\b(w+o+w+)\\b\", \"wow\", x)\n",
    "  x = re.sub(r\"\\b(w+h+y+)\\b\", \"why\", x)\n",
    "  x = re.sub(r\"\\b(s+o+)\\b\", \"so\", x)\n",
    "  x = re.sub(r\"\\b(f)\\b\", \"fuck\", x)\n",
    "  x = re.sub(r\"\\b(w+h+o+p+s+)\\b\", \"whoops\", x)\n",
    "  x = re.sub(r\"\\b(ofc)\\b\", \"of course\", x)\n",
    "  x = re.sub(r\"\\b(the us)\\b\", \"usa\", x)\n",
    "  x = re.sub(r\"\\b(gf)\\b\", \"girlfriend\", x)\n",
    "  x = re.sub(r\"\\b(hr)\\b\", \"human ressources\", x)\n",
    "  x = re.sub(r\"\\b(mh)\\b\", \"mental health\", x)\n",
    "  x = re.sub(r\"\\b(idk)\\b\", \"i do not know\", x)\n",
    "  x = re.sub(r\"\\b(gotcha)\\b\", \"i got you\", x)\n",
    "  x = re.sub(r\"\\b(y+e+p+)\\b\", \"yes\", x)\n",
    "  x = re.sub(r\"\\b(a*ha+h[ha]*|a*ha +h[ha]*)\\b\", \"haha\", x)\n",
    "  x = re.sub(r\"\\b(o?l+o+l+[ol]*)\\b\", \"lol\", x)\n",
    "  x = re.sub(r\"\\b(o*ho+h[ho]*|o*ho +h[ho]*)\\b\", \"ohoh\", x)\n",
    "  x = re.sub(r\"\\b(o+h+)\\b\", \"oh\", x)\n",
    "  x = re.sub(r\"\\b(a+h+)\\b\", \"ah\", x)\n",
    "  x = re.sub(r\"\\b(u+h+)\\b\", \"uh\", x)\n",
    "\n",
    "  # Handling emojis\n",
    "  x = re.sub(r\"<3\", \" love \", x)\n",
    "  x = re.sub(r\"xd\", \" smiling_face_with_open_mouth_and_tightly_closed_eyes \", x)\n",
    "  x = re.sub(r\":\\)\", \" smiling_face \", x)\n",
    "  x = re.sub(r\"^_^\", \" smiling_face \", x)\n",
    "  x = re.sub(r\"\\*_\\*\", \" star_struck \", x)\n",
    "  x = re.sub(r\":\\(\", \" frowning_face \", x)\n",
    "  x = re.sub(r\":\\^\\(\", \" frowning_face \", x)\n",
    "  x = re.sub(r\";\\(\", \" frowning_face \", x)\n",
    "  x = re.sub(r\":\\/\",  \" confused_face\", x)\n",
    "  x = re.sub(r\";\\)\",  \" wink\", x)\n",
    "  x = re.sub(r\">__<\",  \" unamused \", x)\n",
    "  x = re.sub(r\"\\b([xo]+x*)\\b\", \" xoxo \", x)\n",
    "  x = re.sub(r\"\\b(n+a+h+)\\b\", \"no\", x)\n",
    "\n",
    "  # Handling special cases of text\n",
    "  x = re.sub(r\"h a m b e r d e r s\", \"hamberders\", x)\n",
    "  x = re.sub(r\"b e n\", \"ben\", x)\n",
    "  x = re.sub(r\"s a t i r e\", \"satire\", x)\n",
    "  x = re.sub(r\"y i k e s\", \"yikes\", x)\n",
    "  x = re.sub(r\"s p o i l e r\", \"spoiler\", x)\n",
    "  x = re.sub(r\"thankyou\", \"thank you\", x)\n",
    "  x = re.sub(r\"a^r^o^o^o^o^o^o^o^n^d\", \"around\", x)\n",
    "\n",
    "  # Remove special characters and numbers replace by space + remove double space\n",
    "  x = re.sub(r\"\\b([.]{3,})\",\" dots \", x)\n",
    "  x = re.sub(r\"[^A-Za-z!?_]+\",\" \", x)\n",
    "  x = re.sub(r\"\\b([s])\\b *\",\"\", x)\n",
    "  x = re.sub(r\" +\",\" \", x)\n",
    "  x = x.strip()\n",
    "\n",
    "  return x"
   ]
  },
  {
   "cell_type": "markdown",
   "metadata": {
    "id": "E6eb_lNNYIRb"
   },
   "source": [
    "Our function is ready ! let's clean the data and see few samples."
   ]
  },
  {
   "cell_type": "code",
   "execution_count": 18,
   "metadata": {
    "colab": {
     "base_uri": "https://localhost:8080/",
     "height": 204
    },
    "executionInfo": {
     "elapsed": 42391,
     "status": "ok",
     "timestamp": 1617209514360,
     "user": {
      "displayName": "Ibrahim Benjelloun",
      "photoUrl": "",
      "userId": "05131578507394582340"
     },
     "user_tz": -120
    },
    "id": "4Mxv29lSh1gd",
    "outputId": "9daa7b1b-8239-4259-eb12-82d7385ee1b2"
   },
   "outputs": [
    {
     "data": {
      "text/html": [
       "<div>\n",
       "<style scoped>\n",
       "    .dataframe tbody tr th:only-of-type {\n",
       "        vertical-align: middle;\n",
       "    }\n",
       "\n",
       "    .dataframe tbody tr th {\n",
       "        vertical-align: top;\n",
       "    }\n",
       "\n",
       "    .dataframe thead th {\n",
       "        text-align: right;\n",
       "    }\n",
       "</style>\n",
       "<table border=\"1\" class=\"dataframe\">\n",
       "  <thead>\n",
       "    <tr style=\"text-align: right;\">\n",
       "      <th></th>\n",
       "      <th>Text</th>\n",
       "      <th>Clean_text</th>\n",
       "    </tr>\n",
       "  </thead>\n",
       "  <tbody>\n",
       "    <tr>\n",
       "      <th>46952</th>\n",
       "      <td>It was a joke long before the meme haha</td>\n",
       "      <td>it was a joke long before the meme haha</td>\n",
       "    </tr>\n",
       "    <tr>\n",
       "      <th>6935</th>\n",
       "      <td>Such a [NAME] thing to do. Next thing we know ...</td>\n",
       "      <td>such a name thing to do next thing we know he ...</td>\n",
       "    </tr>\n",
       "    <tr>\n",
       "      <th>45960</th>\n",
       "      <td>That man deserves a good whiskey. Hook him up.</td>\n",
       "      <td>that man deserves a good whiskey hook him up</td>\n",
       "    </tr>\n",
       "    <tr>\n",
       "      <th>12874</th>\n",
       "      <td>Wow... Hope you ok and good luck</td>\n",
       "      <td>wow hope you ok and good luck</td>\n",
       "    </tr>\n",
       "    <tr>\n",
       "      <th>13995</th>\n",
       "      <td>Amazing. The perfect words for it</td>\n",
       "      <td>amazing the perfect words for it</td>\n",
       "    </tr>\n",
       "  </tbody>\n",
       "</table>\n",
       "</div>"
      ],
      "text/plain": [
       "                                                    Text  \\\n",
       "46952            It was a joke long before the meme haha   \n",
       "6935   Such a [NAME] thing to do. Next thing we know ...   \n",
       "45960     That man deserves a good whiskey. Hook him up.   \n",
       "12874                   Wow... Hope you ok and good luck   \n",
       "13995                  Amazing. The perfect words for it   \n",
       "\n",
       "                                              Clean_text  \n",
       "46952            it was a joke long before the meme haha  \n",
       "6935   such a name thing to do next thing we know he ...  \n",
       "45960       that man deserves a good whiskey hook him up  \n",
       "12874                      wow hope you ok and good luck  \n",
       "13995                   amazing the perfect words for it  "
      ]
     },
     "metadata": {},
     "output_type": "display_data"
    }
   ],
   "source": [
    "# Applying the preprocessing function on the dataset\n",
    "df_all[\"Clean_text\"] = df_all[\"Text\"].apply(preprocess_corpus)\n",
    "\n",
    "# Preview of data\n",
    "display(df_all[['Text', 'Clean_text']].sample(5))"
   ]
  },
  {
   "cell_type": "markdown",
   "metadata": {
    "id": "RFHUANnqYa69"
   },
   "source": [
    "This looks ok ! Now let's get rid of the original texts."
   ]
  },
  {
   "cell_type": "code",
   "execution_count": 19,
   "metadata": {
    "colab": {
     "base_uri": "https://localhost:8080/",
     "height": 315
    },
    "executionInfo": {
     "elapsed": 42376,
     "status": "ok",
     "timestamp": 1617209514360,
     "user": {
      "displayName": "Ibrahim Benjelloun",
      "photoUrl": "",
      "userId": "05131578507394582340"
     },
     "user_tz": -120
    },
    "id": "f2w_WV6RiJaw",
    "outputId": "dac6e2cb-730c-43f9-842a-6385654665c3"
   },
   "outputs": [
    {
     "data": {
      "text/html": [
       "<div>\n",
       "<style scoped>\n",
       "    .dataframe tbody tr th:only-of-type {\n",
       "        vertical-align: middle;\n",
       "    }\n",
       "\n",
       "    .dataframe tbody tr th {\n",
       "        vertical-align: top;\n",
       "    }\n",
       "\n",
       "    .dataframe thead th {\n",
       "        text-align: right;\n",
       "    }\n",
       "</style>\n",
       "<table border=\"1\" class=\"dataframe\">\n",
       "  <thead>\n",
       "    <tr style=\"text-align: right;\">\n",
       "      <th></th>\n",
       "      <th>Clean_text</th>\n",
       "      <th>admiration</th>\n",
       "      <th>amusement</th>\n",
       "      <th>anger</th>\n",
       "      <th>annoyance</th>\n",
       "      <th>approval</th>\n",
       "      <th>caring</th>\n",
       "      <th>confusion</th>\n",
       "      <th>curiosity</th>\n",
       "      <th>desire</th>\n",
       "      <th>...</th>\n",
       "      <th>love</th>\n",
       "      <th>nervousness</th>\n",
       "      <th>optimism</th>\n",
       "      <th>pride</th>\n",
       "      <th>realization</th>\n",
       "      <th>relief</th>\n",
       "      <th>remorse</th>\n",
       "      <th>sadness</th>\n",
       "      <th>surprise</th>\n",
       "      <th>neutral</th>\n",
       "    </tr>\n",
       "  </thead>\n",
       "  <tbody>\n",
       "    <tr>\n",
       "      <th>0</th>\n",
       "      <td>my favourite food is anything i did not have t...</td>\n",
       "      <td>0</td>\n",
       "      <td>0</td>\n",
       "      <td>0</td>\n",
       "      <td>0</td>\n",
       "      <td>0</td>\n",
       "      <td>0</td>\n",
       "      <td>0</td>\n",
       "      <td>0</td>\n",
       "      <td>0</td>\n",
       "      <td>...</td>\n",
       "      <td>0</td>\n",
       "      <td>0</td>\n",
       "      <td>0</td>\n",
       "      <td>0</td>\n",
       "      <td>0</td>\n",
       "      <td>0</td>\n",
       "      <td>0</td>\n",
       "      <td>0</td>\n",
       "      <td>0</td>\n",
       "      <td>1</td>\n",
       "    </tr>\n",
       "    <tr>\n",
       "      <th>1</th>\n",
       "      <td>now if he does off himself everyone will think...</td>\n",
       "      <td>0</td>\n",
       "      <td>0</td>\n",
       "      <td>0</td>\n",
       "      <td>0</td>\n",
       "      <td>0</td>\n",
       "      <td>0</td>\n",
       "      <td>0</td>\n",
       "      <td>0</td>\n",
       "      <td>0</td>\n",
       "      <td>...</td>\n",
       "      <td>0</td>\n",
       "      <td>0</td>\n",
       "      <td>0</td>\n",
       "      <td>0</td>\n",
       "      <td>0</td>\n",
       "      <td>0</td>\n",
       "      <td>0</td>\n",
       "      <td>0</td>\n",
       "      <td>0</td>\n",
       "      <td>1</td>\n",
       "    </tr>\n",
       "    <tr>\n",
       "      <th>2</th>\n",
       "      <td>why the fuck is bayless isoing</td>\n",
       "      <td>0</td>\n",
       "      <td>0</td>\n",
       "      <td>1</td>\n",
       "      <td>0</td>\n",
       "      <td>0</td>\n",
       "      <td>0</td>\n",
       "      <td>0</td>\n",
       "      <td>0</td>\n",
       "      <td>0</td>\n",
       "      <td>...</td>\n",
       "      <td>0</td>\n",
       "      <td>0</td>\n",
       "      <td>0</td>\n",
       "      <td>0</td>\n",
       "      <td>0</td>\n",
       "      <td>0</td>\n",
       "      <td>0</td>\n",
       "      <td>0</td>\n",
       "      <td>0</td>\n",
       "      <td>0</td>\n",
       "    </tr>\n",
       "  </tbody>\n",
       "</table>\n",
       "<p>3 rows × 29 columns</p>\n",
       "</div>"
      ],
      "text/plain": [
       "                                          Clean_text  admiration  amusement  \\\n",
       "0  my favourite food is anything i did not have t...           0          0   \n",
       "1  now if he does off himself everyone will think...           0          0   \n",
       "2                     why the fuck is bayless isoing           0          0   \n",
       "\n",
       "   anger  annoyance  approval  caring  confusion  curiosity  desire  ...  \\\n",
       "0      0          0         0       0          0          0       0  ...   \n",
       "1      0          0         0       0          0          0       0  ...   \n",
       "2      1          0         0       0          0          0       0  ...   \n",
       "\n",
       "   love  nervousness  optimism  pride  realization  relief  remorse  sadness  \\\n",
       "0     0            0         0      0            0       0        0        0   \n",
       "1     0            0         0      0            0       0        0        0   \n",
       "2     0            0         0      0            0       0        0        0   \n",
       "\n",
       "   surprise  neutral  \n",
       "0         0        1  \n",
       "1         0        1  \n",
       "2         0        0  \n",
       "\n",
       "[3 rows x 29 columns]"
      ]
     },
     "metadata": {},
     "output_type": "display_data"
    }
   ],
   "source": [
    "# Dropping raw text column\n",
    "df_all = df_all[ ['Clean_text'] + [ col for col in df_all.columns if col not in ['Text', 'Clean_text'] ] ]\n",
    "\n",
    "# Preview of data   \n",
    "display(df_all.head(3))"
   ]
  },
  {
   "cell_type": "markdown",
   "metadata": {
    "id": "QtqfwECTn3GH"
   },
   "source": [
    "# 4 - Exploratory Data Analysis"
   ]
  },
  {
   "cell_type": "markdown",
   "metadata": {
    "id": "KgwRNIDUZNpN"
   },
   "source": [
    "Our data is clean ! We can now try to perform a deeper analysis. But before that, let's go back and split the data into train, validation and test splits."
   ]
  },
  {
   "cell_type": "code",
   "execution_count": 20,
   "metadata": {
    "id": "fOu1Z3vCiWuD"
   },
   "outputs": [],
   "source": [
    "# Building a function that will divide in train, validation and test sets\n",
    "def get_train_val_test(df):\n",
    "    train = df.iloc[:size_train, :]\n",
    "    val = df.iloc[size_train:size_train+size_val, :]\n",
    "    test = df.iloc[size_train+size_val:size_train+size_val+size_test, :]\n",
    "    return train, val, test"
   ]
  },
  {
   "cell_type": "code",
   "execution_count": 21,
   "metadata": {
    "colab": {
     "base_uri": "https://localhost:8080/"
    },
    "executionInfo": {
     "elapsed": 42355,
     "status": "ok",
     "timestamp": 1617209514361,
     "user": {
      "displayName": "Ibrahim Benjelloun",
      "photoUrl": "",
      "userId": "05131578507394582340"
     },
     "user_tz": -120
    },
    "id": "T5zpbQ7VmCl7",
    "outputId": "3e50acad-45b8-41e0-c0ea-108643364386"
   },
   "outputs": [
    {
     "name": "stdout",
     "output_type": "stream",
     "text": [
      "(43410, 29)\n",
      "(5426, 29)\n",
      "(5427, 29)\n"
     ]
    }
   ],
   "source": [
    "# Dividing back in train, validation and test datasets (GoEmotions)\n",
    "train_GE, val_GE, test_GE = get_train_val_test(df_all)\n",
    "print(train_GE.shape)\n",
    "print(val_GE.shape)\n",
    "print(test_GE.shape)"
   ]
  },
  {
   "cell_type": "markdown",
   "metadata": {
    "id": "7iAWBFRQqUea"
   },
   "source": [
    "## 4.1 - Labels analysis"
   ]
  },
  {
   "cell_type": "markdown",
   "metadata": {
    "id": "MkV8s-p4sor7"
   },
   "source": [
    "### 4.1.1 - Number of emotions per sample in the dataset"
   ]
  },
  {
   "cell_type": "markdown",
   "metadata": {
    "id": "pMAg-LYkaRdP"
   },
   "source": [
    "As we said earlier, a sample can be annotated using multiple emotions. An interesting thing to do is to see what is the range in terms of number of emotions in our data, and see how many samples we have in each case."
   ]
  },
  {
   "cell_type": "code",
   "execution_count": 22,
   "metadata": {
    "colab": {
     "base_uri": "https://localhost:8080/",
     "height": 315
    },
    "executionInfo": {
     "elapsed": 42345,
     "status": "ok",
     "timestamp": 1617209514362,
     "user": {
      "displayName": "Ibrahim Benjelloun",
      "photoUrl": "",
      "userId": "05131578507394582340"
     },
     "user_tz": -120
    },
    "id": "B1gJY_PSnx9O",
    "outputId": "62e1f142-99e8-4eb9-cb4f-1f2d45bb5046"
   },
   "outputs": [
    {
     "data": {
      "text/html": [
       "<div>\n",
       "<style scoped>\n",
       "    .dataframe tbody tr th:only-of-type {\n",
       "        vertical-align: middle;\n",
       "    }\n",
       "\n",
       "    .dataframe tbody tr th {\n",
       "        vertical-align: top;\n",
       "    }\n",
       "\n",
       "    .dataframe thead th {\n",
       "        text-align: right;\n",
       "    }\n",
       "</style>\n",
       "<table border=\"1\" class=\"dataframe\">\n",
       "  <thead>\n",
       "    <tr style=\"text-align: right;\">\n",
       "      <th></th>\n",
       "      <th>Clean_text</th>\n",
       "      <th>admiration</th>\n",
       "      <th>amusement</th>\n",
       "      <th>anger</th>\n",
       "      <th>annoyance</th>\n",
       "      <th>approval</th>\n",
       "      <th>caring</th>\n",
       "      <th>confusion</th>\n",
       "      <th>curiosity</th>\n",
       "      <th>desire</th>\n",
       "      <th>...</th>\n",
       "      <th>love</th>\n",
       "      <th>nervousness</th>\n",
       "      <th>optimism</th>\n",
       "      <th>pride</th>\n",
       "      <th>realization</th>\n",
       "      <th>relief</th>\n",
       "      <th>remorse</th>\n",
       "      <th>sadness</th>\n",
       "      <th>surprise</th>\n",
       "      <th>neutral</th>\n",
       "    </tr>\n",
       "  </thead>\n",
       "  <tbody>\n",
       "    <tr>\n",
       "      <th>0</th>\n",
       "      <td>my favourite food is anything i did not have t...</td>\n",
       "      <td>0</td>\n",
       "      <td>0</td>\n",
       "      <td>0</td>\n",
       "      <td>0</td>\n",
       "      <td>0</td>\n",
       "      <td>0</td>\n",
       "      <td>0</td>\n",
       "      <td>0</td>\n",
       "      <td>0</td>\n",
       "      <td>...</td>\n",
       "      <td>0</td>\n",
       "      <td>0</td>\n",
       "      <td>0</td>\n",
       "      <td>0</td>\n",
       "      <td>0</td>\n",
       "      <td>0</td>\n",
       "      <td>0</td>\n",
       "      <td>0</td>\n",
       "      <td>0</td>\n",
       "      <td>1</td>\n",
       "    </tr>\n",
       "    <tr>\n",
       "      <th>1</th>\n",
       "      <td>now if he does off himself everyone will think...</td>\n",
       "      <td>0</td>\n",
       "      <td>0</td>\n",
       "      <td>0</td>\n",
       "      <td>0</td>\n",
       "      <td>0</td>\n",
       "      <td>0</td>\n",
       "      <td>0</td>\n",
       "      <td>0</td>\n",
       "      <td>0</td>\n",
       "      <td>...</td>\n",
       "      <td>0</td>\n",
       "      <td>0</td>\n",
       "      <td>0</td>\n",
       "      <td>0</td>\n",
       "      <td>0</td>\n",
       "      <td>0</td>\n",
       "      <td>0</td>\n",
       "      <td>0</td>\n",
       "      <td>0</td>\n",
       "      <td>1</td>\n",
       "    </tr>\n",
       "    <tr>\n",
       "      <th>2</th>\n",
       "      <td>why the fuck is bayless isoing</td>\n",
       "      <td>0</td>\n",
       "      <td>0</td>\n",
       "      <td>1</td>\n",
       "      <td>0</td>\n",
       "      <td>0</td>\n",
       "      <td>0</td>\n",
       "      <td>0</td>\n",
       "      <td>0</td>\n",
       "      <td>0</td>\n",
       "      <td>...</td>\n",
       "      <td>0</td>\n",
       "      <td>0</td>\n",
       "      <td>0</td>\n",
       "      <td>0</td>\n",
       "      <td>0</td>\n",
       "      <td>0</td>\n",
       "      <td>0</td>\n",
       "      <td>0</td>\n",
       "      <td>0</td>\n",
       "      <td>0</td>\n",
       "    </tr>\n",
       "  </tbody>\n",
       "</table>\n",
       "<p>3 rows × 29 columns</p>\n",
       "</div>"
      ],
      "text/plain": [
       "                                          Clean_text  admiration  amusement  \\\n",
       "0  my favourite food is anything i did not have t...           0          0   \n",
       "1  now if he does off himself everyone will think...           0          0   \n",
       "2                     why the fuck is bayless isoing           0          0   \n",
       "\n",
       "   anger  annoyance  approval  caring  confusion  curiosity  desire  ...  \\\n",
       "0      0          0         0       0          0          0       0  ...   \n",
       "1      0          0         0       0          0          0       0  ...   \n",
       "2      1          0         0       0          0          0       0  ...   \n",
       "\n",
       "   love  nervousness  optimism  pride  realization  relief  remorse  sadness  \\\n",
       "0     0            0         0      0            0       0        0        0   \n",
       "1     0            0         0      0            0       0        0        0   \n",
       "2     0            0         0      0            0       0        0        0   \n",
       "\n",
       "   surprise  neutral  \n",
       "0         0        1  \n",
       "1         0        1  \n",
       "2         0        0  \n",
       "\n",
       "[3 rows x 29 columns]"
      ]
     },
     "metadata": {},
     "output_type": "display_data"
    }
   ],
   "source": [
    "# Preview of data   \n",
    "display(train_GE.head(3))"
   ]
  },
  {
   "cell_type": "markdown",
   "metadata": {
    "id": "ZzJzpLE9bADY"
   },
   "source": [
    "Let's first compute the number of emotions in each sample (cardinality)."
   ]
  },
  {
   "cell_type": "code",
   "execution_count": 23,
   "metadata": {
    "colab": {
     "base_uri": "https://localhost:8080/",
     "height": 417
    },
    "executionInfo": {
     "elapsed": 42979,
     "status": "ok",
     "timestamp": 1617209515008,
     "user": {
      "displayName": "Ibrahim Benjelloun",
      "photoUrl": "",
      "userId": "05131578507394582340"
     },
     "user_tz": -120
    },
    "id": "qlUrhQiyfbUW",
    "outputId": "a69c93ce-f4cc-4bd4-cfe2-2eff8def4bac"
   },
   "outputs": [
    {
     "name": "stderr",
     "output_type": "stream",
     "text": [
      "/var/folders/cv/mtf0qnws2jvbfff1vk2xrhpr0000gn/T/ipykernel_4909/2627531531.py:2: SettingWithCopyWarning: \n",
      "A value is trying to be set on a copy of a slice from a DataFrame.\n",
      "Try using .loc[row_indexer,col_indexer] = value instead\n",
      "\n",
      "See the caveats in the documentation: https://pandas.pydata.org/pandas-docs/stable/user_guide/indexing.html#returning-a-view-versus-a-copy\n",
      "  train_GE['Cardinality'] = train_GE.loc[:,GE_taxonomy].apply(lambda x: sum(x), axis=1)\n"
     ]
    },
    {
     "data": {
      "text/html": [
       "<div>\n",
       "<style scoped>\n",
       "    .dataframe tbody tr th:only-of-type {\n",
       "        vertical-align: middle;\n",
       "    }\n",
       "\n",
       "    .dataframe tbody tr th {\n",
       "        vertical-align: top;\n",
       "    }\n",
       "\n",
       "    .dataframe thead th {\n",
       "        text-align: right;\n",
       "    }\n",
       "</style>\n",
       "<table border=\"1\" class=\"dataframe\">\n",
       "  <thead>\n",
       "    <tr style=\"text-align: right;\">\n",
       "      <th></th>\n",
       "      <th>Clean_text</th>\n",
       "      <th>admiration</th>\n",
       "      <th>amusement</th>\n",
       "      <th>anger</th>\n",
       "      <th>annoyance</th>\n",
       "      <th>approval</th>\n",
       "      <th>caring</th>\n",
       "      <th>confusion</th>\n",
       "      <th>curiosity</th>\n",
       "      <th>desire</th>\n",
       "      <th>...</th>\n",
       "      <th>nervousness</th>\n",
       "      <th>optimism</th>\n",
       "      <th>pride</th>\n",
       "      <th>realization</th>\n",
       "      <th>relief</th>\n",
       "      <th>remorse</th>\n",
       "      <th>sadness</th>\n",
       "      <th>surprise</th>\n",
       "      <th>neutral</th>\n",
       "      <th>Cardinality</th>\n",
       "    </tr>\n",
       "  </thead>\n",
       "  <tbody>\n",
       "    <tr>\n",
       "      <th>0</th>\n",
       "      <td>my favourite food is anything i did not have t...</td>\n",
       "      <td>0</td>\n",
       "      <td>0</td>\n",
       "      <td>0</td>\n",
       "      <td>0</td>\n",
       "      <td>0</td>\n",
       "      <td>0</td>\n",
       "      <td>0</td>\n",
       "      <td>0</td>\n",
       "      <td>0</td>\n",
       "      <td>...</td>\n",
       "      <td>0</td>\n",
       "      <td>0</td>\n",
       "      <td>0</td>\n",
       "      <td>0</td>\n",
       "      <td>0</td>\n",
       "      <td>0</td>\n",
       "      <td>0</td>\n",
       "      <td>0</td>\n",
       "      <td>1</td>\n",
       "      <td>1</td>\n",
       "    </tr>\n",
       "    <tr>\n",
       "      <th>1</th>\n",
       "      <td>now if he does off himself everyone will think...</td>\n",
       "      <td>0</td>\n",
       "      <td>0</td>\n",
       "      <td>0</td>\n",
       "      <td>0</td>\n",
       "      <td>0</td>\n",
       "      <td>0</td>\n",
       "      <td>0</td>\n",
       "      <td>0</td>\n",
       "      <td>0</td>\n",
       "      <td>...</td>\n",
       "      <td>0</td>\n",
       "      <td>0</td>\n",
       "      <td>0</td>\n",
       "      <td>0</td>\n",
       "      <td>0</td>\n",
       "      <td>0</td>\n",
       "      <td>0</td>\n",
       "      <td>0</td>\n",
       "      <td>1</td>\n",
       "      <td>1</td>\n",
       "    </tr>\n",
       "    <tr>\n",
       "      <th>2</th>\n",
       "      <td>why the fuck is bayless isoing</td>\n",
       "      <td>0</td>\n",
       "      <td>0</td>\n",
       "      <td>1</td>\n",
       "      <td>0</td>\n",
       "      <td>0</td>\n",
       "      <td>0</td>\n",
       "      <td>0</td>\n",
       "      <td>0</td>\n",
       "      <td>0</td>\n",
       "      <td>...</td>\n",
       "      <td>0</td>\n",
       "      <td>0</td>\n",
       "      <td>0</td>\n",
       "      <td>0</td>\n",
       "      <td>0</td>\n",
       "      <td>0</td>\n",
       "      <td>0</td>\n",
       "      <td>0</td>\n",
       "      <td>0</td>\n",
       "      <td>1</td>\n",
       "    </tr>\n",
       "  </tbody>\n",
       "</table>\n",
       "<p>3 rows × 30 columns</p>\n",
       "</div>"
      ],
      "text/plain": [
       "                                          Clean_text  admiration  amusement  \\\n",
       "0  my favourite food is anything i did not have t...           0          0   \n",
       "1  now if he does off himself everyone will think...           0          0   \n",
       "2                     why the fuck is bayless isoing           0          0   \n",
       "\n",
       "   anger  annoyance  approval  caring  confusion  curiosity  desire  ...  \\\n",
       "0      0          0         0       0          0          0       0  ...   \n",
       "1      0          0         0       0          0          0       0  ...   \n",
       "2      1          0         0       0          0          0       0  ...   \n",
       "\n",
       "   nervousness  optimism  pride  realization  relief  remorse  sadness  \\\n",
       "0            0         0      0            0       0        0        0   \n",
       "1            0         0      0            0       0        0        0   \n",
       "2            0         0      0            0       0        0        0   \n",
       "\n",
       "   surprise  neutral  Cardinality  \n",
       "0         0        1            1  \n",
       "1         0        1            1  \n",
       "2         0        0            1  \n",
       "\n",
       "[3 rows x 30 columns]"
      ]
     },
     "metadata": {},
     "output_type": "display_data"
    }
   ],
   "source": [
    "# Finding labels with multiple emotions\n",
    "train_GE['Cardinality'] = train_GE.loc[:,GE_taxonomy].apply(lambda x: sum(x), axis=1)\n",
    "\n",
    "# Preview of data\n",
    "display(train_GE.head(3))"
   ]
  },
  {
   "cell_type": "code",
   "execution_count": 24,
   "metadata": {
    "colab": {
     "base_uri": "https://localhost:8080/"
    },
    "executionInfo": {
     "elapsed": 42970,
     "status": "ok",
     "timestamp": 1617209515009,
     "user": {
      "displayName": "Ibrahim Benjelloun",
      "photoUrl": "",
      "userId": "05131578507394582340"
     },
     "user_tz": -120
    },
    "id": "8IXdohWZbO_B",
    "outputId": "45d2c885-015d-4e36-b08c-dc6bff716a81"
   },
   "outputs": [
    {
     "data": {
      "text/plain": [
       "1    36308\n",
       "2     6541\n",
       "3      532\n",
       "4       28\n",
       "5        1\n",
       "Name: Cardinality, dtype: int64"
      ]
     },
     "execution_count": 24,
     "metadata": {},
     "output_type": "execute_result"
    }
   ],
   "source": [
    "# Possible number of emotions per sample in our dataset\n",
    "train_GE['Cardinality'].value_counts()"
   ]
  },
  {
   "cell_type": "markdown",
   "metadata": {
    "id": "AQLTx1g5be6_"
   },
   "source": [
    "We can see that the cardinality varies from 1 to 5 emotions per sample, with a large majority of samples that have only 1 or 2 emotions."
   ]
  },
  {
   "cell_type": "markdown",
   "metadata": {
    "id": "VfqdATdlbqqB"
   },
   "source": [
    "Let's see how it looks using a graph."
   ]
  },
  {
   "cell_type": "code",
   "execution_count": 25,
   "metadata": {
    "colab": {
     "base_uri": "https://localhost:8080/",
     "height": 621
    },
    "executionInfo": {
     "elapsed": 43418,
     "status": "ok",
     "timestamp": 1617209515470,
     "user": {
      "displayName": "Ibrahim Benjelloun",
      "photoUrl": "",
      "userId": "05131578507394582340"
     },
     "user_tz": -120
    },
    "id": "QYwZKQZOZMkw",
    "outputId": "cd8b14b5-df08-4f59-a82f-294c609a7599"
   },
   "outputs": [
    {
     "data": {
      "image/png": "[encoded data removed]",
      "text/plain": [
       "<Figure size 1080x720 with 1 Axes>"
      ]
     },
     "metadata": {},
     "output_type": "display_data"
    }
   ],
   "source": [
    "# Cardinality of GoEmotions and Ekman labels across the dataset\n",
    "plt.figure(figsize=(15,10))\n",
    "\n",
    "ax = sns.countplot(x='Cardinality', data=train_GE)\n",
    "\n",
    "for p in ax.patches:\n",
    "  value = p.get_height()\n",
    "  x = p.get_x() + p.get_width() - 0.5\n",
    "  y = p.get_y() + p.get_height() + 1000\n",
    "  ax.annotate(value, (x, y))\n",
    "\n",
    "\n",
    "plt.title(\"Number of emotions per sample\", fontweight='bold')\n",
    "plt.ylabel(\"Number of samples in the dataset\", fontweight='bold')\n",
    "plt.xlabel(\"Number of emotions in a sample\", fontweight='bold')\n",
    "plt.show()"
   ]
  },
  {
   "cell_type": "markdown",
   "metadata": {
    "id": "5nZvCeCRsrRU"
   },
   "source": [
    "### 4.1.2 - Number of samples per emotion in the dataset"
   ]
  },
  {
   "cell_type": "markdown",
   "metadata": {
    "id": "Ja3VW2xUcIz8"
   },
   "source": [
    "Another interesting thing to do is to see how many samples we have for each emotion. This will also give us an idea of the classes balancing in our train dataset."
   ]
  },
  {
   "cell_type": "code",
   "execution_count": 26,
   "metadata": {
    "id": "NaqVU0PXofp4"
   },
   "outputs": [],
   "source": [
    "# Computing number of samples per emotion\n",
    "classes_GE_count = train_GE.loc[:,GE_taxonomy].sum(axis=0).sort_values(ascending=False)"
   ]
  },
  {
   "cell_type": "code",
   "execution_count": 27,
   "metadata": {
    "colab": {
     "base_uri": "https://localhost:8080/",
     "height": 621
    },
    "executionInfo": {
     "elapsed": 44285,
     "status": "ok",
     "timestamp": 1617209516354,
     "user": {
      "displayName": "Ibrahim Benjelloun",
      "photoUrl": "",
      "userId": "05131578507394582340"
     },
     "user_tz": -120
    },
    "id": "75_WILw2omlt",
    "outputId": "12f750c4-6f73-489e-c0bb-2ae7cfc42ca4"
   },
   "outputs": [
    {
     "data": {
      "image/png": "[encoded data removed]",
      "text/plain": [
       "<Figure size 1080x720 with 1 Axes>"
      ]
     },
     "metadata": {},
     "output_type": "display_data"
    }
   ],
   "source": [
    "# Visualizing the number of samples per classes\n",
    "plt.figure(figsize=(15,10))\n",
    "ax = sns.barplot(x=classes_GE_count.values, y=classes_GE_count.index, orient='h', palette=\"Blues_d\")\n",
    "\n",
    "for p in ax.patches:\n",
    "  value = int(p.get_width())\n",
    "  x = p.get_x() + p.get_width() + 30\n",
    "  y = p.get_y() + p.get_height()/2\n",
    "  ax.annotate(value, (x, y))\n",
    "\n",
    "plt.title(\"GoEmotions : Number of samples per emotion (including multi-label)\", fontweight='bold')\n",
    "plt.ylabel(\"Emotions\", fontweight='bold')\n",
    "plt.xlabel(\"Number of samples\", fontweight='bold')\n",
    "plt.show()"
   ]
  },
  {
   "cell_type": "markdown",
   "metadata": {
    "id": "P_ZGn_o5dPUa"
   },
   "source": [
    "As we can see, we have an important skew in our train data as almost 30% of samples are flagged as 'Neutral' and only 77 samples have the 'grief' label."
   ]
  },
  {
   "cell_type": "markdown",
   "metadata": {
    "id": "BG7Mdgb-gxGU"
   },
   "source": [
    "### 4.1.3 - Classe balance accross train, validation and test datasets"
   ]
  },
  {
   "cell_type": "markdown",
   "metadata": {
    "id": "dxj_L-pEeISW"
   },
   "source": [
    "We saw that our train dataset is unbalanced in terms of detected emotions. This is a common issue that is encountered in classification problems and can be delt with later on. However, **we have to make sure that the proportions of each emotion in the validation and test datasets are identical to the ones in the train dataset**. "
   ]
  },
  {
   "cell_type": "markdown",
   "metadata": {
    "id": "bYDmMhhSfMjr"
   },
   "source": [
    "First, let's compute these proportions for each dataset."
   ]
  },
  {
   "cell_type": "code",
   "execution_count": 28,
   "metadata": {
    "colab": {
     "base_uri": "https://localhost:8080/",
     "height": 204
    },
    "executionInfo": {
     "elapsed": 44275,
     "status": "ok",
     "timestamp": 1617209516355,
     "user": {
      "displayName": "Ibrahim Benjelloun",
      "photoUrl": "",
      "userId": "05131578507394582340"
     },
     "user_tz": -120
    },
    "id": "WGpWOaGtgm7_",
    "outputId": "b765450a-2137-41b2-a573-a66282cbfc51"
   },
   "outputs": [
    {
     "data": {
      "text/html": [
       "<div>\n",
       "<style scoped>\n",
       "    .dataframe tbody tr th:only-of-type {\n",
       "        vertical-align: middle;\n",
       "    }\n",
       "\n",
       "    .dataframe tbody tr th {\n",
       "        vertical-align: top;\n",
       "    }\n",
       "\n",
       "    .dataframe thead th {\n",
       "        text-align: right;\n",
       "    }\n",
       "</style>\n",
       "<table border=\"1\" class=\"dataframe\">\n",
       "  <thead>\n",
       "    <tr style=\"text-align: right;\">\n",
       "      <th></th>\n",
       "      <th>Emotion</th>\n",
       "      <th>Dataset</th>\n",
       "      <th>Percentage</th>\n",
       "    </tr>\n",
       "  </thead>\n",
       "  <tbody>\n",
       "    <tr>\n",
       "      <th>0</th>\n",
       "      <td>neutral</td>\n",
       "      <td>Train</td>\n",
       "      <td>32.755126</td>\n",
       "    </tr>\n",
       "    <tr>\n",
       "      <th>1</th>\n",
       "      <td>admiration</td>\n",
       "      <td>Train</td>\n",
       "      <td>9.513937</td>\n",
       "    </tr>\n",
       "    <tr>\n",
       "      <th>2</th>\n",
       "      <td>approval</td>\n",
       "      <td>Train</td>\n",
       "      <td>6.770329</td>\n",
       "    </tr>\n",
       "    <tr>\n",
       "      <th>3</th>\n",
       "      <td>gratitude</td>\n",
       "      <td>Train</td>\n",
       "      <td>6.132228</td>\n",
       "    </tr>\n",
       "    <tr>\n",
       "      <th>4</th>\n",
       "      <td>annoyance</td>\n",
       "      <td>Train</td>\n",
       "      <td>5.689933</td>\n",
       "    </tr>\n",
       "  </tbody>\n",
       "</table>\n",
       "</div>"
      ],
      "text/plain": [
       "      Emotion Dataset  Percentage\n",
       "0     neutral   Train   32.755126\n",
       "1  admiration   Train    9.513937\n",
       "2    approval   Train    6.770329\n",
       "3   gratitude   Train    6.132228\n",
       "4   annoyance   Train    5.689933"
      ]
     },
     "metadata": {},
     "output_type": "display_data"
    }
   ],
   "source": [
    "# Defining classes representation for each dataset (GoEmotions)\n",
    "train_count_GE = (train_GE.loc[:, GE_taxonomy].sum(axis=0) / size_train)*100\n",
    "val_count_GE = (val_GE.loc[:, GE_taxonomy].sum(axis=0) / size_val)*100\n",
    "test_count_GE = (test_GE.loc[:, GE_taxonomy].sum(axis=0) / size_test)*100\n",
    "\n",
    "# Constructing a unique dataset for visualization purposes\n",
    "balance_GE = pd.DataFrame(data=[train_count_GE, val_count_GE, test_count_GE]).T.reset_index(drop=False)\n",
    "balance_GE.columns = ['Emotion', 'Train', 'Validation', 'Test']\n",
    "balance_GE = balance_GE.sort_values('Train', ascending=False)\n",
    "balance_GE = balance_GE.melt(id_vars='Emotion', var_name='Dataset', value_vars=['Train','Validation', 'Test'], value_name='Percentage')\n",
    "\n",
    "# Preview of data\n",
    "display(balance_GE.head())"
   ]
  },
  {
   "cell_type": "markdown",
   "metadata": {
    "id": "ARNPffLPfUCC"
   },
   "source": [
    "We can now visualize the data to compare the proportions."
   ]
  },
  {
   "cell_type": "code",
   "execution_count": 29,
   "metadata": {
    "colab": {
     "base_uri": "https://localhost:8080/",
     "height": 893
    },
    "executionInfo": {
     "elapsed": 45265,
     "status": "ok",
     "timestamp": 1617209517356,
     "user": {
      "displayName": "Ibrahim Benjelloun",
      "photoUrl": "",
      "userId": "05131578507394582340"
     },
     "user_tz": -120
    },
    "id": "Ra8W81U6gvhn",
    "outputId": "07d6cb75-5eb0-45ff-a4cf-d3538fb3f7a4"
   },
   "outputs": [
    {
     "data": {
      "image/png": "[encoded data removed]",
      "text/plain": [
       "<Figure size 1440x1080 with 1 Axes>"
      ]
     },
     "metadata": {},
     "output_type": "display_data"
    }
   ],
   "source": [
    "# Classe Balance visualization on GoEmotions\n",
    "plt.figure(figsize=(20,15))\n",
    "sns.barplot(x='Percentage', y='Emotion', data=balance_GE, orient='h', hue='Dataset', palette=\"Blues_d\")\n",
    "plt.title(\"GoEmotions : Percentage of samples per emotion in the train, validation and test datasets\", fontweight='bold')\n",
    "plt.ylabel(\"Emotions\", fontweight='bold')\n",
    "plt.xlabel(\"Percentage of all samples\", fontweight='bold')\n",
    "plt.show()"
   ]
  },
  {
   "cell_type": "markdown",
   "metadata": {
    "id": "wVE4Hwxcfi1M"
   },
   "source": [
    "As we can see, **we maintain the same proportions of emotions** between the train, valisation and test datasets. This is important in order to not include an additional bias when evaluating our predictive models."
   ]
  },
  {
   "cell_type": "markdown",
   "metadata": {
    "id": "svyUdOHltNDH"
   },
   "source": [
    "## 4.2 - Words analysis"
   ]
  },
  {
   "cell_type": "markdown",
   "metadata": {
    "id": "427MW-GtWqj8"
   },
   "source": [
    "### 4.2.1 - Mean length of samples per emotion"
   ]
  },
  {
   "cell_type": "markdown",
   "metadata": {
    "id": "RwRZ6a1BgEx9"
   },
   "source": [
    "Let's see if there is any correlation between the length of a sample and the detected emotions."
   ]
  },
  {
   "cell_type": "markdown",
   "metadata": {
    "id": "TWFfLehehhF1"
   },
   "source": [
    "First, we need to compute the number of words for each sample."
   ]
  },
  {
   "cell_type": "code",
   "execution_count": 30,
   "metadata": {
    "colab": {
     "base_uri": "https://localhost:8080/",
     "height": 417
    },
    "executionInfo": {
     "elapsed": 45256,
     "status": "ok",
     "timestamp": 1617209517357,
     "user": {
      "displayName": "Ibrahim Benjelloun",
      "photoUrl": "",
      "userId": "05131578507394582340"
     },
     "user_tz": -120
    },
    "id": "z6n-P8TKpLNx",
    "outputId": "156e24aa-9725-4767-bf1e-0122b4514424"
   },
   "outputs": [
    {
     "name": "stderr",
     "output_type": "stream",
     "text": [
      "/var/folders/cv/mtf0qnws2jvbfff1vk2xrhpr0000gn/T/ipykernel_4909/2535780199.py:2: SettingWithCopyWarning: \n",
      "A value is trying to be set on a copy of a slice from a DataFrame.\n",
      "Try using .loc[row_indexer,col_indexer] = value instead\n",
      "\n",
      "See the caveats in the documentation: https://pandas.pydata.org/pandas-docs/stable/user_guide/indexing.html#returning-a-view-versus-a-copy\n",
      "  train_GE['Nb_words'] = train_GE['Clean_text'].apply(lambda x: len(x.split()))\n"
     ]
    },
    {
     "data": {
      "text/html": [
       "<div>\n",
       "<style scoped>\n",
       "    .dataframe tbody tr th:only-of-type {\n",
       "        vertical-align: middle;\n",
       "    }\n",
       "\n",
       "    .dataframe tbody tr th {\n",
       "        vertical-align: top;\n",
       "    }\n",
       "\n",
       "    .dataframe thead th {\n",
       "        text-align: right;\n",
       "    }\n",
       "</style>\n",
       "<table border=\"1\" class=\"dataframe\">\n",
       "  <thead>\n",
       "    <tr style=\"text-align: right;\">\n",
       "      <th></th>\n",
       "      <th>Clean_text</th>\n",
       "      <th>admiration</th>\n",
       "      <th>amusement</th>\n",
       "      <th>anger</th>\n",
       "      <th>annoyance</th>\n",
       "      <th>approval</th>\n",
       "      <th>caring</th>\n",
       "      <th>confusion</th>\n",
       "      <th>curiosity</th>\n",
       "      <th>desire</th>\n",
       "      <th>...</th>\n",
       "      <th>optimism</th>\n",
       "      <th>pride</th>\n",
       "      <th>realization</th>\n",
       "      <th>relief</th>\n",
       "      <th>remorse</th>\n",
       "      <th>sadness</th>\n",
       "      <th>surprise</th>\n",
       "      <th>neutral</th>\n",
       "      <th>Cardinality</th>\n",
       "      <th>Nb_words</th>\n",
       "    </tr>\n",
       "  </thead>\n",
       "  <tbody>\n",
       "    <tr>\n",
       "      <th>0</th>\n",
       "      <td>my favourite food is anything i did not have t...</td>\n",
       "      <td>0</td>\n",
       "      <td>0</td>\n",
       "      <td>0</td>\n",
       "      <td>0</td>\n",
       "      <td>0</td>\n",
       "      <td>0</td>\n",
       "      <td>0</td>\n",
       "      <td>0</td>\n",
       "      <td>0</td>\n",
       "      <td>...</td>\n",
       "      <td>0</td>\n",
       "      <td>0</td>\n",
       "      <td>0</td>\n",
       "      <td>0</td>\n",
       "      <td>0</td>\n",
       "      <td>0</td>\n",
       "      <td>0</td>\n",
       "      <td>1</td>\n",
       "      <td>1</td>\n",
       "      <td>12</td>\n",
       "    </tr>\n",
       "    <tr>\n",
       "      <th>1</th>\n",
       "      <td>now if he does off himself everyone will think...</td>\n",
       "      <td>0</td>\n",
       "      <td>0</td>\n",
       "      <td>0</td>\n",
       "      <td>0</td>\n",
       "      <td>0</td>\n",
       "      <td>0</td>\n",
       "      <td>0</td>\n",
       "      <td>0</td>\n",
       "      <td>0</td>\n",
       "      <td>...</td>\n",
       "      <td>0</td>\n",
       "      <td>0</td>\n",
       "      <td>0</td>\n",
       "      <td>0</td>\n",
       "      <td>0</td>\n",
       "      <td>0</td>\n",
       "      <td>0</td>\n",
       "      <td>1</td>\n",
       "      <td>1</td>\n",
       "      <td>20</td>\n",
       "    </tr>\n",
       "    <tr>\n",
       "      <th>2</th>\n",
       "      <td>why the fuck is bayless isoing</td>\n",
       "      <td>0</td>\n",
       "      <td>0</td>\n",
       "      <td>1</td>\n",
       "      <td>0</td>\n",
       "      <td>0</td>\n",
       "      <td>0</td>\n",
       "      <td>0</td>\n",
       "      <td>0</td>\n",
       "      <td>0</td>\n",
       "      <td>...</td>\n",
       "      <td>0</td>\n",
       "      <td>0</td>\n",
       "      <td>0</td>\n",
       "      <td>0</td>\n",
       "      <td>0</td>\n",
       "      <td>0</td>\n",
       "      <td>0</td>\n",
       "      <td>0</td>\n",
       "      <td>1</td>\n",
       "      <td>6</td>\n",
       "    </tr>\n",
       "  </tbody>\n",
       "</table>\n",
       "<p>3 rows × 31 columns</p>\n",
       "</div>"
      ],
      "text/plain": [
       "                                          Clean_text  admiration  amusement  \\\n",
       "0  my favourite food is anything i did not have t...           0          0   \n",
       "1  now if he does off himself everyone will think...           0          0   \n",
       "2                     why the fuck is bayless isoing           0          0   \n",
       "\n",
       "   anger  annoyance  approval  caring  confusion  curiosity  desire  ...  \\\n",
       "0      0          0         0       0          0          0       0  ...   \n",
       "1      0          0         0       0          0          0       0  ...   \n",
       "2      1          0         0       0          0          0       0  ...   \n",
       "\n",
       "   optimism  pride  realization  relief  remorse  sadness  surprise  neutral  \\\n",
       "0         0      0            0       0        0        0         0        1   \n",
       "1         0      0            0       0        0        0         0        1   \n",
       "2         0      0            0       0        0        0         0        0   \n",
       "\n",
       "   Cardinality  Nb_words  \n",
       "0            1        12  \n",
       "1            1        20  \n",
       "2            1         6  \n",
       "\n",
       "[3 rows x 31 columns]"
      ]
     },
     "metadata": {},
     "output_type": "display_data"
    }
   ],
   "source": [
    "# Computing the number of words per sample\n",
    "train_GE['Nb_words'] = train_GE['Clean_text'].apply(lambda x: len(x.split()))\n",
    "\n",
    "# Preview of data\n",
    "display(train_GE.head(3))"
   ]
  },
  {
   "cell_type": "markdown",
   "metadata": {
    "id": "In3T-WLahrsI"
   },
   "source": [
    "Now, we can create a dataframe that computes for each emotion the mean length of the samples and visualize the results."
   ]
  },
  {
   "cell_type": "code",
   "execution_count": 31,
   "metadata": {
    "colab": {
     "base_uri": "https://localhost:8080/",
     "height": 204
    },
    "executionInfo": {
     "elapsed": 45246,
     "status": "ok",
     "timestamp": 1617209517358,
     "user": {
      "displayName": "Ibrahim Benjelloun",
      "photoUrl": "",
      "userId": "05131578507394582340"
     },
     "user_tz": -120
    },
    "id": "7xg9H5hOpNaK",
    "outputId": "58196a60-cc00-4553-f0c3-553b4878b147"
   },
   "outputs": [
    {
     "data": {
      "text/html": [
       "<div>\n",
       "<style scoped>\n",
       "    .dataframe tbody tr th:only-of-type {\n",
       "        vertical-align: middle;\n",
       "    }\n",
       "\n",
       "    .dataframe tbody tr th {\n",
       "        vertical-align: top;\n",
       "    }\n",
       "\n",
       "    .dataframe thead th {\n",
       "        text-align: right;\n",
       "    }\n",
       "</style>\n",
       "<table border=\"1\" class=\"dataframe\">\n",
       "  <thead>\n",
       "    <tr style=\"text-align: right;\">\n",
       "      <th></th>\n",
       "      <th>Mean_length</th>\n",
       "    </tr>\n",
       "  </thead>\n",
       "  <tbody>\n",
       "    <tr>\n",
       "      <th>optimism</th>\n",
       "      <td>16.37</td>\n",
       "    </tr>\n",
       "    <tr>\n",
       "      <th>realization</th>\n",
       "      <td>15.93</td>\n",
       "    </tr>\n",
       "    <tr>\n",
       "      <th>confusion</th>\n",
       "      <td>15.77</td>\n",
       "    </tr>\n",
       "    <tr>\n",
       "      <th>desire</th>\n",
       "      <td>15.28</td>\n",
       "    </tr>\n",
       "    <tr>\n",
       "      <th>disappointment</th>\n",
       "      <td>15.15</td>\n",
       "    </tr>\n",
       "  </tbody>\n",
       "</table>\n",
       "</div>"
      ],
      "text/plain": [
       "                Mean_length\n",
       "optimism              16.37\n",
       "realization           15.93\n",
       "confusion             15.77\n",
       "desire                15.28\n",
       "disappointment        15.15"
      ]
     },
     "execution_count": 31,
     "metadata": {},
     "output_type": "execute_result"
    }
   ],
   "source": [
    "# Computing the mean number of words per emotion\n",
    "mean_nb_words = {}\n",
    "for emo in GE_taxonomy:\n",
    "  nb = train_GE['Nb_words'].loc[train_GE[emo]==1].mean()\n",
    "  mean_nb_words[emo] = round(nb,2)\n",
    "\n",
    "# Putting it in a Dataframe\n",
    "df_length_GE = pd.DataFrame.from_dict(mean_nb_words, orient='index')\n",
    "df_length_GE.columns = ['Mean_length']\n",
    "df_length_GE.sort_values('Mean_length', ascending=False, inplace=True)\n",
    "\n",
    "df_length_GE.head()"
   ]
  },
  {
   "cell_type": "code",
   "execution_count": 37,
   "metadata": {
    "colab": {
     "base_uri": "https://localhost:8080/",
     "height": 893
    },
    "executionInfo": {
     "elapsed": 46208,
     "status": "ok",
     "timestamp": 1617209518332,
     "user": {
      "displayName": "Ibrahim Benjelloun",
      "photoUrl": "",
      "userId": "05131578507394582340"
     },
     "user_tz": -120
    },
    "id": "SdSkqD68qzWd",
    "outputId": "1ba476d1-14c2-466e-ce3c-a38c6615a232"
   },
   "outputs": [
    {
     "data": {
      "image/png": "[encoded data removed]",
      "text/plain": [
       "<Figure size 1440x1080 with 1 Axes>"
      ]
     },
     "metadata": {},
     "output_type": "display_data"
    }
   ],
   "source": [
    "# Visualizing the mean length of samples per emotion\n",
    "plt.figure(figsize=(20,15))\n",
    "\n",
    "ax = sns.barplot(x=df_length_GE['Mean_length'], y=df_length_GE.index, orient='h', palette=\"Blues_d\")\n",
    "for p in ax.patches:\n",
    "  value = p.get_width()\n",
    "  x = p.get_x() + p.get_width() + 0.2\n",
    "  y = p.get_y() + p.get_height()/2\n",
    "  ax.annotate(value, (x, y))\n",
    "\n",
    "plt.title(\"GoEmotions : Mean length of samples per emotion\", fontweight='bold')\n",
    "plt.ylabel(\"Emotions (GoEmotions taxonomy)\", fontweight='bold')\n",
    "plt.xlabel(\"Mean samples length\", fontweight='bold')\n",
    "plt.show()"
   ]
  },
  {
   "cell_type": "markdown",
   "metadata": {
    "id": "ik8LcArZiAnb"
   },
   "source": [
    "Looking at the results, **we cannot concluded on any correlation between the length of a comment and the emotions detected**."
   ]
  },
  {
   "cell_type": "markdown",
   "metadata": {
    "id": "dPdRlA-mW00m"
   },
   "source": [
    "### 4.2.2 - Top words per emotion"
   ]
  },
  {
   "cell_type": "markdown",
   "metadata": {
    "id": "DB3FA-EviTd9"
   },
   "source": [
    "However, we can legimately try and visualize the words that occure the most for each emotion."
   ]
  },
  {
   "cell_type": "markdown",
   "metadata": {
    "id": "wA6hHnVGitd2"
   },
   "source": [
    "Let's first define a function that plots the top 1O words in a given *series* of comments."
   ]
  },
  {
   "cell_type": "code",
   "execution_count": 33,
   "metadata": {
    "id": "JpkijSgarQ24"
   },
   "outputs": [],
   "source": [
    "# Function to display 10 most frequent words in a list of comments\n",
    "def plot_top_words_barchart(comments, axes):\n",
    "\n",
    "    comments = comments.str.split() # split each comment into a list of words\n",
    "    comments = comments.values.tolist() # from pandas series to lists of words\n",
    "    corpus = [word for sample in comments for word in sample if word not in list(STOP_WORDS)+[\"?\",\"!\",\"name\"]] # giant corpus of words excluding special characters\n",
    "    counter = Counter(corpus) # create a counter\n",
    "    most = counter.most_common(10) # retrieve the 10 most frequent words\n",
    "\n",
    "    # Plot the 10 top words and their frequencies\n",
    "    most = [(word, count) for (word, count) in most]\n",
    "    x, y = [], []\n",
    "    for word, count in most[:10]:\n",
    "      x.append(word)\n",
    "      y.append(count)       \n",
    "    sns.barplot(x=y, y=x , ax=axes, palette=\"Set2\")"
   ]
  },
  {
   "cell_type": "code",
   "execution_count": 34,
   "metadata": {
    "colab": {
     "base_uri": "https://localhost:8080/",
     "height": 1000
    },
    "executionInfo": {
     "elapsed": 63725,
     "status": "ok",
     "timestamp": 1617209535867,
     "user": {
      "displayName": "Ibrahim Benjelloun",
      "photoUrl": "",
      "userId": "05131578507394582340"
     },
     "user_tz": -120
    },
    "id": "FY4dj4pVrUNw",
    "outputId": "30ec4b41-1fbd-4f5c-ec92-731f7e95e7fd"
   },
   "outputs": [
    {
     "data": {
      "image/png": "[encoded data removed]",
      "text/plain": [
       "<Figure size 1800x2160 with 28 Axes>"
      ]
     },
     "metadata": {},
     "output_type": "display_data"
    }
   ],
   "source": [
    "# Displaying 10 most frequent words for each emotion\n",
    "fig, axes = plt.subplots(7, 4, figsize=(25, 30))\n",
    "fig.suptitle('10 most frequent words for each emotion', fontweight=\"bold\", fontsize=20)\n",
    "\n",
    "for i, axi in enumerate(axes.flat):\n",
    "    plot_top_words_barchart(train_GE.loc[train_GE[GE_taxonomy[i]]==1,\"Clean_text\"], axi)\n",
    "    axi.set_title(GE_taxonomy[i], fontweight=\"bold\")\n",
    "\n",
    "plt.tight_layout()\n",
    "fig.subplots_adjust(top=0.95)\n",
    "plt.show()"
   ]
  },
  {
   "cell_type": "markdown",
   "metadata": {
    "id": "oiPXX4dTpUOO"
   },
   "source": [
    "There are no surprises in the results as we can see the that **the top words are mostly representative of the detected**."
   ]
  },
  {
   "cell_type": "markdown",
   "metadata": {
    "id": "hCXgqhqKzMfG"
   },
   "source": [
    "# 5 - Exporting Data"
   ]
  },
  {
   "cell_type": "markdown",
   "metadata": {
    "id": "6PdXeAMFpp-g"
   },
   "source": [
    "Let's save our data in preparation for the next step : Creating a baseline model for emotions detection."
   ]
  },
  {
   "cell_type": "code",
   "execution_count": 35,
   "metadata": {
    "id": "phWaC1fWzQg8"
   },
   "outputs": [],
   "source": [
    "# Droping unecessary columns\n",
    "train_GE = train_GE[ ['Clean_text'] + GE_taxonomy ]\n",
    "\n",
    "# Saving datasets for modeling\n",
    "train_GE.to_csv(\"/content/MoodHive/clean_data/train_clean.csv\", index=False)\n",
    "val_GE.to_csv(\"/content/MoodHive/clean_data/val_clean.csv\", index=False)\n",
    "test_GE.to_csv(\"/content/MoodHive/clean_data/test_clean.csv\", index=False)\n"
   ]
  },
  {
   "cell_type": "code",
   "execution_count": null,
   "metadata": {},
   "outputs": [],
   "source": []
  }
 ],
 "metadata": {
  "colab": {
   "authorship_tag": "ABX9TyMfrhaDejrC3OZZR3laztgw",
   "collapsed_sections": [],
   "name": "1_EDA_Preprocessing.ipynb",
   "provenance": [],
   "toc_visible": true
  },
  "kernelspec": {
   "display_name": "Python 3 (ipykernel)",
   "language": "python",
   "name": "python3"
  },
  "language_info": {
   "codemirror_mode": {
    "name": "ipython",
    "version": 3
   },
   "file_extension": ".py",
   "mimetype": "text/x-python",
   "name": "python",
   "nbconvert_exporter": "python",
   "pygments_lexer": "ipython3",
   "version": "3.9.13"
  }
 },
 "nbformat": 4,
 "nbformat_minor": 1
}
